{
 "cells": [
  {
   "cell_type": "code",
   "execution_count": 1,
   "id": "e90212ea-4805-430c-8f2c-894b7e1249ee",
   "metadata": {},
   "outputs": [],
   "source": [
    "import numpy as np\n",
    "import matplotlib.pyplot as plt #for displaying plots\n",
    "import pandas as pd\n",
    "import seaborn as sns\n",
    "import tensorflow as tf\n",
    "import datetime\n",
    "import random"
   ]
  },
  {
   "cell_type": "code",
   "execution_count": 2,
   "id": "80a4b88d-0287-418f-a465-26787716209d",
   "metadata": {},
   "outputs": [],
   "source": [
    "# setting a seed to ensure reproducability and consistency\n",
    "random.seed(16)\n",
    "np.random.seed(16)\n",
    "tf.random.set_seed(16)"
   ]
  },
  {
   "cell_type": "code",
   "execution_count": 3,
   "id": "c71856a7",
   "metadata": {},
   "outputs": [],
   "source": [
    "plt.rcParams.update({'font.size': 13})"
   ]
  },
  {
   "cell_type": "markdown",
   "id": "f002e8e9-02c9-4358-92fc-b52e6ad5fdf0",
   "metadata": {},
   "source": [
    "This notebook will mainly focus on data exploration and \"enhancement\".\n",
    "- looking at outliers (but not doing anything with them)\n",
    "- looking for duplicates\n",
    "- looking for NaN values\n",
    "- \"Enhancements\"\n",
    "    - adding columns for school holidays, public holidays and holidays\n",
    "    - adding columns for workday\n",
    "    - adding a column with lockdown information"
   ]
  },
  {
   "cell_type": "markdown",
   "id": "0194bbe0-52d4-477d-82df-aa61ca252107",
   "metadata": {},
   "source": [
    "# Uploading the Data\n",
    "\n",
    "#### Data Set Information:\n",
    "\n",
    "Bicycle data in Karlsruhe, Germany.\n",
    "\n",
    "#### Attribute Information\n",
    "- `bike_count`: Number of bikes, which drove by the counting station during the day\n",
    "\n",
    "- `temperature`: Temperature in °C\n",
    "\n",
    "- `humidity`: Relative humidity in %\n",
    "\n",
    "- `windspeed`: Windspeed in m/s, faulty values = -999\n",
    "\n",
    "- `wind_direction`: Wind direction in °, faulty values = -999\n",
    "\n",
    "- `precipitation`: Precipitation in mm (hourly sum)\n",
    "\n",
    "- `precip_ind`: Precipitation indicator\n",
    "  - 0 = no\n",
    "  - 1 = yes\n",
    "  - -999 = faulty\n",
    "\n",
    "- `precip_type`:\n",
    "  - 0 = no precipitation (conventional or automatic measurement)\n",
    "  - 1 = just rain (in historical data before 01.01.1979)\n",
    "  - 4 = Precipitation form unknown, although precipitation reported; Form of falling and deposited precipitation cannot be clearly determined with automatic measurement\n",
    "  - 6 = Only rain; liquid precipitation in automatic measurement\n",
    "  - 7 = Only snow; solid precipitation in automatic measurement\n",
    "  - 8 = Rain and snow and/or sleet; liquid and solid precipitation in automatic measurement\n",
    "  - 9 = Misidentification; missing value or precipitation form not determinable with automatic measurement\n",
    "  - -999 = Faulty value\n",
    "\n",
    "- `sun`: Hourly sunshine duration in minutes, Faulty value = -999 (Hourly sum)\n",
    "\n",
    "- `visibility`: Visibility in \n",
    "\n",
    "Notiz: precip type und precip indicator wurden mit dem median auf den tag angepasstmeters, Faulty values = -999\n",
    "V.Sichtweite: Sichtwe eprüft, gepflegt, nicht korrigiert;"
   ]
  },
  {
   "cell_type": "code",
   "execution_count": 4,
   "id": "4716c64b-4719-4c7a-8360-ce3e3d15472d",
   "metadata": {},
   "outputs": [],
   "source": [
    "df_weather = pd.read_csv(r\"C:\\Users\\aisti\\OneDrive\\Dokumente\\Uni\\Bachelorarbeit\\Daten\\2012-04-25_2024-01-25_KA_weather_daily.csv\")"
   ]
  },
  {
   "cell_type": "code",
   "execution_count": 5,
   "id": "61191d38-4b32-49ed-9a24-5f51bf7b8d4a",
   "metadata": {},
   "outputs": [
    {
     "data": {
      "text/plain": [
       "Index(['date', 'temperature', 'humidity', 'windspeed', 'wind_direction',\n",
       "       'visibility', 'precipitation', 'sun', 'windspeed_max', 'precip_indic',\n",
       "       'precip_type'],\n",
       "      dtype='object')"
      ]
     },
     "execution_count": 5,
     "metadata": {},
     "output_type": "execute_result"
    }
   ],
   "source": [
    "df_weather.columns"
   ]
  },
  {
   "cell_type": "code",
   "execution_count": 6,
   "id": "4e72f2d9-64b1-492b-8d5f-d6034374f007",
   "metadata": {},
   "outputs": [
    {
     "data": {
      "text/plain": [
       "date               object\n",
       "temperature       float64\n",
       "humidity          float64\n",
       "windspeed         float64\n",
       "wind_direction    float64\n",
       "visibility        float64\n",
       "precipitation     float64\n",
       "sun                 int64\n",
       "windspeed_max     float64\n",
       "precip_indic      float64\n",
       "precip_type       float64\n",
       "dtype: object"
      ]
     },
     "execution_count": 6,
     "metadata": {},
     "output_type": "execute_result"
    }
   ],
   "source": [
    "df_weather.dtypes"
   ]
  },
  {
   "cell_type": "code",
   "execution_count": 7,
   "id": "cc121e72-56cc-4b91-9c67-eceacd6d2e8d",
   "metadata": {},
   "outputs": [
    {
     "data": {
      "text/html": [
       "<div>\n",
       "<style scoped>\n",
       "    .dataframe tbody tr th:only-of-type {\n",
       "        vertical-align: middle;\n",
       "    }\n",
       "\n",
       "    .dataframe tbody tr th {\n",
       "        vertical-align: top;\n",
       "    }\n",
       "\n",
       "    .dataframe thead th {\n",
       "        text-align: right;\n",
       "    }\n",
       "</style>\n",
       "<table border=\"1\" class=\"dataframe\">\n",
       "  <thead>\n",
       "    <tr style=\"text-align: right;\">\n",
       "      <th></th>\n",
       "      <th>temperature</th>\n",
       "      <th>humidity</th>\n",
       "      <th>windspeed</th>\n",
       "      <th>wind_direction</th>\n",
       "      <th>visibility</th>\n",
       "      <th>precipitation</th>\n",
       "      <th>sun</th>\n",
       "      <th>windspeed_max</th>\n",
       "      <th>precip_indic</th>\n",
       "      <th>precip_type</th>\n",
       "    </tr>\n",
       "  </thead>\n",
       "  <tbody>\n",
       "    <tr>\n",
       "      <th>count</th>\n",
       "      <td>4291.000000</td>\n",
       "      <td>4291.000000</td>\n",
       "      <td>4291.000000</td>\n",
       "      <td>4291.000000</td>\n",
       "      <td>4291.000000</td>\n",
       "      <td>4291.000000</td>\n",
       "      <td>4291.000000</td>\n",
       "      <td>4291.000000</td>\n",
       "      <td>4288.000000</td>\n",
       "      <td>4106.000000</td>\n",
       "    </tr>\n",
       "    <tr>\n",
       "      <th>mean</th>\n",
       "      <td>12.538591</td>\n",
       "      <td>73.092589</td>\n",
       "      <td>3.475722</td>\n",
       "      <td>176.768780</td>\n",
       "      <td>34281.616807</td>\n",
       "      <td>1.539361</td>\n",
       "      <td>309.323701</td>\n",
       "      <td>9.544232</td>\n",
       "      <td>0.191814</td>\n",
       "      <td>1.204822</td>\n",
       "    </tr>\n",
       "    <tr>\n",
       "      <th>std</th>\n",
       "      <td>7.636231</td>\n",
       "      <td>14.120612</td>\n",
       "      <td>1.816690</td>\n",
       "      <td>69.225224</td>\n",
       "      <td>16381.273131</td>\n",
       "      <td>3.911284</td>\n",
       "      <td>280.267835</td>\n",
       "      <td>3.956637</td>\n",
       "      <td>0.384103</td>\n",
       "      <td>2.355714</td>\n",
       "    </tr>\n",
       "    <tr>\n",
       "      <th>min</th>\n",
       "      <td>-7.827778</td>\n",
       "      <td>31.277778</td>\n",
       "      <td>0.600000</td>\n",
       "      <td>16.666667</td>\n",
       "      <td>207.777778</td>\n",
       "      <td>0.000000</td>\n",
       "      <td>0.000000</td>\n",
       "      <td>2.000000</td>\n",
       "      <td>0.000000</td>\n",
       "      <td>0.000000</td>\n",
       "    </tr>\n",
       "    <tr>\n",
       "      <th>25%</th>\n",
       "      <td>6.427778</td>\n",
       "      <td>62.611111</td>\n",
       "      <td>2.144444</td>\n",
       "      <td>129.722222</td>\n",
       "      <td>21317.777778</td>\n",
       "      <td>0.000000</td>\n",
       "      <td>33.000000</td>\n",
       "      <td>7.000000</td>\n",
       "      <td>0.000000</td>\n",
       "      <td>0.000000</td>\n",
       "    </tr>\n",
       "    <tr>\n",
       "      <th>50%</th>\n",
       "      <td>12.450000</td>\n",
       "      <td>74.666667</td>\n",
       "      <td>3.122222</td>\n",
       "      <td>206.666667</td>\n",
       "      <td>35432.222222</td>\n",
       "      <td>0.000000</td>\n",
       "      <td>246.000000</td>\n",
       "      <td>9.000000</td>\n",
       "      <td>0.000000</td>\n",
       "      <td>0.000000</td>\n",
       "    </tr>\n",
       "    <tr>\n",
       "      <th>75%</th>\n",
       "      <td>18.705556</td>\n",
       "      <td>84.111111</td>\n",
       "      <td>4.355556</td>\n",
       "      <td>228.888889</td>\n",
       "      <td>46983.611111</td>\n",
       "      <td>1.000000</td>\n",
       "      <td>548.000000</td>\n",
       "      <td>11.700000</td>\n",
       "      <td>0.000000</td>\n",
       "      <td>0.000000</td>\n",
       "    </tr>\n",
       "    <tr>\n",
       "      <th>max</th>\n",
       "      <td>31.794444</td>\n",
       "      <td>100.000000</td>\n",
       "      <td>12.233333</td>\n",
       "      <td>340.000000</td>\n",
       "      <td>71937.777778</td>\n",
       "      <td>58.300000</td>\n",
       "      <td>909.000000</td>\n",
       "      <td>31.000000</td>\n",
       "      <td>1.000000</td>\n",
       "      <td>8.000000</td>\n",
       "    </tr>\n",
       "  </tbody>\n",
       "</table>\n",
       "</div>"
      ],
      "text/plain": [
       "       temperature     humidity    windspeed  wind_direction    visibility  \\\n",
       "count  4291.000000  4291.000000  4291.000000     4291.000000   4291.000000   \n",
       "mean     12.538591    73.092589     3.475722      176.768780  34281.616807   \n",
       "std       7.636231    14.120612     1.816690       69.225224  16381.273131   \n",
       "min      -7.827778    31.277778     0.600000       16.666667    207.777778   \n",
       "25%       6.427778    62.611111     2.144444      129.722222  21317.777778   \n",
       "50%      12.450000    74.666667     3.122222      206.666667  35432.222222   \n",
       "75%      18.705556    84.111111     4.355556      228.888889  46983.611111   \n",
       "max      31.794444   100.000000    12.233333      340.000000  71937.777778   \n",
       "\n",
       "       precipitation          sun  windspeed_max  precip_indic  precip_type  \n",
       "count    4291.000000  4291.000000    4291.000000   4288.000000  4106.000000  \n",
       "mean        1.539361   309.323701       9.544232      0.191814     1.204822  \n",
       "std         3.911284   280.267835       3.956637      0.384103     2.355714  \n",
       "min         0.000000     0.000000       2.000000      0.000000     0.000000  \n",
       "25%         0.000000    33.000000       7.000000      0.000000     0.000000  \n",
       "50%         0.000000   246.000000       9.000000      0.000000     0.000000  \n",
       "75%         1.000000   548.000000      11.700000      0.000000     0.000000  \n",
       "max        58.300000   909.000000      31.000000      1.000000     8.000000  "
      ]
     },
     "execution_count": 7,
     "metadata": {},
     "output_type": "execute_result"
    }
   ],
   "source": [
    "df_weather.describe()"
   ]
  },
  {
   "cell_type": "code",
   "execution_count": 8,
   "id": "e1945943",
   "metadata": {},
   "outputs": [
    {
     "data": {
      "text/plain": [
       "date                0\n",
       "temperature         0\n",
       "humidity            0\n",
       "windspeed           0\n",
       "wind_direction      0\n",
       "visibility          0\n",
       "precipitation       0\n",
       "sun                 0\n",
       "windspeed_max       0\n",
       "precip_indic        3\n",
       "precip_type       185\n",
       "dtype: int64"
      ]
     },
     "execution_count": 8,
     "metadata": {},
     "output_type": "execute_result"
    }
   ],
   "source": [
    "df_weather.isna().sum()"
   ]
  },
  {
   "cell_type": "code",
   "execution_count": 9,
   "id": "29649277",
   "metadata": {},
   "outputs": [
    {
     "name": "stdout",
     "output_type": "stream",
     "text": [
      "Missing dates:\n",
      "DatetimeIndex(['2018-04-15', '2018-04-16'], dtype='datetime64[ns]', freq='D')\n"
     ]
    },
    {
     "name": "stderr",
     "output_type": "stream",
     "text": [
      "C:\\Users\\aisti\\AppData\\Local\\Temp\\ipykernel_28300\\2856225954.py:5: FutureWarning: The behavior of 'isin' with dtype=datetime64[ns] and castable values (e.g. strings) is deprecated. In a future version, these will not be considered matching by isin. Explicitly cast to the appropriate dtype before calling isin instead.\n",
      "  missing_dates = complete_range[~complete_range.isin(df_weather['date'])]\n"
     ]
    }
   ],
   "source": [
    "# Generate a complete range of dates spanning the desired period\n",
    "complete_range = pd.date_range(start=df_weather['date'].min(), end=df_weather['date'].max(), freq='D')\n",
    "\n",
    "# Find the missing dates by comparing the complete range with the actual dates in the DataFrame\n",
    "missing_dates = complete_range[~complete_range.isin(df_weather['date'])]\n",
    "\n",
    "# Print the missing dates\n",
    "print(\"Missing dates:\")\n",
    "print(missing_dates)"
   ]
  },
  {
   "cell_type": "code",
   "execution_count": null,
   "id": "a2f826de",
   "metadata": {},
   "outputs": [],
   "source": []
  }
 ],
 "metadata": {
  "kernelspec": {
   "display_name": "base",
   "language": "python",
   "name": "python3"
  },
  "language_info": {
   "codemirror_mode": {
    "name": "ipython",
    "version": 3
   },
   "file_extension": ".py",
   "mimetype": "text/x-python",
   "name": "python",
   "nbconvert_exporter": "python",
   "pygments_lexer": "ipython3",
   "version": "3.12.7"
  }
 },
 "nbformat": 4,
 "nbformat_minor": 5
}
