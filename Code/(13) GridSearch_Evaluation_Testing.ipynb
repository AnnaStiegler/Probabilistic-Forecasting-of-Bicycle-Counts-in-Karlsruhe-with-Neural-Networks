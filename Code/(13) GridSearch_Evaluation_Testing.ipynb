{
 "cells": [
  {
   "cell_type": "markdown",
   "metadata": {},
   "source": [
    "# Setup"
   ]
  },
  {
   "cell_type": "markdown",
   "metadata": {},
   "source": [
    "## Basic Setup"
   ]
  },
  {
   "cell_type": "code",
   "execution_count": 1,
   "metadata": {},
   "outputs": [],
   "source": [
    "import numpy as np\n",
    "import matplotlib.pyplot as plt #for displaying plots\n",
    "import pandas as pd\n",
    "import seaborn as sns\n",
    "import tensorflow as tf\n",
    "\n",
    "from keras.layers import *\n",
    "from keras.models import Sequential\n",
    "from keras.models import Model\n",
    "from keras.optimizers import *\n",
    "from keras.callbacks import *\n",
    "from keras import regularizers\n",
    "from keras.utils import plot_model\n",
    "\n",
    "from tensorflow.keras.saving import register_keras_serializable\n",
    "\n",
    "from sklearn.preprocessing import StandardScaler, OneHotEncoder\n",
    "from sklearn.inspection import permutation_importance\n",
    "from sklearn import svm, datasets\n",
    "from sklearn.model_selection import GridSearchCV\n",
    "from sklearn.metrics import make_scorer\n",
    "import datetime\n",
    "import random\n",
    "import properscoring as ps\n",
    "\n",
    "from scipy.stats import norm\n",
    "from scikeras.wrappers import KerasRegressor\n",
    "\n",
    "import xgboost\n",
    "import pydot\n",
    "import graphviz\n",
    "\n",
    "from keras.models import load_model\n",
    "from sklearn.multioutput import MultiOutputRegressor\n",
    "import pickle\n",
    "\n",
    "from sklearn.model_selection import ParameterGrid\n",
    "from pathlib import Path\n",
    "import joblib"
   ]
  },
  {
   "cell_type": "code",
   "execution_count": 2,
   "metadata": {},
   "outputs": [],
   "source": [
    "# setting a seed to ensure reproducability and consistency\n",
    "random.seed(16)\n",
    "np.random.seed(16)\n",
    "tf.random.set_seed(16)"
   ]
  },
  {
   "cell_type": "code",
   "execution_count": null,
   "metadata": {},
   "outputs": [],
   "source": [
    "# Change Working Directory\n",
    "os.chdir(\"..\")\n",
    "print(os.getcwd()) # print current working directory"
   ]
  },
  {
   "cell_type": "code",
   "execution_count": null,
   "metadata": {},
   "outputs": [],
   "source": [
    "plt.rcParams.update({'font.size': 14})"
   ]
  },
  {
   "cell_type": "code",
   "execution_count": null,
   "metadata": {},
   "outputs": [],
   "source": [
    "X_train = pd.read_pickle(r\"data\\X_train_final.pkl\")\n",
    "X_valid = pd.read_pickle(r\"data\\X_valid_final.pkl\")\n",
    "X_test = pd.read_pickle(r\"data\\X_test_final.pkl\")\n",
    "\n",
    "y_train = pd.read_pickle(r\"data\\y_train_final.pkl\")\n",
    "y_valid = pd.read_pickle(r\"data\\y_valid_final.pkl\")\n",
    "y_test = pd.read_pickle(r\"data\\y_test_final.pkl\")\n"
   ]
  },
  {
   "cell_type": "code",
   "execution_count": 4,
   "metadata": {},
   "outputs": [
    {
     "data": {
      "text/html": [
       "<div>\n",
       "<style scoped>\n",
       "    .dataframe tbody tr th:only-of-type {\n",
       "        vertical-align: middle;\n",
       "    }\n",
       "\n",
       "    .dataframe tbody tr th {\n",
       "        vertical-align: top;\n",
       "    }\n",
       "\n",
       "    .dataframe thead th {\n",
       "        text-align: right;\n",
       "    }\n",
       "</style>\n",
       "<table border=\"1\" class=\"dataframe\">\n",
       "  <thead>\n",
       "    <tr style=\"text-align: right;\">\n",
       "      <th></th>\n",
       "      <th>temperature</th>\n",
       "      <th>precipitation</th>\n",
       "      <th>public_holiday_indicator</th>\n",
       "      <th>is_workday</th>\n",
       "      <th>day_of_week</th>\n",
       "      <th>spring</th>\n",
       "      <th>summer</th>\n",
       "      <th>autumn</th>\n",
       "      <th>winter</th>\n",
       "      <th>windspeed</th>\n",
       "      <th>sun</th>\n",
       "      <th>school_holiday_indicator</th>\n",
       "    </tr>\n",
       "  </thead>\n",
       "  <tbody>\n",
       "    <tr>\n",
       "      <th>0</th>\n",
       "      <td>-0.039776</td>\n",
       "      <td>-0.397192</td>\n",
       "      <td>0</td>\n",
       "      <td>1</td>\n",
       "      <td>2</td>\n",
       "      <td>1.0</td>\n",
       "      <td>0.0</td>\n",
       "      <td>0.0</td>\n",
       "      <td>0.0</td>\n",
       "      <td>-0.218119</td>\n",
       "      <td>-0.031329</td>\n",
       "      <td>0</td>\n",
       "    </tr>\n",
       "    <tr>\n",
       "      <th>1</th>\n",
       "      <td>0.244625</td>\n",
       "      <td>-0.397192</td>\n",
       "      <td>0</td>\n",
       "      <td>1</td>\n",
       "      <td>3</td>\n",
       "      <td>1.0</td>\n",
       "      <td>0.0</td>\n",
       "      <td>0.0</td>\n",
       "      <td>0.0</td>\n",
       "      <td>-0.324284</td>\n",
       "      <td>-0.458165</td>\n",
       "      <td>0</td>\n",
       "    </tr>\n",
       "    <tr>\n",
       "      <th>2</th>\n",
       "      <td>0.381694</td>\n",
       "      <td>-0.371451</td>\n",
       "      <td>0</td>\n",
       "      <td>1</td>\n",
       "      <td>4</td>\n",
       "      <td>1.0</td>\n",
       "      <td>0.0</td>\n",
       "      <td>0.0</td>\n",
       "      <td>0.0</td>\n",
       "      <td>-1.076810</td>\n",
       "      <td>0.254435</td>\n",
       "      <td>0</td>\n",
       "    </tr>\n",
       "    <tr>\n",
       "      <th>3</th>\n",
       "      <td>1.300863</td>\n",
       "      <td>-0.397192</td>\n",
       "      <td>0</td>\n",
       "      <td>0</td>\n",
       "      <td>5</td>\n",
       "      <td>1.0</td>\n",
       "      <td>0.0</td>\n",
       "      <td>0.0</td>\n",
       "      <td>0.0</td>\n",
       "      <td>-0.405469</td>\n",
       "      <td>1.357699</td>\n",
       "      <td>0</td>\n",
       "    </tr>\n",
       "    <tr>\n",
       "      <th>4</th>\n",
       "      <td>0.745990</td>\n",
       "      <td>0.555250</td>\n",
       "      <td>0</td>\n",
       "      <td>0</td>\n",
       "      <td>6</td>\n",
       "      <td>1.0</td>\n",
       "      <td>0.0</td>\n",
       "      <td>0.0</td>\n",
       "      <td>0.0</td>\n",
       "      <td>0.297096</td>\n",
       "      <td>0.059103</td>\n",
       "      <td>0</td>\n",
       "    </tr>\n",
       "  </tbody>\n",
       "</table>\n",
       "</div>"
      ],
      "text/plain": [
       "   temperature  precipitation  public_holiday_indicator  is_workday  \\\n",
       "0    -0.039776      -0.397192                         0           1   \n",
       "1     0.244625      -0.397192                         0           1   \n",
       "2     0.381694      -0.371451                         0           1   \n",
       "3     1.300863      -0.397192                         0           0   \n",
       "4     0.745990       0.555250                         0           0   \n",
       "\n",
       "   day_of_week  spring  summer  autumn  winter  windspeed       sun  \\\n",
       "0            2     1.0     0.0     0.0     0.0  -0.218119 -0.031329   \n",
       "1            3     1.0     0.0     0.0     0.0  -0.324284 -0.458165   \n",
       "2            4     1.0     0.0     0.0     0.0  -1.076810  0.254435   \n",
       "3            5     1.0     0.0     0.0     0.0  -0.405469  1.357699   \n",
       "4            6     1.0     0.0     0.0     0.0   0.297096  0.059103   \n",
       "\n",
       "   school_holiday_indicator  \n",
       "0                         0  \n",
       "1                         0  \n",
       "2                         0  \n",
       "3                         0  \n",
       "4                         0  "
      ]
     },
     "execution_count": 4,
     "metadata": {},
     "output_type": "execute_result"
    }
   ],
   "source": [
    "X_train.head()"
   ]
  },
  {
   "cell_type": "code",
   "execution_count": 5,
   "metadata": {},
   "outputs": [
    {
     "data": {
      "text/html": [
       "<div>\n",
       "<style scoped>\n",
       "    .dataframe tbody tr th:only-of-type {\n",
       "        vertical-align: middle;\n",
       "    }\n",
       "\n",
       "    .dataframe tbody tr th {\n",
       "        vertical-align: top;\n",
       "    }\n",
       "\n",
       "    .dataframe thead th {\n",
       "        text-align: right;\n",
       "    }\n",
       "</style>\n",
       "<table border=\"1\" class=\"dataframe\">\n",
       "  <thead>\n",
       "    <tr style=\"text-align: right;\">\n",
       "      <th></th>\n",
       "      <th>temperature</th>\n",
       "      <th>precipitation</th>\n",
       "      <th>public_holiday_indicator</th>\n",
       "      <th>is_workday</th>\n",
       "      <th>day_of_week</th>\n",
       "      <th>spring</th>\n",
       "      <th>summer</th>\n",
       "      <th>autumn</th>\n",
       "      <th>winter</th>\n",
       "      <th>windspeed</th>\n",
       "      <th>sun</th>\n",
       "      <th>school_holiday_indicator</th>\n",
       "    </tr>\n",
       "  </thead>\n",
       "  <tbody>\n",
       "    <tr>\n",
       "      <th>359</th>\n",
       "      <td>-1.064496</td>\n",
       "      <td>-0.397192</td>\n",
       "      <td>0</td>\n",
       "      <td>1</td>\n",
       "      <td>1</td>\n",
       "      <td>0.0</td>\n",
       "      <td>0.0</td>\n",
       "      <td>0.0</td>\n",
       "      <td>1.0</td>\n",
       "      <td>-0.258711</td>\n",
       "      <td>-0.353265</td>\n",
       "      <td>1</td>\n",
       "    </tr>\n",
       "    <tr>\n",
       "      <th>360</th>\n",
       "      <td>-0.478837</td>\n",
       "      <td>-0.397192</td>\n",
       "      <td>0</td>\n",
       "      <td>1</td>\n",
       "      <td>2</td>\n",
       "      <td>0.0</td>\n",
       "      <td>0.0</td>\n",
       "      <td>0.0</td>\n",
       "      <td>1.0</td>\n",
       "      <td>1.087091</td>\n",
       "      <td>-0.823509</td>\n",
       "      <td>1</td>\n",
       "    </tr>\n",
       "    <tr>\n",
       "      <th>361</th>\n",
       "      <td>-0.104279</td>\n",
       "      <td>0.143383</td>\n",
       "      <td>0</td>\n",
       "      <td>1</td>\n",
       "      <td>3</td>\n",
       "      <td>0.0</td>\n",
       "      <td>0.0</td>\n",
       "      <td>0.0</td>\n",
       "      <td>1.0</td>\n",
       "      <td>2.276769</td>\n",
       "      <td>-0.913940</td>\n",
       "      <td>1</td>\n",
       "    </tr>\n",
       "    <tr>\n",
       "      <th>362</th>\n",
       "      <td>-0.691404</td>\n",
       "      <td>0.169125</td>\n",
       "      <td>0</td>\n",
       "      <td>1</td>\n",
       "      <td>4</td>\n",
       "      <td>0.0</td>\n",
       "      <td>0.0</td>\n",
       "      <td>0.0</td>\n",
       "      <td>1.0</td>\n",
       "      <td>-0.674006</td>\n",
       "      <td>-0.508807</td>\n",
       "      <td>1</td>\n",
       "    </tr>\n",
       "    <tr>\n",
       "      <th>363</th>\n",
       "      <td>0.541485</td>\n",
       "      <td>-0.397192</td>\n",
       "      <td>0</td>\n",
       "      <td>0</td>\n",
       "      <td>5</td>\n",
       "      <td>0.0</td>\n",
       "      <td>0.0</td>\n",
       "      <td>0.0</td>\n",
       "      <td>1.0</td>\n",
       "      <td>1.564836</td>\n",
       "      <td>-0.201340</td>\n",
       "      <td>1</td>\n",
       "    </tr>\n",
       "  </tbody>\n",
       "</table>\n",
       "</div>"
      ],
      "text/plain": [
       "     temperature  precipitation  public_holiday_indicator  is_workday  \\\n",
       "359    -1.064496      -0.397192                         0           1   \n",
       "360    -0.478837      -0.397192                         0           1   \n",
       "361    -0.104279       0.143383                         0           1   \n",
       "362    -0.691404       0.169125                         0           1   \n",
       "363     0.541485      -0.397192                         0           0   \n",
       "\n",
       "     day_of_week  spring  summer  autumn  winter  windspeed       sun  \\\n",
       "359            1     0.0     0.0     0.0     1.0  -0.258711 -0.353265   \n",
       "360            2     0.0     0.0     0.0     1.0   1.087091 -0.823509   \n",
       "361            3     0.0     0.0     0.0     1.0   2.276769 -0.913940   \n",
       "362            4     0.0     0.0     0.0     1.0  -0.674006 -0.508807   \n",
       "363            5     0.0     0.0     0.0     1.0   1.564836 -0.201340   \n",
       "\n",
       "     school_holiday_indicator  \n",
       "359                         1  \n",
       "360                         1  \n",
       "361                         1  \n",
       "362                         1  \n",
       "363                         1  "
      ]
     },
     "execution_count": 5,
     "metadata": {},
     "output_type": "execute_result"
    }
   ],
   "source": [
    "X_valid.tail()"
   ]
  },
  {
   "cell_type": "code",
   "execution_count": 6,
   "metadata": {},
   "outputs": [
    {
     "data": {
      "text/plain": [
       "0    1160.0\n",
       "1    2996.0\n",
       "2    3635.0\n",
       "3    3265.0\n",
       "4    3751.0\n",
       "Name: bike_count, dtype: float64"
      ]
     },
     "execution_count": 6,
     "metadata": {},
     "output_type": "execute_result"
    }
   ],
   "source": [
    "y_test.head()"
   ]
  },
  {
   "cell_type": "code",
   "execution_count": 7,
   "metadata": {},
   "outputs": [
    {
     "data": {
      "text/plain": [
       "((3161, 12), (364, 12), (390, 12))"
      ]
     },
     "execution_count": 7,
     "metadata": {},
     "output_type": "execute_result"
    }
   ],
   "source": [
    "X_train.shape, X_valid.shape, X_test.shape"
   ]
  },
  {
   "cell_type": "code",
   "execution_count": 8,
   "metadata": {},
   "outputs": [
    {
     "data": {
      "text/plain": [
       "((3161,), (364,), (390,))"
      ]
     },
     "execution_count": 8,
     "metadata": {},
     "output_type": "execute_result"
    }
   ],
   "source": [
    "y_train.shape, y_valid.shape, y_test.shape"
   ]
  },
  {
   "cell_type": "code",
   "execution_count": 9,
   "metadata": {},
   "outputs": [],
   "source": [
    "y_train = y_train.reset_index(drop=True)\n",
    "y_valid = y_valid.reset_index(drop=True)\n",
    "y_test = y_test.reset_index(drop=True)"
   ]
  },
  {
   "cell_type": "code",
   "execution_count": 10,
   "metadata": {},
   "outputs": [
    {
     "data": {
      "text/plain": [
       "((3161,), (364,), (390,))"
      ]
     },
     "execution_count": 10,
     "metadata": {},
     "output_type": "execute_result"
    }
   ],
   "source": [
    "y_train.shape, y_valid.shape, y_test.shape"
   ]
  },
  {
   "cell_type": "code",
   "execution_count": 11,
   "metadata": {},
   "outputs": [
    {
     "data": {
      "text/plain": [
       "temperature                 0\n",
       "precipitation               0\n",
       "public_holiday_indicator    0\n",
       "is_workday                  0\n",
       "day_of_week                 0\n",
       "spring                      0\n",
       "summer                      0\n",
       "autumn                      0\n",
       "winter                      0\n",
       "windspeed                   0\n",
       "sun                         0\n",
       "school_holiday_indicator    0\n",
       "dtype: int64"
      ]
     },
     "execution_count": 11,
     "metadata": {},
     "output_type": "execute_result"
    }
   ],
   "source": [
    "X_train.isna().sum()"
   ]
  },
  {
   "cell_type": "code",
   "execution_count": 12,
   "metadata": {},
   "outputs": [
    {
     "data": {
      "text/plain": [
       "temperature                 float64\n",
       "precipitation               float64\n",
       "public_holiday_indicator      int64\n",
       "is_workday                    int64\n",
       "day_of_week                   int64\n",
       "spring                      float64\n",
       "summer                      float64\n",
       "autumn                      float64\n",
       "winter                      float64\n",
       "windspeed                   float64\n",
       "sun                         float64\n",
       "school_holiday_indicator      int64\n",
       "dtype: object"
      ]
     },
     "execution_count": 12,
     "metadata": {},
     "output_type": "execute_result"
    }
   ],
   "source": [
    "X_train.dtypes"
   ]
  },
  {
   "cell_type": "code",
   "execution_count": 13,
   "metadata": {},
   "outputs": [
    {
     "data": {
      "text/html": [
       "<div>\n",
       "<style scoped>\n",
       "    .dataframe tbody tr th:only-of-type {\n",
       "        vertical-align: middle;\n",
       "    }\n",
       "\n",
       "    .dataframe tbody tr th {\n",
       "        vertical-align: top;\n",
       "    }\n",
       "\n",
       "    .dataframe thead th {\n",
       "        text-align: right;\n",
       "    }\n",
       "</style>\n",
       "<table border=\"1\" class=\"dataframe\">\n",
       "  <thead>\n",
       "    <tr style=\"text-align: right;\">\n",
       "      <th></th>\n",
       "      <th>temperature</th>\n",
       "      <th>precipitation</th>\n",
       "      <th>public_holiday_indicator</th>\n",
       "      <th>is_workday</th>\n",
       "      <th>day_of_week</th>\n",
       "      <th>spring</th>\n",
       "      <th>summer</th>\n",
       "      <th>autumn</th>\n",
       "      <th>winter</th>\n",
       "      <th>windspeed</th>\n",
       "      <th>sun</th>\n",
       "      <th>school_holiday_indicator</th>\n",
       "    </tr>\n",
       "  </thead>\n",
       "  <tbody>\n",
       "    <tr>\n",
       "      <th>count</th>\n",
       "      <td>3.161000e+03</td>\n",
       "      <td>3.161000e+03</td>\n",
       "      <td>3161.000000</td>\n",
       "      <td>3161.000000</td>\n",
       "      <td>3161.000000</td>\n",
       "      <td>3161.000000</td>\n",
       "      <td>3161.000000</td>\n",
       "      <td>3161.000000</td>\n",
       "      <td>3161.000000</td>\n",
       "      <td>3.161000e+03</td>\n",
       "      <td>3.161000e+03</td>\n",
       "      <td>3161.000000</td>\n",
       "    </tr>\n",
       "    <tr>\n",
       "      <th>mean</th>\n",
       "      <td>4.450726e-16</td>\n",
       "      <td>3.708939e-17</td>\n",
       "      <td>0.033534</td>\n",
       "      <td>0.684910</td>\n",
       "      <td>3.001898</td>\n",
       "      <td>0.243277</td>\n",
       "      <td>0.259412</td>\n",
       "      <td>0.259095</td>\n",
       "      <td>0.238216</td>\n",
       "      <td>4.832859e-17</td>\n",
       "      <td>4.720467e-17</td>\n",
       "      <td>0.232521</td>\n",
       "    </tr>\n",
       "    <tr>\n",
       "      <th>std</th>\n",
       "      <td>1.000158e+00</td>\n",
       "      <td>1.000158e+00</td>\n",
       "      <td>0.180054</td>\n",
       "      <td>0.464625</td>\n",
       "      <td>2.001106</td>\n",
       "      <td>0.429129</td>\n",
       "      <td>0.438381</td>\n",
       "      <td>0.438207</td>\n",
       "      <td>0.426059</td>\n",
       "      <td>1.000158e+00</td>\n",
       "      <td>1.000158e+00</td>\n",
       "      <td>0.422506</td>\n",
       "    </tr>\n",
       "    <tr>\n",
       "      <th>min</th>\n",
       "      <td>-2.660948e+00</td>\n",
       "      <td>-3.971923e-01</td>\n",
       "      <td>0.000000</td>\n",
       "      <td>0.000000</td>\n",
       "      <td>0.000000</td>\n",
       "      <td>0.000000</td>\n",
       "      <td>0.000000</td>\n",
       "      <td>0.000000</td>\n",
       "      <td>0.000000</td>\n",
       "      <td>-1.513961e+00</td>\n",
       "      <td>-1.094803e+00</td>\n",
       "      <td>0.000000</td>\n",
       "    </tr>\n",
       "    <tr>\n",
       "      <th>25%</th>\n",
       "      <td>-7.932892e-01</td>\n",
       "      <td>-3.971923e-01</td>\n",
       "      <td>0.000000</td>\n",
       "      <td>0.000000</td>\n",
       "      <td>1.000000</td>\n",
       "      <td>0.000000</td>\n",
       "      <td>0.000000</td>\n",
       "      <td>0.000000</td>\n",
       "      <td>0.000000</td>\n",
       "      <td>-7.364558e-01</td>\n",
       "      <td>-9.899026e-01</td>\n",
       "      <td>0.000000</td>\n",
       "    </tr>\n",
       "    <tr>\n",
       "      <th>50%</th>\n",
       "      <td>-9.270793e-04</td>\n",
       "      <td>-3.971923e-01</td>\n",
       "      <td>0.000000</td>\n",
       "      <td>1.000000</td>\n",
       "      <td>3.000000</td>\n",
       "      <td>0.000000</td>\n",
       "      <td>0.000000</td>\n",
       "      <td>0.000000</td>\n",
       "      <td>0.000000</td>\n",
       "      <td>-2.056287e-01</td>\n",
       "      <td>-2.085744e-01</td>\n",
       "      <td>0.000000</td>\n",
       "    </tr>\n",
       "    <tr>\n",
       "      <th>75%</th>\n",
       "      <td>7.907021e-01</td>\n",
       "      <td>-1.140338e-01</td>\n",
       "      <td>0.000000</td>\n",
       "      <td>1.000000</td>\n",
       "      <td>5.000000</td>\n",
       "      <td>0.000000</td>\n",
       "      <td>1.000000</td>\n",
       "      <td>1.000000</td>\n",
       "      <td>0.000000</td>\n",
       "      <td>4.969366e-01</td>\n",
       "      <td>8.585175e-01</td>\n",
       "      <td>0.000000</td>\n",
       "    </tr>\n",
       "    <tr>\n",
       "      <th>max</th>\n",
       "      <td>2.566737e+00</td>\n",
       "      <td>1.461021e+01</td>\n",
       "      <td>1.000000</td>\n",
       "      <td>1.000000</td>\n",
       "      <td>6.000000</td>\n",
       "      <td>1.000000</td>\n",
       "      <td>1.000000</td>\n",
       "      <td>1.000000</td>\n",
       "      <td>1.000000</td>\n",
       "      <td>4.952762e+00</td>\n",
       "      <td>2.193287e+00</td>\n",
       "      <td>1.000000</td>\n",
       "    </tr>\n",
       "  </tbody>\n",
       "</table>\n",
       "</div>"
      ],
      "text/plain": [
       "        temperature  precipitation  public_holiday_indicator   is_workday  \\\n",
       "count  3.161000e+03   3.161000e+03               3161.000000  3161.000000   \n",
       "mean   4.450726e-16   3.708939e-17                  0.033534     0.684910   \n",
       "std    1.000158e+00   1.000158e+00                  0.180054     0.464625   \n",
       "min   -2.660948e+00  -3.971923e-01                  0.000000     0.000000   \n",
       "25%   -7.932892e-01  -3.971923e-01                  0.000000     0.000000   \n",
       "50%   -9.270793e-04  -3.971923e-01                  0.000000     1.000000   \n",
       "75%    7.907021e-01  -1.140338e-01                  0.000000     1.000000   \n",
       "max    2.566737e+00   1.461021e+01                  1.000000     1.000000   \n",
       "\n",
       "       day_of_week       spring       summer       autumn       winter  \\\n",
       "count  3161.000000  3161.000000  3161.000000  3161.000000  3161.000000   \n",
       "mean      3.001898     0.243277     0.259412     0.259095     0.238216   \n",
       "std       2.001106     0.429129     0.438381     0.438207     0.426059   \n",
       "min       0.000000     0.000000     0.000000     0.000000     0.000000   \n",
       "25%       1.000000     0.000000     0.000000     0.000000     0.000000   \n",
       "50%       3.000000     0.000000     0.000000     0.000000     0.000000   \n",
       "75%       5.000000     0.000000     1.000000     1.000000     0.000000   \n",
       "max       6.000000     1.000000     1.000000     1.000000     1.000000   \n",
       "\n",
       "          windspeed           sun  school_holiday_indicator  \n",
       "count  3.161000e+03  3.161000e+03               3161.000000  \n",
       "mean   4.832859e-17  4.720467e-17                  0.232521  \n",
       "std    1.000158e+00  1.000158e+00                  0.422506  \n",
       "min   -1.513961e+00 -1.094803e+00                  0.000000  \n",
       "25%   -7.364558e-01 -9.899026e-01                  0.000000  \n",
       "50%   -2.056287e-01 -2.085744e-01                  0.000000  \n",
       "75%    4.969366e-01  8.585175e-01                  0.000000  \n",
       "max    4.952762e+00  2.193287e+00                  1.000000  "
      ]
     },
     "execution_count": 13,
     "metadata": {},
     "output_type": "execute_result"
    }
   ],
   "source": [
    "X_train.describe()"
   ]
  },
  {
   "cell_type": "markdown",
   "metadata": {},
   "source": [
    "## Functions"
   ]
  },
  {
   "cell_type": "code",
   "execution_count": 14,
   "metadata": {},
   "outputs": [],
   "source": [
    "def add_column(X_train_num, X_valid_num, X_test_num, X_train, X_valid, X_test, col_name):\n",
    "    \n",
    "    X_train_num[col_name] = X_train[col_name]\n",
    "    X_valid_num[col_name] = X_valid[col_name]\n",
    "    X_test_num[col_name] = X_test[col_name]\n",
    "    \n",
    "    return X_train_num, X_valid_num, X_test_num"
   ]
  },
  {
   "cell_type": "code",
   "execution_count": 15,
   "metadata": {},
   "outputs": [],
   "source": [
    "def crps_normal_cost_function(y_true, y_pred, tensor=True):\n",
    "    \"\"\"Compute the CRPS cost function for a normal distribution defined by\n",
    "    the mean and standard deviation.\n",
    "\n",
    "    Args:\n",
    "        y_true: True values\n",
    "        y_pred: Tensor containing predictions: [mean, std]\n",
    "\n",
    "    Returns:\n",
    "        mean_crps: Scalar with mean CRPS over batch or tensor with all crps values of batch\n",
    "    \"\"\"\n",
    "    # get rid of axis 1\n",
    "    if tensor:\n",
    "        y_true = y_true[:, 0]\n",
    "    \n",
    "    # Split input\n",
    "    mu = y_pred[:, 0]\n",
    "    var = tf.square(y_pred[:, 1]) # Ensure standard deviation is positive\n",
    "    sigma = tf.sqrt(var)  \n",
    "    #sigma = y_pred[:, 1]\n",
    "\n",
    "    # The following three variables are just for convenience\n",
    "    loc = (y_true - mu) / sigma\n",
    "    phi = 1.0 / tf.sqrt(2.0 * np.pi) * tf.exp(-tf.square(loc) / 2.0)\n",
    "    Phi = 0.5 * (1.0 + tf.math.erf(loc / tf.sqrt(2.0)))\n",
    "    # First we will compute the crps for each input/target pair\n",
    "    crps =  sigma * (loc * (2. * Phi - 1.) + 2 * phi - 1. / tf.sqrt(np.pi))\n",
    "    # Then we take the mean. The cost is now a scalar\n",
    "    return tf.reduce_mean(crps) if tensor else crps"
   ]
  },
  {
   "cell_type": "code",
   "execution_count": 16,
   "metadata": {},
   "outputs": [],
   "source": [
    "def crps_normal_cost_function_v2(y_true, y_pred, tensor=True):\n",
    "    \"\"\"Compute the CRPS cost function for a normal distribution defined by\n",
    "    the mean and standard deviation.\n",
    "\n",
    "    Args:\n",
    "        y_true: True values\n",
    "        y_pred: Tensor containing predictions: [mean, std]\n",
    "\n",
    "    Returns:\n",
    "        mean_crps: Scalar with mean CRPS over batch or tensor with all crps values of batch\n",
    "    \"\"\"\n",
    "    # get rid of axis 1\n",
    "    if tensor:\n",
    "        y_true = y_true[:, 0]\n",
    "\n",
    "    # Split input\n",
    "    mu = y_pred[:, 0]\n",
    "    sigma = tf.math.softplus(y_pred[:, 1])  # Apply softplus to ensure positive std\n",
    "    #sigma = y_pred[:, 1]\n",
    "\n",
    "    # The following three variables are just for convenience\n",
    "    loc = (y_true - mu) / sigma\n",
    "    phi = 1.0 / tf.sqrt(2.0 * np.pi) * tf.exp(-tf.square(loc) / 2.0)\n",
    "    Phi = 0.5 * (1.0 + tf.math.erf(loc / tf.sqrt(2.0)))\n",
    "    # First we will compute the crps for each input/target pair\n",
    "    crps =  sigma * (loc * (2. * Phi - 1.) + 2 * phi - 1. / tf.sqrt(np.pi))\n",
    "    \n",
    "    # Then we take the mean. The cost is now a scalar\n",
    "    return tf.reduce_mean(crps) if tensor else crps"
   ]
  },
  {
   "cell_type": "code",
   "execution_count": 17,
   "metadata": {},
   "outputs": [],
   "source": [
    "def predict_and_calculate_mean_crps(model, X_test = X_test, y_test = y_test, print_predicted_mean_std = False):\n",
    "    \"\"\"Make predictions on test data and calculate mean CRPS.\n",
    "\n",
    "    Args:\n",
    "        model: Trained model\n",
    "        X_test: Test data\n",
    "        y_test: True values\n",
    "        print_predicted_mean_std: Boolean to print predicted mean and std\n",
    "\n",
    "    Returns:\n",
    "        mean_crps: Scalar with mean CRPS over batch or tensor with all crps values of batch\n",
    "    \"\"\"\n",
    "     \n",
    "    predicted_mean_std = model.predict(X_test)\n",
    "    if print_predicted_mean_std:\n",
    "        print(predicted_mean_std)\n",
    "    \n",
    "    predicted_mean = predicted_mean_std[:, 0]\n",
    "    predicted_std = predicted_mean_std[:, 1]\n",
    "    mean_crps = np.mean(ps.crps_gaussian(y_test, mu=predicted_mean, sig=predicted_std))\n",
    "    print(f\"\\nMean CRPS: { mean_crps }\")\n",
    "\n",
    "\n",
    "    return mean_crps, predicted_mean_std"
   ]
  },
  {
   "cell_type": "code",
   "execution_count": 18,
   "metadata": {},
   "outputs": [],
   "source": [
    "def compile_and_fit_model(model, X_train = X_train, y_train = y_train, X_valid = X_valid, y_valid = y_valid,  pat=5, lr=1e-3, loss_function = crps_normal_cost_function, epochs = 100, batch_size = 10):\n",
    "    \"\"\"Compile and fit a model on training data.\n",
    "\n",
    "    Args:\n",
    "        model: model to be trained\n",
    "        X_train: Training data\n",
    "        y_train: Training targets\n",
    "        X_valid: Validation data\n",
    "        y_valid: Validation targets\n",
    "        pat: Patience for early stopping\n",
    "        lr: Learning rate\n",
    "        loss_function: Loss function\n",
    "        epochs: Number of epochs\n",
    "        batch_size: Batch size\n",
    "\n",
    "    Returns:\n",
    "        model: Trained model\n",
    "    \"\"\"\n",
    "\n",
    "    #print some information about the model\n",
    "    print('Model information:\\n\\nCallbacks: EarlyStopping (patience: ' + str(pat) + '), Learning Rate (Reduce on Plateau, patience: ' + str(pat) + ')\\nBatch size: ' + str(batch_size) + '\\nEpochs: ' + str(epochs) + '\\n')\n",
    "    \n",
    "    early_stopping = tf.keras.callbacks.EarlyStopping(monitor='val_loss',\n",
    "                                                      patience=pat, \n",
    "                                                      restore_best_weights=True)\n",
    "    \n",
    "    reduce_lr = tf.keras.callbacks.ReduceLROnPlateau(monitor='val_loss',\n",
    "                                                     factor=0.2,\n",
    "                                                     patience = pat,\n",
    "                                                     min_lr=0 )\n",
    "    # Compile the model\n",
    "    model.compile(optimizer=tf.keras.optimizers.Adam(learning_rate=lr), loss=loss_function)\n",
    "\n",
    "    # Train the model\n",
    "    history = model.fit(X_train, y_train, epochs=epochs, batch_size=batch_size, validation_data=(X_valid, y_valid), callbacks=[early_stopping, reduce_lr])\n",
    "\n",
    "    return model, history"
   ]
  },
  {
   "cell_type": "code",
   "execution_count": 19,
   "metadata": {},
   "outputs": [],
   "source": [
    "def plot_loss(history):\n",
    "    \"\"\"Plot training and validation loss.\n",
    "\n",
    "    Args:\n",
    "        history: History object\n",
    "    \"\"\"\n",
    "    plt.figure(figsize=(10, 6))\n",
    "    plt.plot(history.history['loss'], label='Training loss')\n",
    "    plt.plot(history.history['val_loss'], label='Validation loss')\n",
    "    plt.xlabel('Epoch')\n",
    "    plt.ylabel('Loss')\n",
    "    plt.title('Training and validation loss')\n",
    "    plt.legend()\n",
    "    plt.show()"
   ]
  },
  {
   "cell_type": "code",
   "execution_count": 20,
   "metadata": {},
   "outputs": [],
   "source": [
    "def process_model(model, X_train = X_train, y_train = y_train, X_valid = X_valid, y_valid = y_valid,  X_test = X_test, y_test = y_test, pat=5, lr=1e-3, loss_function = crps_normal_cost_function, epochs = 100, batch_size = 10, print_predicted_mean_std = False, plot_loss_flag = True):\n",
    "    \"\"\"Compile, fit and evaluate a model.\n",
    "\n",
    "    Args:\n",
    "        model: model to be trained\n",
    "        X_train: Training data\n",
    "        y_train: Training targets\n",
    "        X_valid: Validation data\n",
    "        y_valid: Validation targets\n",
    "        X_test: Test data\n",
    "        y_test: Test targets\n",
    "        pat: Patience for early stopping\n",
    "        lr: Learning rate\n",
    "        loss_function: Loss function\n",
    "        epochs: Number of epochs\n",
    "        batch_size: Batch size\n",
    "        print_predicted_mean_std: Boolean to print predicted mean and std\n",
    "\"\"\"\n",
    "\n",
    "    model, history = compile_and_fit_model(model, X_train, y_train, X_valid, y_valid,  pat, lr, loss_function, epochs, batch_size)\n",
    "\n",
    "    mean_crps, predicted_mean_std = predict_and_calculate_mean_crps(model, X_test, y_test, print_predicted_mean_std)\n",
    "\n",
    "    if plot_loss_flag:\n",
    "        plot_loss(history)\n",
    "\n",
    "    return model, mean_crps, history, predicted_mean_std"
   ]
  },
  {
   "cell_type": "code",
   "execution_count": 21,
   "metadata": {},
   "outputs": [
    {
     "data": {
      "text/html": [
       "<div>\n",
       "<style scoped>\n",
       "    .dataframe tbody tr th:only-of-type {\n",
       "        vertical-align: middle;\n",
       "    }\n",
       "\n",
       "    .dataframe tbody tr th {\n",
       "        vertical-align: top;\n",
       "    }\n",
       "\n",
       "    .dataframe thead th {\n",
       "        text-align: right;\n",
       "    }\n",
       "</style>\n",
       "<table border=\"1\" class=\"dataframe\">\n",
       "  <thead>\n",
       "    <tr style=\"text-align: right;\">\n",
       "      <th></th>\n",
       "      <th>temperature</th>\n",
       "      <th>precipitation</th>\n",
       "      <th>public_holiday_indicator</th>\n",
       "      <th>is_workday</th>\n",
       "      <th>day_of_week</th>\n",
       "      <th>spring</th>\n",
       "      <th>summer</th>\n",
       "      <th>autumn</th>\n",
       "      <th>winter</th>\n",
       "      <th>windspeed</th>\n",
       "      <th>sun</th>\n",
       "      <th>school_holiday_indicator</th>\n",
       "    </tr>\n",
       "  </thead>\n",
       "  <tbody>\n",
       "    <tr>\n",
       "      <th>385</th>\n",
       "      <td>-1.826072</td>\n",
       "      <td>-0.397192</td>\n",
       "      <td>0</td>\n",
       "      <td>0</td>\n",
       "      <td>6</td>\n",
       "      <td>0.0</td>\n",
       "      <td>0.0</td>\n",
       "      <td>0.0</td>\n",
       "      <td>1.0</td>\n",
       "      <td>-1.030753</td>\n",
       "      <td>-0.403906</td>\n",
       "      <td>0</td>\n",
       "    </tr>\n",
       "    <tr>\n",
       "      <th>386</th>\n",
       "      <td>-0.641377</td>\n",
       "      <td>0.992859</td>\n",
       "      <td>0</td>\n",
       "      <td>1</td>\n",
       "      <td>0</td>\n",
       "      <td>0.0</td>\n",
       "      <td>0.0</td>\n",
       "      <td>0.0</td>\n",
       "      <td>1.0</td>\n",
       "      <td>2.053509</td>\n",
       "      <td>-1.094803</td>\n",
       "      <td>0</td>\n",
       "    </tr>\n",
       "    <tr>\n",
       "      <th>387</th>\n",
       "      <td>-0.525381</td>\n",
       "      <td>-0.268484</td>\n",
       "      <td>0</td>\n",
       "      <td>1</td>\n",
       "      <td>1</td>\n",
       "      <td>0.0</td>\n",
       "      <td>0.0</td>\n",
       "      <td>0.0</td>\n",
       "      <td>1.0</td>\n",
       "      <td>2.151868</td>\n",
       "      <td>-0.501572</td>\n",
       "      <td>0</td>\n",
       "    </tr>\n",
       "    <tr>\n",
       "      <th>388</th>\n",
       "      <td>-0.052053</td>\n",
       "      <td>0.091900</td>\n",
       "      <td>0</td>\n",
       "      <td>1</td>\n",
       "      <td>2</td>\n",
       "      <td>0.0</td>\n",
       "      <td>0.0</td>\n",
       "      <td>0.0</td>\n",
       "      <td>1.0</td>\n",
       "      <td>2.770125</td>\n",
       "      <td>-1.069482</td>\n",
       "      <td>0</td>\n",
       "    </tr>\n",
       "    <tr>\n",
       "      <th>389</th>\n",
       "      <td>-0.392344</td>\n",
       "      <td>-0.139775</td>\n",
       "      <td>0</td>\n",
       "      <td>1</td>\n",
       "      <td>3</td>\n",
       "      <td>0.0</td>\n",
       "      <td>0.0</td>\n",
       "      <td>0.0</td>\n",
       "      <td>1.0</td>\n",
       "      <td>-0.042477</td>\n",
       "      <td>-0.299006</td>\n",
       "      <td>0</td>\n",
       "    </tr>\n",
       "  </tbody>\n",
       "</table>\n",
       "</div>"
      ],
      "text/plain": [
       "     temperature  precipitation  public_holiday_indicator  is_workday  \\\n",
       "385    -1.826072      -0.397192                         0           0   \n",
       "386    -0.641377       0.992859                         0           1   \n",
       "387    -0.525381      -0.268484                         0           1   \n",
       "388    -0.052053       0.091900                         0           1   \n",
       "389    -0.392344      -0.139775                         0           1   \n",
       "\n",
       "     day_of_week  spring  summer  autumn  winter  windspeed       sun  \\\n",
       "385            6     0.0     0.0     0.0     1.0  -1.030753 -0.403906   \n",
       "386            0     0.0     0.0     0.0     1.0   2.053509 -1.094803   \n",
       "387            1     0.0     0.0     0.0     1.0   2.151868 -0.501572   \n",
       "388            2     0.0     0.0     0.0     1.0   2.770125 -1.069482   \n",
       "389            3     0.0     0.0     0.0     1.0  -0.042477 -0.299006   \n",
       "\n",
       "     school_holiday_indicator  \n",
       "385                         0  \n",
       "386                         0  \n",
       "387                         0  \n",
       "388                         0  \n",
       "389                         0  "
      ]
     },
     "execution_count": 21,
     "metadata": {},
     "output_type": "execute_result"
    }
   ],
   "source": [
    "X_test.tail()"
   ]
  },
  {
   "cell_type": "markdown",
   "metadata": {},
   "source": [
    "# Hyperparameter Tuning"
   ]
  },
  {
   "cell_type": "markdown",
   "metadata": {},
   "source": [
    "## Functions"
   ]
  },
  {
   "cell_type": "code",
   "execution_count": 22,
   "metadata": {},
   "outputs": [],
   "source": [
    "@register_keras_serializable(package=\"Custom\", name=\"crps_normal_cost_function\")\n",
    "def crps_normal_cost_function_v3(y_true, y_pred, tensor=True):\n",
    "    \"\"\"Compute the CRPS cost function for a normal distribution defined by\n",
    "    the mean and standard deviation.\n",
    "\n",
    "    Args:\n",
    "        y_true: True values\n",
    "        y_pred: Tensor containing predictions: [mean, std]\n",
    "\n",
    "    Returns:\n",
    "        mean_crps: Scalar with mean CRPS over batch or tensor with all crps values of batch\n",
    "    \"\"\"\n",
    "    #print(\"y_true shape2: \", y_true.shape)\n",
    "    # Split input\n",
    "    mu = y_pred[:, 0]\n",
    "    sigma = tf.math.softplus(y_pred[:, 1])  # Apply softplus to ensure positive std\n",
    "    #sigma = y_pred[:, 1]\n",
    "    \n",
    "    # The following three variables are just for convenience\n",
    "    loc = (y_true - mu) / sigma\n",
    "    phi = 1.0 / tf.sqrt(2.0 * np.pi) * tf.exp(-tf.square(loc) / 2.0)\n",
    "    Phi = 0.5 * (1.0 + tf.math.erf(loc / tf.sqrt(2.0)))\n",
    "    \n",
    "     # First we will compute the crps for each input/target pair\n",
    "    crps =  sigma * (loc * (2. * Phi - 1.) + 2 * phi - 1. / tf.sqrt(np.pi))   \n",
    "    \n",
    "    # Then we take the mean. The cost is now a scalar\n",
    "    return tf.reduce_mean(crps) if tensor else crps\n"
   ]
  },
  {
   "cell_type": "code",
   "execution_count": 23,
   "metadata": {},
   "outputs": [],
   "source": [
    "@register_keras_serializable(package=\"Custom\", name=\"crps_loss_function_wrapper\")  \n",
    "def crps_loss_function_wrapper(y_true, y_pred, tensor=True):\n",
    "    \"\"\"Wrapper for CRPS loss function.\n",
    "\n",
    "    Args:\n",
    "        y_true: True values\n",
    "        y_pred: Tensor containing predictions: [mean, std]\n",
    "\n",
    "    Returns:\n",
    "        mean_crps: Scalar with mean CRPS over batch\n",
    "    \"\"\"\n",
    "    \n",
    "    if isinstance(y_pred, (pd.DataFrame, pd.Series)):\n",
    "       y_pred = tf.convert_to_tensor(y_pred.values)\n",
    "\n",
    "    if isinstance(y_true, (pd.DataFrame, pd.Series)):\n",
    "        y_true = tf.convert_to_tensor(y_true.values, dtype=tf.float32)\n",
    "        \n",
    "    y_pred_reshaped = y_pred.reshape(-1, 2) #Keras Regressor flattens the values so they need to be reshaped\n",
    "\n",
    "    crps = crps_normal_cost_function_v3(y_true, y_pred_reshaped, tensor)\n",
    "\n",
    "    crps = crps.numpy()\n",
    "    \n",
    "    return crps"
   ]
  },
  {
   "cell_type": "code",
   "execution_count": 24,
   "metadata": {},
   "outputs": [],
   "source": [
    "def tune_nn(input_shape_in, X_train_in, X_valid_in, X_test_in, y_train_in, y_valid_in, y_test_in, model_in=None, n_neurons=[64, 128, 256], dropout_rate=[0.1, 0.3, 0.5], \n",
    "            reg_values=[0.01], batch_size=[32], learning_rate=[1e-3, 1e-4], n_blocks=[1,2,4], epochs = 200, cv=5, n_jobs=1, verbose=10, patience=5):\n",
    "    \"\"\"Tune hyperparameters of a neural network using GridSearchCV.\n",
    "\n",
    "    Args:\n",
    "        input_shape_in: Number of features\n",
    "        X_train_in: Training data\n",
    "        X_valid_in: Validation data\n",
    "        X_test_in: Test data\n",
    "        y_train_in: Training targets\n",
    "        y_valid_in: Validation targets\n",
    "        y_test_in: Test targets\n",
    "        model_in: Predefined model\n",
    "        n_neurons: Number of neurons in hidden layers\n",
    "        dropout_rate: Dropout rate\n",
    "        reg_values: Regularization values\n",
    "        batch_size: Batch size\n",
    "        learning_rate: Learning rate\n",
    "        n_blocks: Number of blocks\n",
    "        epochs: Number of epochs\n",
    "        cv: Number of cross-validation folds\n",
    "\n",
    "\n",
    "    Returns:\n",
    "        y_pred: Predictions on test data\n",
    "        best_model: Best model\n",
    "        cv_results: Results of cross-validation\n",
    "    \"\"\"\n",
    "\n",
    "\n",
    "    iteration = 0\n",
    "\n",
    "    # Define Keras model with hyperparameters\n",
    "    def create_model(n_neurons, dropout_rate, reg_value, n_blocks):\n",
    "        nonlocal iteration  # Declare iteration as nonlocal\n",
    "        model = model_in\n",
    "        input_shape = input_shape_in\n",
    "        if model is None:\n",
    "            model = Sequential()\n",
    "            model.add(Input(shape=(input_shape,)))\n",
    "\n",
    "            for i in range(n_blocks):\n",
    "                model.add(Dense(n_neurons, activation='relu', kernel_regularizer=regularizers.l2(reg_value)))\n",
    "                model.add(Dense(n_neurons, activation='relu'))\n",
    "                model.add(Dropout(dropout_rate))\n",
    "            \n",
    "            # Output layer with two outputs: mean and std\n",
    "            model.add(Dense(n_neurons, activation='relu', kernel_regularizer=regularizers.l2(reg_value)))\n",
    "            model.add(Dense(2, activation='softplus'))\n",
    "        \n",
    "        if iteration % cv == 1 or iteration == 0: # don't print for every fold\n",
    "            model.summary()\n",
    "        \n",
    "        iteration += 1\n",
    "        # only to see that something is happening\n",
    "        print(\"Iteration: \" + str(iteration))\n",
    "\n",
    "        \n",
    "        model.compile(optimizer=tf.keras.optimizers.Adam(), loss=crps_normal_cost_function_v3 )\n",
    "        return model\n",
    "\n",
    "    # Define hyperparameters\n",
    "    param_grid = dict(\n",
    "       batch_size=batch_size,\n",
    "       optimizer__learning_rate=learning_rate,\n",
    "        model__n_neurons=n_neurons,\n",
    "        model__dropout_rate=dropout_rate,\n",
    "        model__reg_value=reg_values,\n",
    "        model__n_blocks=n_blocks\n",
    "    ) \n",
    "\n",
    "\n",
    "    # Create the model\n",
    "    model = KerasRegressor(model=create_model, epochs=epochs, verbose=0)\n",
    "    \n",
    "\n",
    "    my_scorer = make_scorer(crps_loss_function_wrapper, greater_is_better=False) \n",
    "\n",
    "    # Perform GridSearchCV\n",
    "    grid_search = GridSearchCV(estimator=model, param_grid=param_grid, cv=cv, n_jobs=n_jobs, verbose=verbose, scoring=my_scorer)\n",
    "\n",
    "    early_stopping = tf.keras.callbacks.EarlyStopping(monitor='val_loss', patience=patience, restore_best_weights=True)\n",
    "    \n",
    "    grid_search.fit(X_train_in, y_train_in, validation_data=(X_valid_in, y_valid_in), callbacks=[early_stopping])\n",
    "\n",
    "    # Access the best hyperparameters and results\n",
    "    best_params = grid_search.best_params_\n",
    "    cv_results = pd.DataFrame(grid_search.cv_results_)\n",
    "    best_model = grid_search.best_estimator_\n",
    "\n",
    "    # Print the best hyperparameters\n",
    "    print(\"Best Hyperparameters:\")\n",
    "    for param, value in best_params.items():\n",
    "        print(f\"{param}: {value}\")\n",
    "\n",
    "    y_pred = best_model.model_.predict(X_test_in)\n",
    "    predicted_mean = y_pred[:, 0]\n",
    "    predicted_std = y_pred[:, 1]\n",
    "\n",
    "    mean_crps = np.mean(ps.crps_gaussian(y_test_in, mu=predicted_mean, sig=predicted_std))\n",
    "    print(f\"\\nMean CRPS: { mean_crps }\")\n",
    "    \n",
    "    return  y_pred, best_model, cv_results, grid_search\n",
    "    "
   ]
  },
  {
   "cell_type": "markdown",
   "metadata": {},
   "source": [
    "## Loading the GridSearchCV Results"
   ]
  },
  {
   "cell_type": "code",
   "execution_count": null,
   "metadata": {},
   "outputs": [],
   "source": [
    "# Define the base path using pathlib\n",
    "base_path = Path(r\"hyperparameter_tuning_results\")"
   ]
  },
  {
   "cell_type": "code",
   "execution_count": 26,
   "metadata": {},
   "outputs": [],
   "source": [
    "file_name_grid_search = \"grid_search_tuned.pkl\"\n",
    "file_path_grid_search = base_path / file_name_grid_search"
   ]
  },
  {
   "cell_type": "code",
   "execution_count": 27,
   "metadata": {},
   "outputs": [],
   "source": [
    "loaded_grid_search_tuned = joblib.load(str(file_path_grid_search))"
   ]
  },
  {
   "cell_type": "code",
   "execution_count": 28,
   "metadata": {},
   "outputs": [
    {
     "data": {
      "text/plain": [
       "{'batch_size': 32,\n",
       " 'model__dropout_rate': 0.3,\n",
       " 'model__n_blocks': 1,\n",
       " 'model__n_neurons': 128,\n",
       " 'model__reg_value': 0.01,\n",
       " 'optimizer__learning_rate': 0.0001}"
      ]
     },
     "execution_count": 28,
     "metadata": {},
     "output_type": "execute_result"
    }
   ],
   "source": [
    "loaded_grid_search_tuned.best_params_"
   ]
  },
  {
   "cell_type": "code",
   "execution_count": 29,
   "metadata": {},
   "outputs": [
    {
     "data": {
      "text/plain": [
       "21"
      ]
     },
     "execution_count": 29,
     "metadata": {},
     "output_type": "execute_result"
    }
   ],
   "source": [
    "loaded_grid_search_tuned.best_index_"
   ]
  },
  {
   "cell_type": "code",
   "execution_count": 30,
   "metadata": {},
   "outputs": [],
   "source": [
    "model = loaded_grid_search_tuned.best_estimator_"
   ]
  },
  {
   "cell_type": "code",
   "execution_count": 31,
   "metadata": {},
   "outputs": [
    {
     "data": {
      "text/plain": [
       "-393.70372517903644"
      ]
     },
     "execution_count": 31,
     "metadata": {},
     "output_type": "execute_result"
    }
   ],
   "source": [
    "loaded_grid_search_tuned.best_score_"
   ]
  },
  {
   "cell_type": "code",
   "execution_count": 32,
   "metadata": {},
   "outputs": [
    {
     "name": "stdout",
     "output_type": "stream",
     "text": [
      "\u001b[1m13/13\u001b[0m \u001b[32m━━━━━━━━━━━━━━━━━━━━\u001b[0m\u001b[37m\u001b[0m \u001b[1m1s\u001b[0m 24ms/step\n",
      "\n",
      "Mean CRPS: 324.37335963573844\n"
     ]
    }
   ],
   "source": [
    "mean_crps = predict_and_calculate_mean_crps(model.model_, X_test, y_test, print_predicted_mean_std = False)"
   ]
  },
  {
   "cell_type": "code",
   "execution_count": 33,
   "metadata": {},
   "outputs": [
    {
     "data": {
      "text/plain": [
       "make_scorer(crps_loss_function_wrapper, greater_is_better=False, response_method='predict')"
      ]
     },
     "execution_count": 33,
     "metadata": {},
     "output_type": "execute_result"
    }
   ],
   "source": [
    "loaded_grid_search_tuned.scorer_"
   ]
  },
  {
   "cell_type": "code",
   "execution_count": 34,
   "metadata": {},
   "outputs": [
    {
     "data": {
      "text/plain": [
       "3"
      ]
     },
     "execution_count": 34,
     "metadata": {},
     "output_type": "execute_result"
    }
   ],
   "source": [
    "loaded_grid_search_tuned.n_splits_"
   ]
  },
  {
   "cell_type": "code",
   "execution_count": 35,
   "metadata": {},
   "outputs": [
    {
     "data": {
      "text/plain": [
       "<bound method BaseEstimator.get_params of GridSearchCV(cv=3,\n",
       "             estimator=KerasRegressor(epochs=200, model=<function tune_nn.<locals>.create_model at 0x000001DAE90EBA60>, verbose=0),\n",
       "             n_jobs=1,\n",
       "             param_grid={'batch_size': [32],\n",
       "                         'model__dropout_rate': [0.1, 0.3, 0.5],\n",
       "                         'model__n_blocks': [1, 2, 4],\n",
       "                         'model__n_neurons': [64, 128, 256],\n",
       "                         'model__reg_value': [0.01],\n",
       "                         'optimizer__learning_rate': [0.001, 0.0001]},\n",
       "             scoring=make_scorer(crps_loss_function_wrapper, greater_is_better=False, response_method='predict'),\n",
       "             verbose=10)>"
      ]
     },
     "execution_count": 35,
     "metadata": {},
     "output_type": "execute_result"
    }
   ],
   "source": [
    "loaded_grid_search_tuned.get_params"
   ]
  },
  {
   "cell_type": "code",
   "execution_count": 36,
   "metadata": {},
   "outputs": [
    {
     "data": {
      "text/plain": [
       "{'batch_size': 32,\n",
       " 'model__dropout_rate': 0.3,\n",
       " 'model__n_blocks': 1,\n",
       " 'model__n_neurons': 128,\n",
       " 'model__reg_value': 0.01,\n",
       " 'optimizer__learning_rate': 0.0001}"
      ]
     },
     "execution_count": 36,
     "metadata": {},
     "output_type": "execute_result"
    }
   ],
   "source": [
    "loaded_grid_search_tuned.best_params_"
   ]
  },
  {
   "cell_type": "code",
   "execution_count": 37,
   "metadata": {},
   "outputs": [
    {
     "data": {
      "text/html": [
       "<pre style=\"white-space:pre;overflow-x:auto;line-height:normal;font-family:Menlo,'DejaVu Sans Mono',consolas,'Courier New',monospace\"><span style=\"font-weight: bold\">Model: \"sequential_168\"</span>\n",
       "</pre>\n"
      ],
      "text/plain": [
       "\u001b[1mModel: \"sequential_168\"\u001b[0m\n"
      ]
     },
     "metadata": {},
     "output_type": "display_data"
    },
    {
     "data": {
      "text/html": [
       "<pre style=\"white-space:pre;overflow-x:auto;line-height:normal;font-family:Menlo,'DejaVu Sans Mono',consolas,'Courier New',monospace\">┏━━━━━━━━━━━━━━━━━━━━━━━━━━━━━━━━━┳━━━━━━━━━━━━━━━━━━━━━━━━┳━━━━━━━━━━━━━━━┓\n",
       "┃<span style=\"font-weight: bold\"> Layer (type)                    </span>┃<span style=\"font-weight: bold\"> Output Shape           </span>┃<span style=\"font-weight: bold\">       Param # </span>┃\n",
       "┡━━━━━━━━━━━━━━━━━━━━━━━━━━━━━━━━━╇━━━━━━━━━━━━━━━━━━━━━━━━╇━━━━━━━━━━━━━━━┩\n",
       "│ dense_1140 (<span style=\"color: #0087ff; text-decoration-color: #0087ff\">Dense</span>)              │ (<span style=\"color: #00d7ff; text-decoration-color: #00d7ff\">None</span>, <span style=\"color: #00af00; text-decoration-color: #00af00\">128</span>)            │         <span style=\"color: #00af00; text-decoration-color: #00af00\">1,664</span> │\n",
       "├─────────────────────────────────┼────────────────────────┼───────────────┤\n",
       "│ dense_1141 (<span style=\"color: #0087ff; text-decoration-color: #0087ff\">Dense</span>)              │ (<span style=\"color: #00d7ff; text-decoration-color: #00d7ff\">None</span>, <span style=\"color: #00af00; text-decoration-color: #00af00\">128</span>)            │        <span style=\"color: #00af00; text-decoration-color: #00af00\">16,512</span> │\n",
       "├─────────────────────────────────┼────────────────────────┼───────────────┤\n",
       "│ dropout_402 (<span style=\"color: #0087ff; text-decoration-color: #0087ff\">Dropout</span>)           │ (<span style=\"color: #00d7ff; text-decoration-color: #00d7ff\">None</span>, <span style=\"color: #00af00; text-decoration-color: #00af00\">128</span>)            │             <span style=\"color: #00af00; text-decoration-color: #00af00\">0</span> │\n",
       "├─────────────────────────────────┼────────────────────────┼───────────────┤\n",
       "│ dense_1142 (<span style=\"color: #0087ff; text-decoration-color: #0087ff\">Dense</span>)              │ (<span style=\"color: #00d7ff; text-decoration-color: #00d7ff\">None</span>, <span style=\"color: #00af00; text-decoration-color: #00af00\">128</span>)            │        <span style=\"color: #00af00; text-decoration-color: #00af00\">16,512</span> │\n",
       "├─────────────────────────────────┼────────────────────────┼───────────────┤\n",
       "│ dense_1143 (<span style=\"color: #0087ff; text-decoration-color: #0087ff\">Dense</span>)              │ (<span style=\"color: #00d7ff; text-decoration-color: #00d7ff\">None</span>, <span style=\"color: #00af00; text-decoration-color: #00af00\">2</span>)              │           <span style=\"color: #00af00; text-decoration-color: #00af00\">258</span> │\n",
       "└─────────────────────────────────┴────────────────────────┴───────────────┘\n",
       "</pre>\n"
      ],
      "text/plain": [
       "┏━━━━━━━━━━━━━━━━━━━━━━━━━━━━━━━━━┳━━━━━━━━━━━━━━━━━━━━━━━━┳━━━━━━━━━━━━━━━┓\n",
       "┃\u001b[1m \u001b[0m\u001b[1mLayer (type)                   \u001b[0m\u001b[1m \u001b[0m┃\u001b[1m \u001b[0m\u001b[1mOutput Shape          \u001b[0m\u001b[1m \u001b[0m┃\u001b[1m \u001b[0m\u001b[1m      Param #\u001b[0m\u001b[1m \u001b[0m┃\n",
       "┡━━━━━━━━━━━━━━━━━━━━━━━━━━━━━━━━━╇━━━━━━━━━━━━━━━━━━━━━━━━╇━━━━━━━━━━━━━━━┩\n",
       "│ dense_1140 (\u001b[38;5;33mDense\u001b[0m)              │ (\u001b[38;5;45mNone\u001b[0m, \u001b[38;5;34m128\u001b[0m)            │         \u001b[38;5;34m1,664\u001b[0m │\n",
       "├─────────────────────────────────┼────────────────────────┼───────────────┤\n",
       "│ dense_1141 (\u001b[38;5;33mDense\u001b[0m)              │ (\u001b[38;5;45mNone\u001b[0m, \u001b[38;5;34m128\u001b[0m)            │        \u001b[38;5;34m16,512\u001b[0m │\n",
       "├─────────────────────────────────┼────────────────────────┼───────────────┤\n",
       "│ dropout_402 (\u001b[38;5;33mDropout\u001b[0m)           │ (\u001b[38;5;45mNone\u001b[0m, \u001b[38;5;34m128\u001b[0m)            │             \u001b[38;5;34m0\u001b[0m │\n",
       "├─────────────────────────────────┼────────────────────────┼───────────────┤\n",
       "│ dense_1142 (\u001b[38;5;33mDense\u001b[0m)              │ (\u001b[38;5;45mNone\u001b[0m, \u001b[38;5;34m128\u001b[0m)            │        \u001b[38;5;34m16,512\u001b[0m │\n",
       "├─────────────────────────────────┼────────────────────────┼───────────────┤\n",
       "│ dense_1143 (\u001b[38;5;33mDense\u001b[0m)              │ (\u001b[38;5;45mNone\u001b[0m, \u001b[38;5;34m2\u001b[0m)              │           \u001b[38;5;34m258\u001b[0m │\n",
       "└─────────────────────────────────┴────────────────────────┴───────────────┘\n"
      ]
     },
     "metadata": {},
     "output_type": "display_data"
    },
    {
     "data": {
      "text/html": [
       "<pre style=\"white-space:pre;overflow-x:auto;line-height:normal;font-family:Menlo,'DejaVu Sans Mono',consolas,'Courier New',monospace\"><span style=\"font-weight: bold\"> Total params: </span><span style=\"color: #00af00; text-decoration-color: #00af00\">104,840</span> (409.54 KB)\n",
       "</pre>\n"
      ],
      "text/plain": [
       "\u001b[1m Total params: \u001b[0m\u001b[38;5;34m104,840\u001b[0m (409.54 KB)\n"
      ]
     },
     "metadata": {},
     "output_type": "display_data"
    },
    {
     "data": {
      "text/html": [
       "<pre style=\"white-space:pre;overflow-x:auto;line-height:normal;font-family:Menlo,'DejaVu Sans Mono',consolas,'Courier New',monospace\"><span style=\"font-weight: bold\"> Trainable params: </span><span style=\"color: #00af00; text-decoration-color: #00af00\">34,946</span> (136.51 KB)\n",
       "</pre>\n"
      ],
      "text/plain": [
       "\u001b[1m Trainable params: \u001b[0m\u001b[38;5;34m34,946\u001b[0m (136.51 KB)\n"
      ]
     },
     "metadata": {},
     "output_type": "display_data"
    },
    {
     "data": {
      "text/html": [
       "<pre style=\"white-space:pre;overflow-x:auto;line-height:normal;font-family:Menlo,'DejaVu Sans Mono',consolas,'Courier New',monospace\"><span style=\"font-weight: bold\"> Non-trainable params: </span><span style=\"color: #00af00; text-decoration-color: #00af00\">0</span> (0.00 B)\n",
       "</pre>\n"
      ],
      "text/plain": [
       "\u001b[1m Non-trainable params: \u001b[0m\u001b[38;5;34m0\u001b[0m (0.00 B)\n"
      ]
     },
     "metadata": {},
     "output_type": "display_data"
    },
    {
     "data": {
      "text/html": [
       "<pre style=\"white-space:pre;overflow-x:auto;line-height:normal;font-family:Menlo,'DejaVu Sans Mono',consolas,'Courier New',monospace\"><span style=\"font-weight: bold\"> Optimizer params: </span><span style=\"color: #00af00; text-decoration-color: #00af00\">69,894</span> (273.03 KB)\n",
       "</pre>\n"
      ],
      "text/plain": [
       "\u001b[1m Optimizer params: \u001b[0m\u001b[38;5;34m69,894\u001b[0m (273.03 KB)\n"
      ]
     },
     "metadata": {},
     "output_type": "display_data"
    }
   ],
   "source": [
    "model.model_.summary()"
   ]
  },
  {
   "cell_type": "code",
   "execution_count": 38,
   "metadata": {},
   "outputs": [],
   "source": [
    "cv_results_df = pd.DataFrame(loaded_grid_search_tuned.cv_results_)"
   ]
  },
  {
   "cell_type": "code",
   "execution_count": 39,
   "metadata": {},
   "outputs": [],
   "source": [
    "cv_results_df['mean_test_score'] = -cv_results_df['mean_test_score']"
   ]
  },
  {
   "cell_type": "markdown",
   "metadata": {},
   "source": [
    "## Plots"
   ]
  },
  {
   "cell_type": "code",
   "execution_count": null,
   "metadata": {},
   "outputs": [],
   "source": [
    "base_path_plots = Path(r\"Figures\\(13) GridSearch_Testing\")"
   ]
  },
  {
   "cell_type": "code",
   "execution_count": 41,
   "metadata": {},
   "outputs": [
    {
     "data": {
      "image/png": "[encoded data removed]",
      "text/plain": [
       "<Figure size 640x480 with 1 Axes>"
      ]
     },
     "metadata": {},
     "output_type": "display_data"
    }
   ],
   "source": [
    "# Define the n_blocks and corresponding mean and std CRPS\n",
    "n_blocks_values = cv_results_df['param_model__n_blocks'].unique()\n",
    "mean_crps_n_blocks = [cv_results_df[cv_results_df['param_model__n_blocks'] == nb]['mean_test_score'].mean() for nb in n_blocks_values]\n",
    "std_crps_n_blocks = [cv_results_df[cv_results_df['param_model__n_blocks'] == nb]['std_test_score'].mean() for nb in n_blocks_values]\n",
    "\n",
    "# Adjust bar width and position\n",
    "bar_width = 0.3  # Bar width\n",
    "index = np.arange(len(n_blocks_values))  # Positions of bars on x-axis\n",
    "\n",
    "# Bar chart for n_blocks with error bars (Non-overlapping bars)\n",
    "plt.bar(index, mean_crps_n_blocks, yerr=std_crps_n_blocks, capsize=5, color='green', alpha=0.6, width=bar_width, label=\"n_blocks\")\n",
    "\n",
    "plt.title(\"Effect of Number of Blocks on CRPS\")\n",
    "plt.xlabel(\"Number of Blocks (n_blocks)\")\n",
    "plt.ylabel(\"Mean CRPS Score\")\n",
    "plt.xticks(index, n_blocks_values)  # Set the x-tick labels to be the n_blocks values\n",
    "plt.grid(True, axis='y')\n",
    "plt.gcf().savefig(base_path_plots / \"n_blocks_effect.png\")\n",
    "plt.show()"
   ]
  },
  {
   "cell_type": "code",
   "execution_count": 42,
   "metadata": {},
   "outputs": [
    {
     "data": {
      "image/png": "[encoded data removed]",
      "text/plain": [
       "<Figure size 640x480 with 1 Axes>"
      ]
     },
     "metadata": {},
     "output_type": "display_data"
    }
   ],
   "source": [
    "dropout_rates = cv_results_df['param_model__dropout_rate'].unique()\n",
    "mean_crps_dropout = [cv_results_df[cv_results_df['param_model__dropout_rate'] == dr]['mean_test_score'].mean() for dr in dropout_rates]\n",
    "std_crps_dropout = [cv_results_df[cv_results_df['param_model__dropout_rate'] == dr]['std_test_score'].mean() for dr in dropout_rates]\n",
    "\n",
    "bar_width = 0.4 \n",
    "index = np.arange(len(dropout_rates))  *0.8\n",
    "\n",
    "plt.bar(index, mean_crps_dropout, yerr=std_crps_dropout, capsize=5, color='green', alpha=0.6, width=bar_width, label=\"Dropout Rate\")\n",
    "\n",
    "plt.title(\"Effect of Dropout Rate on CRPS\")\n",
    "plt.xlabel(\"Dropout Rate\")\n",
    "plt.ylabel(\"Mean CRPS Score\")\n",
    "plt.xticks(index, dropout_rates)  \n",
    "plt.grid(True, axis='y')\n",
    "plt.gcf().savefig(base_path_plots / \"dropout_rate_effect.png\")\n",
    "plt.show()"
   ]
  },
  {
   "cell_type": "code",
   "execution_count": 43,
   "metadata": {},
   "outputs": [
    {
     "data": {
      "image/png": "[encoded data removed]",
      "text/plain": [
       "<Figure size 640x480 with 1 Axes>"
      ]
     },
     "metadata": {},
     "output_type": "display_data"
    }
   ],
   "source": [
    "n_neurons_values = cv_results_df['param_model__n_neurons'].unique()\n",
    "mean_crps_n_neurons = [cv_results_df[cv_results_df['param_model__n_neurons'] == nn]['mean_test_score'].mean() for nn in n_neurons_values]\n",
    "std_crps_n_neurons = [cv_results_df[cv_results_df['param_model__n_neurons'] == nn]['std_test_score'].mean() for nn in n_neurons_values]\n",
    "\n",
    "\n",
    "bar_width = 0.18 \n",
    "index = np.arange(len(n_neurons_values)) *0.3\n",
    "\n",
    "plt.bar(index, mean_crps_n_neurons, yerr=std_crps_n_neurons, capsize=5, color='green', alpha=0.6, width=bar_width, label=\"n_neurons\")\n",
    "\n",
    "plt.title(\"Effect of Number of Neurons on CRPS\")\n",
    "plt.xlabel(\"Number of Neurons (n_neurons)\")\n",
    "plt.ylabel(\"Mean CRPS Score\")\n",
    "plt.xticks(index, n_neurons_values) \n",
    "plt.grid(True, axis='y')\n",
    "plt.gcf().savefig(base_path_plots / \"n_neurons_effect.png\")\n",
    "plt.show()\n"
   ]
  },
  {
   "cell_type": "code",
   "execution_count": 44,
   "metadata": {},
   "outputs": [
    {
     "data": {
      "image/png": "[encoded data removed]",
      "text/plain": [
       "<Figure size 640x480 with 1 Axes>"
      ]
     },
     "metadata": {},
     "output_type": "display_data"
    }
   ],
   "source": [
    "reg_value_values = cv_results_df['param_model__reg_value'].unique()\n",
    "mean_crps_reg_value = [cv_results_df[cv_results_df['param_model__reg_value'] == rv]['mean_test_score'].mean() for rv in reg_value_values]\n",
    "std_crps_reg_value = [cv_results_df[cv_results_df['param_model__reg_value'] == rv]['std_test_score'].mean() for rv in reg_value_values]\n",
    "\n",
    "bar_width = 0.18\n",
    "index = np.arange(len(reg_value_values))*0.3\n",
    "\n",
    "plt.bar(index, mean_crps_reg_value, yerr=std_crps_reg_value, capsize=5, color='green', alpha=0.6, width=bar_width, label=\"reg_value\")\n",
    "\n",
    "plt.title(\"Effect of Regularization Value on CRPS\")\n",
    "plt.xlabel(\"Regularization Value (reg_value)\")\n",
    "plt.ylabel(\"Mean CRPS Score\")\n",
    "plt.xticks(index, reg_value_values)\n",
    "plt.grid(True, axis='y')\n",
    "plt.gcf().savefig(base_path_plots / \"reg_value_effect.png\")\n",
    "plt.show()\n"
   ]
  },
  {
   "cell_type": "code",
   "execution_count": 45,
   "metadata": {},
   "outputs": [
    {
     "data": {
      "image/png": "[encoded data removed]",
      "text/plain": [
       "<Figure size 640x480 with 1 Axes>"
      ]
     },
     "metadata": {},
     "output_type": "display_data"
    }
   ],
   "source": [
    "learning_rate_values = cv_results_df['param_optimizer__learning_rate'].unique()\n",
    "mean_crps_learning_rate = [cv_results_df[cv_results_df['param_optimizer__learning_rate'] == lr]['mean_test_score'].mean() for lr in learning_rate_values]\n",
    "std_crps_learning_rate = [cv_results_df[cv_results_df['param_optimizer__learning_rate'] == lr]['std_test_score'].mean() for lr in learning_rate_values]\n",
    "\n",
    "bar_width = 0.18\n",
    "index = np.arange(len(learning_rate_values)) * 0.3\n",
    "\n",
    "\n",
    "plt.bar(index, mean_crps_learning_rate, yerr=std_crps_learning_rate, capsize=5, color='green', alpha=0.6, width=bar_width, label=\"learning_rate\")\n",
    "plt.title(\"Effect of Learning Rate on CRPS\")\n",
    "plt.xlabel(\"Learning Rate (learning_rate)\")\n",
    "plt.ylabel(\"Mean CRPS Score\")\n",
    "plt.xticks(index, learning_rate_values)\n",
    "plt.grid(True, axis='y')\n",
    "plt.gcf().savefig(base_path_plots / \"learning_rate_effect.png\")\n",
    "plt.show()"
   ]
  },
  {
   "cell_type": "code",
   "execution_count": 46,
   "metadata": {},
   "outputs": [
    {
     "data": {
      "text/plain": [
       "[1143.427641691985, 1148.1902827510128]"
      ]
     },
     "execution_count": 46,
     "metadata": {},
     "output_type": "execute_result"
    }
   ],
   "source": [
    "mean_crps_learning_rate"
   ]
  },
  {
   "cell_type": "code",
   "execution_count": 47,
   "metadata": {},
   "outputs": [
    {
     "data": {
      "text/plain": [
       "<bound method BaseEstimator.get_params of GridSearchCV(cv=3,\n",
       "             estimator=KerasRegressor(epochs=200, model=<function tune_nn.<locals>.create_model at 0x000001DAE90EBA60>, verbose=0),\n",
       "             n_jobs=1,\n",
       "             param_grid={'batch_size': [32],\n",
       "                         'model__dropout_rate': [0.1, 0.3, 0.5],\n",
       "                         'model__n_blocks': [1, 2, 4],\n",
       "                         'model__n_neurons': [64, 128, 256],\n",
       "                         'model__reg_value': [0.01],\n",
       "                         'optimizer__learning_rate': [0.001, 0.0001]},\n",
       "             scoring=make_scorer(crps_loss_function_wrapper, greater_is_better=False, response_method='predict'),\n",
       "             verbose=10)>"
      ]
     },
     "execution_count": 47,
     "metadata": {},
     "output_type": "execute_result"
    }
   ],
   "source": [
    "loaded_grid_search_tuned.get_params"
   ]
  },
  {
   "cell_type": "code",
   "execution_count": null,
   "metadata": {},
   "outputs": [],
   "source": []
  }
 ],
 "metadata": {
  "kernelspec": {
   "display_name": "base",
   "language": "python",
   "name": "python3"
  },
  "language_info": {
   "codemirror_mode": {
    "name": "ipython",
    "version": 3
   },
   "file_extension": ".py",
   "mimetype": "text/x-python",
   "name": "python",
   "nbconvert_exporter": "python",
   "pygments_lexer": "ipython3",
   "version": "3.12.7"
  }
 },
 "nbformat": 4,
 "nbformat_minor": 2
}
