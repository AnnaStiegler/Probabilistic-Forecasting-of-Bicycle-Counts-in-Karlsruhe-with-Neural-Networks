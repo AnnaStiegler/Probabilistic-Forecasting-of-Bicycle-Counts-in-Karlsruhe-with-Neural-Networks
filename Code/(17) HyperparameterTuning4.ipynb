{
 "cells": [
  {
   "cell_type": "code",
   "execution_count": 1,
   "metadata": {},
   "outputs": [],
   "source": [
    "import numpy as np\n",
    "import matplotlib.pyplot as plt #for displaying plots\n",
    "import pandas as pd\n",
    "import seaborn as sns\n",
    "import tensorflow as tf\n",
    "\n",
    "from keras.layers import *\n",
    "from keras.models import Sequential\n",
    "from keras.models import Model\n",
    "from keras.optimizers import *\n",
    "from keras.callbacks import *\n",
    "from keras import regularizers\n",
    "from keras.utils import plot_model\n",
    "\n",
    "from tensorflow.keras.saving import register_keras_serializable\n",
    "\n",
    "from sklearn.preprocessing import StandardScaler, OneHotEncoder\n",
    "from sklearn.inspection import permutation_importance\n",
    "from sklearn import svm, datasets\n",
    "from sklearn.model_selection import GridSearchCV\n",
    "from sklearn.metrics import make_scorer\n",
    "import datetime\n",
    "import random\n",
    "import properscoring as ps\n",
    "\n",
    "from scipy.stats import norm\n",
    "from scikeras.wrappers import KerasRegressor\n",
    "\n",
    "import xgboost\n",
    "import pydot\n",
    "import graphviz\n",
    "\n",
    "from keras.models import load_model\n",
    "from sklearn.multioutput import MultiOutputRegressor\n",
    "import pickle\n",
    "\n",
    "from sklearn.model_selection import ParameterGrid\n",
    "from pathlib import Path\n",
    "import joblib\n",
    "import shap\n",
    "from sklearn.model_selection import cross_val_score"
   ]
  },
  {
   "cell_type": "markdown",
   "metadata": {},
   "source": [
    "# Setup"
   ]
  },
  {
   "cell_type": "markdown",
   "metadata": {},
   "source": [
    "## Basic Setup"
   ]
  },
  {
   "cell_type": "code",
   "execution_count": 2,
   "metadata": {},
   "outputs": [],
   "source": [
    "# setting a seed to ensure reproducability and consistency\n",
    "random.seed(16)\n",
    "np.random.seed(16)\n",
    "tf.random.set_seed(16)"
   ]
  },
  {
   "cell_type": "code",
   "execution_count": null,
   "metadata": {},
   "outputs": [],
   "source": [
    "plt.rcParams.update({'font.size': 13})"
   ]
  },
  {
   "cell_type": "code",
   "execution_count": 3,
   "metadata": {},
   "outputs": [],
   "source": [
    "X_train = pd.read_pickle(r\"C:\\Users\\aisti\\OneDrive\\Dokumente\\Uni\\Bachelorarbeit\\Daten\\X_train_final.pkl\")\n",
    "X_valid = pd.read_pickle(r\"C:\\Users\\aisti\\OneDrive\\Dokumente\\Uni\\Bachelorarbeit\\Daten\\X_valid_final.pkl\")\n",
    "X_test = pd.read_pickle(r\"C:\\Users\\aisti\\OneDrive\\Dokumente\\Uni\\Bachelorarbeit\\Daten\\X_test_final.pkl\")\n",
    "\n",
    "X_train_all = pd.read_pickle(r\"C:\\Users\\aisti\\OneDrive\\Dokumente\\Uni\\Bachelorarbeit\\Daten\\X_train.pkl\")\n",
    "X_valid_all = pd.read_pickle(r\"C:\\Users\\aisti\\OneDrive\\Dokumente\\Uni\\Bachelorarbeit\\Daten\\X_valid.pkl\")\n",
    "X_test_all = pd.read_pickle(r\"C:\\Users\\aisti\\OneDrive\\Dokumente\\Uni\\Bachelorarbeit\\Daten\\X_test.pkl\")\n",
    "\n",
    "y_train = pd.read_pickle(r\"C:\\Users\\aisti\\OneDrive\\Dokumente\\Uni\\Bachelorarbeit\\Daten\\y_train.pkl\")\n",
    "y_valid = pd.read_pickle(r\"C:\\Users\\aisti\\OneDrive\\Dokumente\\Uni\\Bachelorarbeit\\Daten\\y_valid.pkl\")\n",
    "y_test = pd.read_pickle(r\"C:\\Users\\aisti\\OneDrive\\Dokumente\\Uni\\Bachelorarbeit\\Daten\\y_test.pkl\")\n"
   ]
  },
  {
   "cell_type": "code",
   "execution_count": 4,
   "metadata": {},
   "outputs": [],
   "source": [
    "X_train_all['date'] =  pd.to_datetime(X_train_all['date'])\n",
    "X_valid_all['date'] =  pd.to_datetime(X_valid_all['date'])\n",
    "X_test_all['date'] =  pd.to_datetime(X_test_all['date'])"
   ]
  },
  {
   "cell_type": "code",
   "execution_count": 5,
   "metadata": {},
   "outputs": [
    {
     "data": {
      "text/html": [
       "<div>\n",
       "<style scoped>\n",
       "    .dataframe tbody tr th:only-of-type {\n",
       "        vertical-align: middle;\n",
       "    }\n",
       "\n",
       "    .dataframe tbody tr th {\n",
       "        vertical-align: top;\n",
       "    }\n",
       "\n",
       "    .dataframe thead th {\n",
       "        text-align: right;\n",
       "    }\n",
       "</style>\n",
       "<table border=\"1\" class=\"dataframe\">\n",
       "  <thead>\n",
       "    <tr style=\"text-align: right;\">\n",
       "      <th></th>\n",
       "      <th>temperature</th>\n",
       "      <th>precipitation</th>\n",
       "      <th>public_holiday_indicator</th>\n",
       "      <th>is_workday</th>\n",
       "      <th>day_of_week</th>\n",
       "      <th>spring</th>\n",
       "      <th>summer</th>\n",
       "      <th>autumn</th>\n",
       "      <th>winter</th>\n",
       "      <th>windspeed</th>\n",
       "      <th>sun</th>\n",
       "      <th>school_holiday_indicator</th>\n",
       "    </tr>\n",
       "  </thead>\n",
       "  <tbody>\n",
       "    <tr>\n",
       "      <th>0</th>\n",
       "      <td>-0.039776</td>\n",
       "      <td>-0.397192</td>\n",
       "      <td>0</td>\n",
       "      <td>1</td>\n",
       "      <td>2</td>\n",
       "      <td>1.0</td>\n",
       "      <td>0.0</td>\n",
       "      <td>0.0</td>\n",
       "      <td>0.0</td>\n",
       "      <td>-0.218119</td>\n",
       "      <td>-0.031329</td>\n",
       "      <td>0</td>\n",
       "    </tr>\n",
       "    <tr>\n",
       "      <th>1</th>\n",
       "      <td>0.244625</td>\n",
       "      <td>-0.397192</td>\n",
       "      <td>0</td>\n",
       "      <td>1</td>\n",
       "      <td>3</td>\n",
       "      <td>1.0</td>\n",
       "      <td>0.0</td>\n",
       "      <td>0.0</td>\n",
       "      <td>0.0</td>\n",
       "      <td>-0.324284</td>\n",
       "      <td>-0.458165</td>\n",
       "      <td>0</td>\n",
       "    </tr>\n",
       "    <tr>\n",
       "      <th>2</th>\n",
       "      <td>0.381694</td>\n",
       "      <td>-0.371451</td>\n",
       "      <td>0</td>\n",
       "      <td>1</td>\n",
       "      <td>4</td>\n",
       "      <td>1.0</td>\n",
       "      <td>0.0</td>\n",
       "      <td>0.0</td>\n",
       "      <td>0.0</td>\n",
       "      <td>-1.076810</td>\n",
       "      <td>0.254435</td>\n",
       "      <td>0</td>\n",
       "    </tr>\n",
       "    <tr>\n",
       "      <th>3</th>\n",
       "      <td>1.300863</td>\n",
       "      <td>-0.397192</td>\n",
       "      <td>0</td>\n",
       "      <td>0</td>\n",
       "      <td>5</td>\n",
       "      <td>1.0</td>\n",
       "      <td>0.0</td>\n",
       "      <td>0.0</td>\n",
       "      <td>0.0</td>\n",
       "      <td>-0.405469</td>\n",
       "      <td>1.357699</td>\n",
       "      <td>0</td>\n",
       "    </tr>\n",
       "    <tr>\n",
       "      <th>4</th>\n",
       "      <td>0.745990</td>\n",
       "      <td>0.555250</td>\n",
       "      <td>0</td>\n",
       "      <td>0</td>\n",
       "      <td>6</td>\n",
       "      <td>1.0</td>\n",
       "      <td>0.0</td>\n",
       "      <td>0.0</td>\n",
       "      <td>0.0</td>\n",
       "      <td>0.297096</td>\n",
       "      <td>0.059103</td>\n",
       "      <td>0</td>\n",
       "    </tr>\n",
       "  </tbody>\n",
       "</table>\n",
       "</div>"
      ],
      "text/plain": [
       "   temperature  precipitation  public_holiday_indicator  is_workday  \\\n",
       "0    -0.039776      -0.397192                         0           1   \n",
       "1     0.244625      -0.397192                         0           1   \n",
       "2     0.381694      -0.371451                         0           1   \n",
       "3     1.300863      -0.397192                         0           0   \n",
       "4     0.745990       0.555250                         0           0   \n",
       "\n",
       "   day_of_week  spring  summer  autumn  winter  windspeed       sun  \\\n",
       "0            2     1.0     0.0     0.0     0.0  -0.218119 -0.031329   \n",
       "1            3     1.0     0.0     0.0     0.0  -0.324284 -0.458165   \n",
       "2            4     1.0     0.0     0.0     0.0  -1.076810  0.254435   \n",
       "3            5     1.0     0.0     0.0     0.0  -0.405469  1.357699   \n",
       "4            6     1.0     0.0     0.0     0.0   0.297096  0.059103   \n",
       "\n",
       "   school_holiday_indicator  \n",
       "0                         0  \n",
       "1                         0  \n",
       "2                         0  \n",
       "3                         0  \n",
       "4                         0  "
      ]
     },
     "execution_count": 5,
     "metadata": {},
     "output_type": "execute_result"
    }
   ],
   "source": [
    "X_train.head()"
   ]
  },
  {
   "cell_type": "code",
   "execution_count": 6,
   "metadata": {},
   "outputs": [
    {
     "data": {
      "text/html": [
       "<div>\n",
       "<style scoped>\n",
       "    .dataframe tbody tr th:only-of-type {\n",
       "        vertical-align: middle;\n",
       "    }\n",
       "\n",
       "    .dataframe tbody tr th {\n",
       "        vertical-align: top;\n",
       "    }\n",
       "\n",
       "    .dataframe thead th {\n",
       "        text-align: right;\n",
       "    }\n",
       "</style>\n",
       "<table border=\"1\" class=\"dataframe\">\n",
       "  <thead>\n",
       "    <tr style=\"text-align: right;\">\n",
       "      <th></th>\n",
       "      <th>temperature</th>\n",
       "      <th>precipitation</th>\n",
       "      <th>public_holiday_indicator</th>\n",
       "      <th>is_workday</th>\n",
       "      <th>day_of_week</th>\n",
       "      <th>spring</th>\n",
       "      <th>summer</th>\n",
       "      <th>autumn</th>\n",
       "      <th>winter</th>\n",
       "      <th>windspeed</th>\n",
       "      <th>sun</th>\n",
       "      <th>school_holiday_indicator</th>\n",
       "    </tr>\n",
       "  </thead>\n",
       "  <tbody>\n",
       "    <tr>\n",
       "      <th>359</th>\n",
       "      <td>-1.064496</td>\n",
       "      <td>-0.397192</td>\n",
       "      <td>0</td>\n",
       "      <td>1</td>\n",
       "      <td>1</td>\n",
       "      <td>0.0</td>\n",
       "      <td>0.0</td>\n",
       "      <td>0.0</td>\n",
       "      <td>1.0</td>\n",
       "      <td>-0.258711</td>\n",
       "      <td>-0.353265</td>\n",
       "      <td>1</td>\n",
       "    </tr>\n",
       "    <tr>\n",
       "      <th>360</th>\n",
       "      <td>-0.478837</td>\n",
       "      <td>-0.397192</td>\n",
       "      <td>0</td>\n",
       "      <td>1</td>\n",
       "      <td>2</td>\n",
       "      <td>0.0</td>\n",
       "      <td>0.0</td>\n",
       "      <td>0.0</td>\n",
       "      <td>1.0</td>\n",
       "      <td>1.087091</td>\n",
       "      <td>-0.823509</td>\n",
       "      <td>1</td>\n",
       "    </tr>\n",
       "    <tr>\n",
       "      <th>361</th>\n",
       "      <td>-0.104279</td>\n",
       "      <td>0.143383</td>\n",
       "      <td>0</td>\n",
       "      <td>1</td>\n",
       "      <td>3</td>\n",
       "      <td>0.0</td>\n",
       "      <td>0.0</td>\n",
       "      <td>0.0</td>\n",
       "      <td>1.0</td>\n",
       "      <td>2.276769</td>\n",
       "      <td>-0.913940</td>\n",
       "      <td>1</td>\n",
       "    </tr>\n",
       "    <tr>\n",
       "      <th>362</th>\n",
       "      <td>-0.691404</td>\n",
       "      <td>0.169125</td>\n",
       "      <td>0</td>\n",
       "      <td>1</td>\n",
       "      <td>4</td>\n",
       "      <td>0.0</td>\n",
       "      <td>0.0</td>\n",
       "      <td>0.0</td>\n",
       "      <td>1.0</td>\n",
       "      <td>-0.674006</td>\n",
       "      <td>-0.508807</td>\n",
       "      <td>1</td>\n",
       "    </tr>\n",
       "    <tr>\n",
       "      <th>363</th>\n",
       "      <td>0.541485</td>\n",
       "      <td>-0.397192</td>\n",
       "      <td>0</td>\n",
       "      <td>0</td>\n",
       "      <td>5</td>\n",
       "      <td>0.0</td>\n",
       "      <td>0.0</td>\n",
       "      <td>0.0</td>\n",
       "      <td>1.0</td>\n",
       "      <td>1.564836</td>\n",
       "      <td>-0.201340</td>\n",
       "      <td>1</td>\n",
       "    </tr>\n",
       "  </tbody>\n",
       "</table>\n",
       "</div>"
      ],
      "text/plain": [
       "     temperature  precipitation  public_holiday_indicator  is_workday  \\\n",
       "359    -1.064496      -0.397192                         0           1   \n",
       "360    -0.478837      -0.397192                         0           1   \n",
       "361    -0.104279       0.143383                         0           1   \n",
       "362    -0.691404       0.169125                         0           1   \n",
       "363     0.541485      -0.397192                         0           0   \n",
       "\n",
       "     day_of_week  spring  summer  autumn  winter  windspeed       sun  \\\n",
       "359            1     0.0     0.0     0.0     1.0  -0.258711 -0.353265   \n",
       "360            2     0.0     0.0     0.0     1.0   1.087091 -0.823509   \n",
       "361            3     0.0     0.0     0.0     1.0   2.276769 -0.913940   \n",
       "362            4     0.0     0.0     0.0     1.0  -0.674006 -0.508807   \n",
       "363            5     0.0     0.0     0.0     1.0   1.564836 -0.201340   \n",
       "\n",
       "     school_holiday_indicator  \n",
       "359                         1  \n",
       "360                         1  \n",
       "361                         1  \n",
       "362                         1  \n",
       "363                         1  "
      ]
     },
     "execution_count": 6,
     "metadata": {},
     "output_type": "execute_result"
    }
   ],
   "source": [
    "X_valid.tail()"
   ]
  },
  {
   "cell_type": "code",
   "execution_count": 7,
   "metadata": {},
   "outputs": [
    {
     "data": {
      "text/plain": [
       "0    1160.0\n",
       "1    2996.0\n",
       "2    3635.0\n",
       "3    3265.0\n",
       "4    3751.0\n",
       "Name: bike_count, dtype: float64"
      ]
     },
     "execution_count": 7,
     "metadata": {},
     "output_type": "execute_result"
    }
   ],
   "source": [
    "y_test.head()"
   ]
  },
  {
   "cell_type": "code",
   "execution_count": 8,
   "metadata": {},
   "outputs": [
    {
     "data": {
      "text/plain": [
       "((3161, 12), (364, 12), (390, 12))"
      ]
     },
     "execution_count": 8,
     "metadata": {},
     "output_type": "execute_result"
    }
   ],
   "source": [
    "X_train.shape, X_valid.shape, X_test.shape"
   ]
  },
  {
   "cell_type": "code",
   "execution_count": 9,
   "metadata": {},
   "outputs": [
    {
     "data": {
      "text/plain": [
       "((3161,), (364,), (390,))"
      ]
     },
     "execution_count": 9,
     "metadata": {},
     "output_type": "execute_result"
    }
   ],
   "source": [
    "y_train.shape, y_valid.shape, y_test.shape"
   ]
  },
  {
   "cell_type": "code",
   "execution_count": 10,
   "metadata": {},
   "outputs": [],
   "source": [
    "y_train = y_train.reset_index(drop=True)\n",
    "y_valid = y_valid.reset_index(drop=True)\n",
    "y_test = y_test.reset_index(drop=True)"
   ]
  },
  {
   "cell_type": "code",
   "execution_count": 11,
   "metadata": {},
   "outputs": [
    {
     "data": {
      "text/plain": [
       "((3161,), (364,), (390,))"
      ]
     },
     "execution_count": 11,
     "metadata": {},
     "output_type": "execute_result"
    }
   ],
   "source": [
    "y_train.shape, y_valid.shape, y_test.shape"
   ]
  },
  {
   "cell_type": "code",
   "execution_count": 12,
   "metadata": {},
   "outputs": [
    {
     "data": {
      "text/plain": [
       "temperature                 0\n",
       "precipitation               0\n",
       "public_holiday_indicator    0\n",
       "is_workday                  0\n",
       "day_of_week                 0\n",
       "spring                      0\n",
       "summer                      0\n",
       "autumn                      0\n",
       "winter                      0\n",
       "windspeed                   0\n",
       "sun                         0\n",
       "school_holiday_indicator    0\n",
       "dtype: int64"
      ]
     },
     "execution_count": 12,
     "metadata": {},
     "output_type": "execute_result"
    }
   ],
   "source": [
    "X_train.isna().sum()"
   ]
  },
  {
   "cell_type": "code",
   "execution_count": 13,
   "metadata": {},
   "outputs": [
    {
     "data": {
      "text/plain": [
       "temperature                 float64\n",
       "precipitation               float64\n",
       "public_holiday_indicator      int64\n",
       "is_workday                    int64\n",
       "day_of_week                   int64\n",
       "spring                      float64\n",
       "summer                      float64\n",
       "autumn                      float64\n",
       "winter                      float64\n",
       "windspeed                   float64\n",
       "sun                         float64\n",
       "school_holiday_indicator      int64\n",
       "dtype: object"
      ]
     },
     "execution_count": 13,
     "metadata": {},
     "output_type": "execute_result"
    }
   ],
   "source": [
    "X_train.dtypes"
   ]
  },
  {
   "cell_type": "code",
   "execution_count": 14,
   "metadata": {},
   "outputs": [
    {
     "data": {
      "text/html": [
       "<div>\n",
       "<style scoped>\n",
       "    .dataframe tbody tr th:only-of-type {\n",
       "        vertical-align: middle;\n",
       "    }\n",
       "\n",
       "    .dataframe tbody tr th {\n",
       "        vertical-align: top;\n",
       "    }\n",
       "\n",
       "    .dataframe thead th {\n",
       "        text-align: right;\n",
       "    }\n",
       "</style>\n",
       "<table border=\"1\" class=\"dataframe\">\n",
       "  <thead>\n",
       "    <tr style=\"text-align: right;\">\n",
       "      <th></th>\n",
       "      <th>temperature</th>\n",
       "      <th>precipitation</th>\n",
       "      <th>public_holiday_indicator</th>\n",
       "      <th>is_workday</th>\n",
       "      <th>day_of_week</th>\n",
       "      <th>spring</th>\n",
       "      <th>summer</th>\n",
       "      <th>autumn</th>\n",
       "      <th>winter</th>\n",
       "      <th>windspeed</th>\n",
       "      <th>sun</th>\n",
       "      <th>school_holiday_indicator</th>\n",
       "    </tr>\n",
       "  </thead>\n",
       "  <tbody>\n",
       "    <tr>\n",
       "      <th>count</th>\n",
       "      <td>3.161000e+03</td>\n",
       "      <td>3.161000e+03</td>\n",
       "      <td>3161.000000</td>\n",
       "      <td>3161.000000</td>\n",
       "      <td>3161.000000</td>\n",
       "      <td>3161.000000</td>\n",
       "      <td>3161.000000</td>\n",
       "      <td>3161.000000</td>\n",
       "      <td>3161.000000</td>\n",
       "      <td>3.161000e+03</td>\n",
       "      <td>3.161000e+03</td>\n",
       "      <td>3161.000000</td>\n",
       "    </tr>\n",
       "    <tr>\n",
       "      <th>mean</th>\n",
       "      <td>4.450726e-16</td>\n",
       "      <td>3.708939e-17</td>\n",
       "      <td>0.033534</td>\n",
       "      <td>0.684910</td>\n",
       "      <td>3.001898</td>\n",
       "      <td>0.243277</td>\n",
       "      <td>0.259412</td>\n",
       "      <td>0.259095</td>\n",
       "      <td>0.238216</td>\n",
       "      <td>4.832859e-17</td>\n",
       "      <td>4.720467e-17</td>\n",
       "      <td>0.232521</td>\n",
       "    </tr>\n",
       "    <tr>\n",
       "      <th>std</th>\n",
       "      <td>1.000158e+00</td>\n",
       "      <td>1.000158e+00</td>\n",
       "      <td>0.180054</td>\n",
       "      <td>0.464625</td>\n",
       "      <td>2.001106</td>\n",
       "      <td>0.429129</td>\n",
       "      <td>0.438381</td>\n",
       "      <td>0.438207</td>\n",
       "      <td>0.426059</td>\n",
       "      <td>1.000158e+00</td>\n",
       "      <td>1.000158e+00</td>\n",
       "      <td>0.422506</td>\n",
       "    </tr>\n",
       "    <tr>\n",
       "      <th>min</th>\n",
       "      <td>-2.660948e+00</td>\n",
       "      <td>-3.971923e-01</td>\n",
       "      <td>0.000000</td>\n",
       "      <td>0.000000</td>\n",
       "      <td>0.000000</td>\n",
       "      <td>0.000000</td>\n",
       "      <td>0.000000</td>\n",
       "      <td>0.000000</td>\n",
       "      <td>0.000000</td>\n",
       "      <td>-1.513961e+00</td>\n",
       "      <td>-1.094803e+00</td>\n",
       "      <td>0.000000</td>\n",
       "    </tr>\n",
       "    <tr>\n",
       "      <th>25%</th>\n",
       "      <td>-7.932892e-01</td>\n",
       "      <td>-3.971923e-01</td>\n",
       "      <td>0.000000</td>\n",
       "      <td>0.000000</td>\n",
       "      <td>1.000000</td>\n",
       "      <td>0.000000</td>\n",
       "      <td>0.000000</td>\n",
       "      <td>0.000000</td>\n",
       "      <td>0.000000</td>\n",
       "      <td>-7.364558e-01</td>\n",
       "      <td>-9.899026e-01</td>\n",
       "      <td>0.000000</td>\n",
       "    </tr>\n",
       "    <tr>\n",
       "      <th>50%</th>\n",
       "      <td>-9.270793e-04</td>\n",
       "      <td>-3.971923e-01</td>\n",
       "      <td>0.000000</td>\n",
       "      <td>1.000000</td>\n",
       "      <td>3.000000</td>\n",
       "      <td>0.000000</td>\n",
       "      <td>0.000000</td>\n",
       "      <td>0.000000</td>\n",
       "      <td>0.000000</td>\n",
       "      <td>-2.056287e-01</td>\n",
       "      <td>-2.085744e-01</td>\n",
       "      <td>0.000000</td>\n",
       "    </tr>\n",
       "    <tr>\n",
       "      <th>75%</th>\n",
       "      <td>7.907021e-01</td>\n",
       "      <td>-1.140338e-01</td>\n",
       "      <td>0.000000</td>\n",
       "      <td>1.000000</td>\n",
       "      <td>5.000000</td>\n",
       "      <td>0.000000</td>\n",
       "      <td>1.000000</td>\n",
       "      <td>1.000000</td>\n",
       "      <td>0.000000</td>\n",
       "      <td>4.969366e-01</td>\n",
       "      <td>8.585175e-01</td>\n",
       "      <td>0.000000</td>\n",
       "    </tr>\n",
       "    <tr>\n",
       "      <th>max</th>\n",
       "      <td>2.566737e+00</td>\n",
       "      <td>1.461021e+01</td>\n",
       "      <td>1.000000</td>\n",
       "      <td>1.000000</td>\n",
       "      <td>6.000000</td>\n",
       "      <td>1.000000</td>\n",
       "      <td>1.000000</td>\n",
       "      <td>1.000000</td>\n",
       "      <td>1.000000</td>\n",
       "      <td>4.952762e+00</td>\n",
       "      <td>2.193287e+00</td>\n",
       "      <td>1.000000</td>\n",
       "    </tr>\n",
       "  </tbody>\n",
       "</table>\n",
       "</div>"
      ],
      "text/plain": [
       "        temperature  precipitation  public_holiday_indicator   is_workday  \\\n",
       "count  3.161000e+03   3.161000e+03               3161.000000  3161.000000   \n",
       "mean   4.450726e-16   3.708939e-17                  0.033534     0.684910   \n",
       "std    1.000158e+00   1.000158e+00                  0.180054     0.464625   \n",
       "min   -2.660948e+00  -3.971923e-01                  0.000000     0.000000   \n",
       "25%   -7.932892e-01  -3.971923e-01                  0.000000     0.000000   \n",
       "50%   -9.270793e-04  -3.971923e-01                  0.000000     1.000000   \n",
       "75%    7.907021e-01  -1.140338e-01                  0.000000     1.000000   \n",
       "max    2.566737e+00   1.461021e+01                  1.000000     1.000000   \n",
       "\n",
       "       day_of_week       spring       summer       autumn       winter  \\\n",
       "count  3161.000000  3161.000000  3161.000000  3161.000000  3161.000000   \n",
       "mean      3.001898     0.243277     0.259412     0.259095     0.238216   \n",
       "std       2.001106     0.429129     0.438381     0.438207     0.426059   \n",
       "min       0.000000     0.000000     0.000000     0.000000     0.000000   \n",
       "25%       1.000000     0.000000     0.000000     0.000000     0.000000   \n",
       "50%       3.000000     0.000000     0.000000     0.000000     0.000000   \n",
       "75%       5.000000     0.000000     1.000000     1.000000     0.000000   \n",
       "max       6.000000     1.000000     1.000000     1.000000     1.000000   \n",
       "\n",
       "          windspeed           sun  school_holiday_indicator  \n",
       "count  3.161000e+03  3.161000e+03               3161.000000  \n",
       "mean   4.832859e-17  4.720467e-17                  0.232521  \n",
       "std    1.000158e+00  1.000158e+00                  0.422506  \n",
       "min   -1.513961e+00 -1.094803e+00                  0.000000  \n",
       "25%   -7.364558e-01 -9.899026e-01                  0.000000  \n",
       "50%   -2.056287e-01 -2.085744e-01                  0.000000  \n",
       "75%    4.969366e-01  8.585175e-01                  0.000000  \n",
       "max    4.952762e+00  2.193287e+00                  1.000000  "
      ]
     },
     "execution_count": 14,
     "metadata": {},
     "output_type": "execute_result"
    }
   ],
   "source": [
    "X_train.describe()"
   ]
  },
  {
   "cell_type": "markdown",
   "metadata": {},
   "source": [
    "## Functions"
   ]
  },
  {
   "cell_type": "code",
   "execution_count": 15,
   "metadata": {},
   "outputs": [],
   "source": [
    "def add_column(X_train_num, X_valid_num, X_test_num, X_train, X_valid, X_test, col_name):\n",
    "    \n",
    "    X_train_num[col_name] = X_train[col_name]\n",
    "    X_valid_num[col_name] = X_valid[col_name]\n",
    "    X_test_num[col_name] = X_test[col_name]\n",
    "    \n",
    "    return X_train_num, X_valid_num, X_test_num"
   ]
  },
  {
   "cell_type": "code",
   "execution_count": 16,
   "metadata": {},
   "outputs": [],
   "source": [
    "def crps_normal_cost_function(y_true, y_pred, tensor=True):\n",
    "    \"\"\"Compute the CRPS cost function for a normal distribution defined by\n",
    "    the mean and standard deviation.\n",
    "\n",
    "    Args:\n",
    "        y_true: True values\n",
    "        y_pred: Tensor containing predictions: [mean, std]\n",
    "\n",
    "    Returns:\n",
    "        mean_crps: Scalar with mean CRPS over batch or tensor with all crps values of batch\n",
    "    \"\"\"\n",
    "    # get rid of axis 1\n",
    "    if tensor:\n",
    "        y_true = y_true[:, 0]\n",
    "    \n",
    "    # Split input\n",
    "    mu = y_pred[:, 0]\n",
    "    var = tf.square(y_pred[:, 1]) # Ensure standard deviation is positive\n",
    "    sigma = tf.sqrt(var)  \n",
    "    #sigma = y_pred[:, 1]\n",
    "\n",
    "    # The following three variables are just for convenience\n",
    "    loc = (y_true - mu) / sigma\n",
    "    phi = 1.0 / tf.sqrt(2.0 * np.pi) * tf.exp(-tf.square(loc) / 2.0)\n",
    "    Phi = 0.5 * (1.0 + tf.math.erf(loc / tf.sqrt(2.0)))\n",
    "    # First we will compute the crps for each input/target pair\n",
    "    crps =  sigma * (loc * (2. * Phi - 1.) + 2 * phi - 1. / tf.sqrt(np.pi))\n",
    "    # Then we take the mean. The cost is now a scalar\n",
    "    return tf.reduce_mean(crps) if tensor else crps"
   ]
  },
  {
   "cell_type": "code",
   "execution_count": 17,
   "metadata": {},
   "outputs": [],
   "source": [
    "def crps_normal_cost_function_v2(y_true, y_pred, tensor=True):\n",
    "    \"\"\"Compute the CRPS cost function for a normal distribution defined by\n",
    "    the mean and standard deviation.\n",
    "\n",
    "    Args:\n",
    "        y_true: True values\n",
    "        y_pred: Tensor containing predictions: [mean, std]\n",
    "\n",
    "    Returns:\n",
    "        mean_crps: Scalar with mean CRPS over batch or tensor with all crps values of batch\n",
    "    \"\"\"\n",
    "    # get rid of axis 1\n",
    "    if tensor:\n",
    "        y_true = y_true[:, 0]\n",
    "\n",
    "    # Split input\n",
    "    mu = y_pred[:, 0]\n",
    "    sigma = tf.math.softplus(y_pred[:, 1])  # Apply softplus to ensure positive std\n",
    "    #sigma = y_pred[:, 1]\n",
    "\n",
    "    # The following three variables are just for convenience\n",
    "    loc = (y_true - mu) / sigma\n",
    "    phi = 1.0 / tf.sqrt(2.0 * np.pi) * tf.exp(-tf.square(loc) / 2.0)\n",
    "    Phi = 0.5 * (1.0 + tf.math.erf(loc / tf.sqrt(2.0)))\n",
    "    # First we will compute the crps for each input/target pair\n",
    "    crps =  sigma * (loc * (2. * Phi - 1.) + 2 * phi - 1. / tf.sqrt(np.pi))\n",
    "    \n",
    "    # Then we take the mean. The cost is now a scalar\n",
    "    return tf.reduce_mean(crps) if tensor else crps"
   ]
  },
  {
   "cell_type": "code",
   "execution_count": 18,
   "metadata": {},
   "outputs": [],
   "source": [
    "def predict_and_calculate_mean_crps(model, X_test = X_test, y_test = y_test, print_predicted_mean_std = False):\n",
    "    \"\"\"Make predictions on test data and calculate mean CRPS.\n",
    "\n",
    "    Args:\n",
    "        model: Trained model\n",
    "        X_test: Test data\n",
    "        y_test: True values\n",
    "        print_predicted_mean_std: Boolean to print predicted mean and std\n",
    "\n",
    "    Returns:\n",
    "        mean_crps: Scalar with mean CRPS over batch or tensor with all crps values of batch\n",
    "    \"\"\"\n",
    "     \n",
    "    predicted_mean_std = model.predict(X_test)\n",
    "    if print_predicted_mean_std:\n",
    "        print(predicted_mean_std)\n",
    "    \n",
    "    predicted_mean = predicted_mean_std[:, 0]\n",
    "    predicted_std = predicted_mean_std[:, 1]\n",
    "    crps_values = ps.crps_gaussian(y_test, mu=predicted_mean, sig=predicted_std)\n",
    "\n",
    "    mean_crps = np.mean(crps_values)\n",
    "    print(f\"\\nMean CRPS: { mean_crps }\")\n",
    "\n",
    "\n",
    "    return mean_crps, predicted_mean_std, crps_values"
   ]
  },
  {
   "cell_type": "code",
   "execution_count": 19,
   "metadata": {},
   "outputs": [],
   "source": [
    "def compile_and_fit_model(model, X_train = X_train, y_train = y_train, X_valid = X_valid, y_valid = y_valid,  pat=5, lr=1e-3, loss_function = crps_normal_cost_function, epochs = 100, batch_size = 10):\n",
    "    \"\"\"Compile and fit a model on training data.\n",
    "\n",
    "    Args:\n",
    "        model: model to be trained\n",
    "        X_train: Training data\n",
    "        y_train: Training targets\n",
    "        X_valid: Validation data\n",
    "        y_valid: Validation targets\n",
    "        pat: Patience for early stopping\n",
    "        lr: Learning rate\n",
    "        loss_function: Loss function\n",
    "        epochs: Number of epochs\n",
    "        batch_size: Batch size\n",
    "\n",
    "    Returns:\n",
    "        model: Trained model\n",
    "    \"\"\"\n",
    "\n",
    "    #print some information about the model\n",
    "    print('Model information:\\n\\nCallbacks: EarlyStopping (patience: ' + str(pat) + '), Learning Rate (Reduce on Plateau, patience: ' + str(pat) + ')\\nBatch size: ' + str(batch_size) + '\\nEpochs: ' + str(epochs) + '\\n')\n",
    "    \n",
    "    early_stopping = tf.keras.callbacks.EarlyStopping(monitor='val_loss',\n",
    "                                                      patience=pat, \n",
    "                                                      restore_best_weights=True)\n",
    "    \n",
    "    reduce_lr = tf.keras.callbacks.ReduceLROnPlateau(monitor='val_loss',\n",
    "                                                     factor=0.2,\n",
    "                                                     patience = pat,\n",
    "                                                     min_lr=0 )\n",
    "    # Compile the model\n",
    "    model.compile(optimizer=tf.keras.optimizers.Adam(learning_rate=lr), loss=loss_function)\n",
    "\n",
    "    # Train the model\n",
    "    history = model.fit(X_train, y_train, epochs=epochs, batch_size=batch_size, validation_data=(X_valid, y_valid), callbacks=[early_stopping, reduce_lr])\n",
    "\n",
    "    return model, history"
   ]
  },
  {
   "cell_type": "code",
   "execution_count": 20,
   "metadata": {},
   "outputs": [],
   "source": [
    "def plot_loss(history):\n",
    "    \"\"\"Plot training and validation loss.\n",
    "\n",
    "    Args:\n",
    "        history: History object\n",
    "    \"\"\"\n",
    "    plt.figure(figsize=(10, 6))\n",
    "    plt.plot(history.history['loss'], label='Training loss')\n",
    "    plt.plot(history.history['val_loss'], label='Validation loss')\n",
    "    plt.xlabel('Epoch')\n",
    "    plt.ylabel('Loss')\n",
    "    plt.title('Training and validation loss')\n",
    "    plt.legend()\n",
    "    plt.show()"
   ]
  },
  {
   "cell_type": "code",
   "execution_count": 21,
   "metadata": {},
   "outputs": [],
   "source": [
    "def process_model(model, X_train = X_train, y_train = y_train, X_valid = X_valid, y_valid = y_valid,  X_test = X_test, y_test = y_test, pat=5, lr=1e-3, loss_function = crps_normal_cost_function, epochs = 100, batch_size = 10, print_predicted_mean_std = False, plot_loss_flag = True):\n",
    "    \"\"\"Compile, fit and evaluate a model.\n",
    "\n",
    "    Args:\n",
    "        model: model to be trained\n",
    "        X_train: Training data\n",
    "        y_train: Training targets\n",
    "        X_valid: Validation data\n",
    "        y_valid: Validation targets\n",
    "        X_test: Test data\n",
    "        y_test: Test targets\n",
    "        pat: Patience for early stopping\n",
    "        lr: Learning rate\n",
    "        loss_function: Loss function\n",
    "        epochs: Number of epochs\n",
    "        batch_size: Batch size\n",
    "        print_predicted_mean_std: Boolean to print predicted mean and std\n",
    "\"\"\"\n",
    "\n",
    "    model, history = compile_and_fit_model(model, X_train, y_train, X_valid, y_valid,  pat, lr, loss_function, epochs, batch_size)\n",
    "\n",
    "    mean_crps, predicted_mean_std = predict_and_calculate_mean_crps(model, X_test, y_test, print_predicted_mean_std)\n",
    "\n",
    "    if plot_loss_flag:\n",
    "        plot_loss(history)\n",
    "\n",
    "    return model, mean_crps, history, predicted_mean_std"
   ]
  },
  {
   "cell_type": "markdown",
   "metadata": {},
   "source": [
    "# Hyperparameter Tuning"
   ]
  },
  {
   "cell_type": "markdown",
   "metadata": {},
   "source": [
    "## Functions"
   ]
  },
  {
   "cell_type": "code",
   "execution_count": 22,
   "metadata": {},
   "outputs": [],
   "source": [
    "@register_keras_serializable(package=\"Custom\", name=\"crps_normal_cost_function\")\n",
    "def crps_normal_cost_function_v3(y_true, y_pred, tensor=True):\n",
    "    \"\"\"Compute the CRPS cost function for a normal distribution defined by\n",
    "    the mean and standard deviation.\n",
    "\n",
    "    Args:\n",
    "        y_true: True values\n",
    "        y_pred: Tensor containing predictions: [mean, std]\n",
    "\n",
    "    Returns:\n",
    "        mean_crps: Scalar with mean CRPS over batch or tensor with all crps values of batch\n",
    "    \"\"\"\n",
    "    #print(\"y_true shape2: \", y_true.shape)\n",
    "    # Split input\n",
    "    mu = y_pred[:, 0]\n",
    "    sigma = tf.math.softplus(y_pred[:, 1])  # Apply softplus to ensure positive std\n",
    "    #sigma = y_pred[:, 1]\n",
    "    \n",
    "    # The following three variables are just for convenience\n",
    "    loc = (y_true - mu) / sigma\n",
    "    phi = 1.0 / tf.sqrt(2.0 * np.pi) * tf.exp(-tf.square(loc) / 2.0)\n",
    "    Phi = 0.5 * (1.0 + tf.math.erf(loc / tf.sqrt(2.0)))\n",
    "    \n",
    "     # First we will compute the crps for each input/target pair\n",
    "    crps =  sigma * (loc * (2. * Phi - 1.) + 2 * phi - 1. / tf.sqrt(np.pi))   \n",
    "    \n",
    "    # Then we take the mean. The cost is now a scalar\n",
    "    return tf.reduce_mean(crps) if tensor else crps\n"
   ]
  },
  {
   "cell_type": "code",
   "execution_count": 23,
   "metadata": {},
   "outputs": [],
   "source": [
    "@register_keras_serializable(package=\"Custom\", name=\"crps_loss_function_wrapper\")  \n",
    "def crps_loss_function_wrapper(y_true, y_pred, tensor=True):\n",
    "    \"\"\"Wrapper for CRPS loss function.\n",
    "\n",
    "    Args:\n",
    "        y_true: True values\n",
    "        y_pred: Tensor containing predictions: [mean, std]\n",
    "\n",
    "    Returns:\n",
    "        mean_crps: Scalar with mean CRPS over batch\n",
    "    \"\"\"\n",
    "    \n",
    "    if isinstance(y_pred, (pd.DataFrame, pd.Series)):\n",
    "       y_pred = tf.convert_to_tensor(y_pred.values)\n",
    "\n",
    "    if isinstance(y_true, (pd.DataFrame, pd.Series)):\n",
    "        y_true = tf.convert_to_tensor(y_true.values, dtype=tf.float32)\n",
    "        \n",
    "    y_pred_reshaped = y_pred.reshape(-1, 2) #Keras Regressor flattens the values so they need to be reshaped\n",
    "\n",
    "    crps = crps_normal_cost_function_v3(y_true, y_pred_reshaped, tensor)\n",
    "\n",
    "    crps = crps.numpy()\n",
    "    \n",
    "    return crps"
   ]
  },
  {
   "cell_type": "code",
   "execution_count": 24,
   "metadata": {},
   "outputs": [],
   "source": [
    "def tune_nn(input_shape_in, X_train_in, X_valid_in, X_test_in, y_train_in, y_valid_in, y_test_in, model_in=None, n_neurons=[256], dropout_rate=[0.25], \n",
    "            reg_values=[ 0.01], batch_size=[32], learning_rate=[1e-4], n_blocks=[2,4,5,6], epochs = 200, cv=5, n_jobs=1, verbose=10, patience=5):\n",
    "    \"\"\"Tune hyperparameters of a neural network using GridSearchCV.\n",
    "\n",
    "    Args:\n",
    "        input_shape_in: Number of features\n",
    "        X_train_in: Training data\n",
    "        X_valid_in: Validation data\n",
    "        X_test_in: Test data\n",
    "        y_train_in: Training targets\n",
    "        y_valid_in: Validation targets\n",
    "        y_test_in: Test targets\n",
    "        model_in: Predefined model\n",
    "        n_neurons: Number of neurons in hidden layers\n",
    "        dropout_rate: Dropout rate\n",
    "        reg_values: Regularization values\n",
    "        batch_size: Batch size\n",
    "        learning_rate: Learning rate\n",
    "        n_blocks: Number of blocks\n",
    "        epochs: Number of epochs\n",
    "        cv: Number of cross-validation folds\n",
    "        n_jobs: Number of jobs\n",
    "        verbose: Verbosity\n",
    "        patience: Patience for early stopping\n",
    "\n",
    "\n",
    "    Returns:\n",
    "        y_pred: Predictions on test data\n",
    "        best_model: Best model\n",
    "        cv_results: Results of cross-validation\n",
    "    \"\"\"\n",
    "\n",
    "\n",
    "    iteration = 0\n",
    "\n",
    "    # Define Keras model with hyperparameters\n",
    "    def create_model(n_neurons, dropout_rate, reg_value, n_blocks):\n",
    "        nonlocal iteration  # Declare iteration as nonlocal\n",
    "        model = model_in\n",
    "        input_shape = input_shape_in\n",
    "        if model is None:\n",
    "            model = Sequential()\n",
    "            model.add(Input(shape=(input_shape,)))\n",
    "\n",
    "            for i in range(n_blocks):\n",
    "                model.add(Dense(n_neurons, activation='relu', kernel_regularizer=regularizers.l2(reg_value)))\n",
    "                if i%2 == 0:# add a dropout layer every 2nd layer\n",
    "                    model.add(Dropout(dropout_rate))\n",
    "            \n",
    "            # Output layer with two outputs: mean and std\n",
    "            model.add(Dense(2, activation='softplus'))\n",
    "        \n",
    "        if iteration % cv == 1 or iteration == 0: # don't print for every fold\n",
    "            model.summary()\n",
    "        \n",
    "        iteration += 1\n",
    "        # only to see that something is happening\n",
    "        print(\"Iteration: \" + str(iteration))\n",
    "\n",
    "        \n",
    "        model.compile(optimizer=tf.keras.optimizers.Adam(), loss=crps_normal_cost_function_v3 )\n",
    "        return model\n",
    "\n",
    "    # Define hyperparameters\n",
    "    param_grid = dict(\n",
    "       batch_size=batch_size,\n",
    "       optimizer__learning_rate=learning_rate,\n",
    "        model__n_neurons=n_neurons,\n",
    "        model__dropout_rate=dropout_rate,\n",
    "        model__reg_value=reg_values,\n",
    "        model__n_blocks=n_blocks\n",
    "    ) \n",
    "\n",
    "\n",
    "    # Create the model\n",
    "    model = KerasRegressor(model=create_model, epochs=epochs, verbose=0)\n",
    "    \n",
    "\n",
    "    my_scorer = make_scorer(crps_loss_function_wrapper, greater_is_better=False) \n",
    "\n",
    "    # Perform GridSearchCV\n",
    "    grid_search = GridSearchCV(estimator=model, param_grid=param_grid, cv=cv, n_jobs=n_jobs, verbose=verbose, scoring=my_scorer)\n",
    "\n",
    "    early_stopping = tf.keras.callbacks.EarlyStopping(monitor='val_loss', patience=patience, restore_best_weights=True)\n",
    "    \n",
    "    grid_search.fit(X_train_in, y_train_in, validation_data=(X_valid_in, y_valid_in), callbacks=[early_stopping])\n",
    "\n",
    "    # Access the best hyperparameters and results\n",
    "    best_params = grid_search.best_params_\n",
    "    cv_results = pd.DataFrame(grid_search.cv_results_)\n",
    "    best_model = grid_search.best_estimator_\n",
    "\n",
    "    # Print the best hyperparameters\n",
    "    print(\"Best Hyperparameters:\")\n",
    "    for param, value in best_params.items():\n",
    "        print(f\"{param}: {value}\")\n",
    "\n",
    "    y_pred = best_model.model_.predict(X_test_in)\n",
    "    predicted_mean = y_pred[:, 0]\n",
    "    predicted_std = y_pred[:, 1]\n",
    "\n",
    "    mean_crps = np.mean(ps.crps_gaussian(y_test_in, mu=predicted_mean, sig=predicted_std))\n",
    "    print(f\"\\nMean CRPS: { mean_crps }\")\n",
    "    \n",
    "    return  y_pred, best_model, cv_results, grid_search\n",
    "    "
   ]
  },
  {
   "cell_type": "markdown",
   "metadata": {},
   "source": [
    "## Grid Search"
   ]
  },
  {
   "cell_type": "code",
   "execution_count": 25,
   "metadata": {},
   "outputs": [],
   "source": [
    "#y_pred_tuned, best_model_tuned, cv_results_tuned, grid_search_tuned = tune_nn(X_train.shape[1], X_train, X_valid, X_test, y_train, y_valid, y_test, cv=3 )"
   ]
  },
  {
   "cell_type": "markdown",
   "metadata": {},
   "source": [
    "## Saving the GridSearch"
   ]
  },
  {
   "cell_type": "code",
   "execution_count": 26,
   "metadata": {},
   "outputs": [],
   "source": [
    "base_path = Path(r\"C:\\Users\\aisti\\OneDrive\\Dokumente\\Uni\\Bachelorarbeit\\Hyperparameter_Tuning_Ergebnisse\")"
   ]
  },
  {
   "cell_type": "code",
   "execution_count": 27,
   "metadata": {},
   "outputs": [],
   "source": [
    "file_name_grid_search = \"grid_search_tuned_v4.pkl\"\n",
    "file_path_grid_search = base_path / file_name_grid_search\n",
    "\n",
    "#joblib.dump(grid_search_tuned, str(file_path_grid_search))"
   ]
  },
  {
   "cell_type": "markdown",
   "metadata": {},
   "source": [
    "## Loading the Grid Search"
   ]
  },
  {
   "cell_type": "code",
   "execution_count": 28,
   "metadata": {},
   "outputs": [],
   "source": [
    "loaded_grid_search_tuned = joblib.load(str(file_path_grid_search))"
   ]
  },
  {
   "cell_type": "code",
   "execution_count": 29,
   "metadata": {},
   "outputs": [
    {
     "data": {
      "text/plain": [
       "{'batch_size': 32,\n",
       " 'model__dropout_rate': 0.25,\n",
       " 'model__n_blocks': 2,\n",
       " 'model__n_neurons': 256,\n",
       " 'model__reg_value': 0.01,\n",
       " 'optimizer__learning_rate': 0.0001}"
      ]
     },
     "execution_count": 29,
     "metadata": {},
     "output_type": "execute_result"
    }
   ],
   "source": [
    "loaded_grid_search_tuned.best_params_"
   ]
  },
  {
   "cell_type": "code",
   "execution_count": 30,
   "metadata": {},
   "outputs": [
    {
     "data": {
      "text/plain": [
       "<bound method BaseEstimator.get_params of GridSearchCV(cv=3,\n",
       "             estimator=KerasRegressor(epochs=200, model=<function tune_nn.<locals>.create_model at 0x00000198A3ED93A0>, verbose=0),\n",
       "             n_jobs=1,\n",
       "             param_grid={'batch_size': [32], 'model__dropout_rate': [0.25],\n",
       "                         'model__n_blocks': [2, 4, 5, 6],\n",
       "                         'model__n_neurons': [256], 'model__reg_value': [0.01],\n",
       "                         'optimizer__learning_rate': [0.0001]},\n",
       "             scoring=make_scorer(crps_loss_function_wrapper, greater_is_better=False, response_method='predict'),\n",
       "             verbose=10)>"
      ]
     },
     "execution_count": 30,
     "metadata": {},
     "output_type": "execute_result"
    }
   ],
   "source": [
    "loaded_grid_search_tuned.get_params"
   ]
  },
  {
   "cell_type": "markdown",
   "metadata": {},
   "source": [
    "### Tests if everything went well"
   ]
  },
  {
   "cell_type": "code",
   "execution_count": 31,
   "metadata": {},
   "outputs": [
    {
     "data": {
      "text/html": [
       "<div>\n",
       "<style scoped>\n",
       "    .dataframe tbody tr th:only-of-type {\n",
       "        vertical-align: middle;\n",
       "    }\n",
       "\n",
       "    .dataframe tbody tr th {\n",
       "        vertical-align: top;\n",
       "    }\n",
       "\n",
       "    .dataframe thead th {\n",
       "        text-align: right;\n",
       "    }\n",
       "</style>\n",
       "<table border=\"1\" class=\"dataframe\">\n",
       "  <thead>\n",
       "    <tr style=\"text-align: right;\">\n",
       "      <th></th>\n",
       "      <th>mean_fit_time</th>\n",
       "      <th>std_fit_time</th>\n",
       "      <th>mean_score_time</th>\n",
       "      <th>std_score_time</th>\n",
       "      <th>param_batch_size</th>\n",
       "      <th>param_model__dropout_rate</th>\n",
       "      <th>param_model__n_blocks</th>\n",
       "      <th>param_model__n_neurons</th>\n",
       "      <th>param_model__reg_value</th>\n",
       "      <th>param_optimizer__learning_rate</th>\n",
       "      <th>params</th>\n",
       "      <th>split0_test_score</th>\n",
       "      <th>split1_test_score</th>\n",
       "      <th>split2_test_score</th>\n",
       "      <th>mean_test_score</th>\n",
       "      <th>std_test_score</th>\n",
       "      <th>rank_test_score</th>\n",
       "    </tr>\n",
       "  </thead>\n",
       "  <tbody>\n",
       "    <tr>\n",
       "      <th>0</th>\n",
       "      <td>46.959154</td>\n",
       "      <td>2.164338</td>\n",
       "      <td>0.168518</td>\n",
       "      <td>0.002673</td>\n",
       "      <td>32</td>\n",
       "      <td>0.25</td>\n",
       "      <td>2</td>\n",
       "      <td>256</td>\n",
       "      <td>0.01</td>\n",
       "      <td>0.0001</td>\n",
       "      <td>{'batch_size': 32, 'model__dropout_rate': 0.25...</td>\n",
       "      <td>-436.033295</td>\n",
       "      <td>-365.633362</td>\n",
       "      <td>-456.979004</td>\n",
       "      <td>-419.548553</td>\n",
       "      <td>39.071017</td>\n",
       "      <td>1</td>\n",
       "    </tr>\n",
       "    <tr>\n",
       "      <th>1</th>\n",
       "      <td>68.182266</td>\n",
       "      <td>7.563303</td>\n",
       "      <td>0.287832</td>\n",
       "      <td>0.051228</td>\n",
       "      <td>32</td>\n",
       "      <td>0.25</td>\n",
       "      <td>4</td>\n",
       "      <td>256</td>\n",
       "      <td>0.01</td>\n",
       "      <td>0.0001</td>\n",
       "      <td>{'batch_size': 32, 'model__dropout_rate': 0.25...</td>\n",
       "      <td>-433.128113</td>\n",
       "      <td>-358.867157</td>\n",
       "      <td>-496.326172</td>\n",
       "      <td>-429.440481</td>\n",
       "      <td>56.177956</td>\n",
       "      <td>2</td>\n",
       "    </tr>\n",
       "    <tr>\n",
       "      <th>2</th>\n",
       "      <td>67.854870</td>\n",
       "      <td>4.217442</td>\n",
       "      <td>0.226690</td>\n",
       "      <td>0.004473</td>\n",
       "      <td>32</td>\n",
       "      <td>0.25</td>\n",
       "      <td>5</td>\n",
       "      <td>256</td>\n",
       "      <td>0.01</td>\n",
       "      <td>0.0001</td>\n",
       "      <td>{'batch_size': 32, 'model__dropout_rate': 0.25...</td>\n",
       "      <td>-435.055481</td>\n",
       "      <td>-369.775513</td>\n",
       "      <td>-520.652954</td>\n",
       "      <td>-441.827983</td>\n",
       "      <td>61.781338</td>\n",
       "      <td>4</td>\n",
       "    </tr>\n",
       "    <tr>\n",
       "      <th>3</th>\n",
       "      <td>71.661458</td>\n",
       "      <td>1.339978</td>\n",
       "      <td>0.266316</td>\n",
       "      <td>0.013437</td>\n",
       "      <td>32</td>\n",
       "      <td>0.25</td>\n",
       "      <td>6</td>\n",
       "      <td>256</td>\n",
       "      <td>0.01</td>\n",
       "      <td>0.0001</td>\n",
       "      <td>{'batch_size': 32, 'model__dropout_rate': 0.25...</td>\n",
       "      <td>-438.290680</td>\n",
       "      <td>-382.904663</td>\n",
       "      <td>-487.229218</td>\n",
       "      <td>-436.141520</td>\n",
       "      <td>42.617425</td>\n",
       "      <td>3</td>\n",
       "    </tr>\n",
       "  </tbody>\n",
       "</table>\n",
       "</div>"
      ],
      "text/plain": [
       "   mean_fit_time  std_fit_time  mean_score_time  std_score_time  \\\n",
       "0      46.959154      2.164338         0.168518        0.002673   \n",
       "1      68.182266      7.563303         0.287832        0.051228   \n",
       "2      67.854870      4.217442         0.226690        0.004473   \n",
       "3      71.661458      1.339978         0.266316        0.013437   \n",
       "\n",
       "   param_batch_size  param_model__dropout_rate  param_model__n_blocks  \\\n",
       "0                32                       0.25                      2   \n",
       "1                32                       0.25                      4   \n",
       "2                32                       0.25                      5   \n",
       "3                32                       0.25                      6   \n",
       "\n",
       "   param_model__n_neurons  param_model__reg_value  \\\n",
       "0                     256                    0.01   \n",
       "1                     256                    0.01   \n",
       "2                     256                    0.01   \n",
       "3                     256                    0.01   \n",
       "\n",
       "   param_optimizer__learning_rate  \\\n",
       "0                          0.0001   \n",
       "1                          0.0001   \n",
       "2                          0.0001   \n",
       "3                          0.0001   \n",
       "\n",
       "                                              params  split0_test_score  \\\n",
       "0  {'batch_size': 32, 'model__dropout_rate': 0.25...        -436.033295   \n",
       "1  {'batch_size': 32, 'model__dropout_rate': 0.25...        -433.128113   \n",
       "2  {'batch_size': 32, 'model__dropout_rate': 0.25...        -435.055481   \n",
       "3  {'batch_size': 32, 'model__dropout_rate': 0.25...        -438.290680   \n",
       "\n",
       "   split1_test_score  split2_test_score  mean_test_score  std_test_score  \\\n",
       "0        -365.633362        -456.979004      -419.548553       39.071017   \n",
       "1        -358.867157        -496.326172      -429.440481       56.177956   \n",
       "2        -369.775513        -520.652954      -441.827983       61.781338   \n",
       "3        -382.904663        -487.229218      -436.141520       42.617425   \n",
       "\n",
       "   rank_test_score  \n",
       "0                1  \n",
       "1                2  \n",
       "2                4  \n",
       "3                3  "
      ]
     },
     "execution_count": 31,
     "metadata": {},
     "output_type": "execute_result"
    }
   ],
   "source": [
    "pd.DataFrame(loaded_grid_search_tuned.cv_results_)"
   ]
  },
  {
   "cell_type": "code",
   "execution_count": 32,
   "metadata": {},
   "outputs": [
    {
     "data": {
      "text/plain": [
       "0"
      ]
     },
     "execution_count": 32,
     "metadata": {},
     "output_type": "execute_result"
    }
   ],
   "source": [
    "loaded_grid_search_tuned.best_index_"
   ]
  },
  {
   "cell_type": "code",
   "execution_count": 33,
   "metadata": {},
   "outputs": [],
   "source": [
    "model = loaded_grid_search_tuned.best_estimator_"
   ]
  },
  {
   "cell_type": "code",
   "execution_count": 34,
   "metadata": {},
   "outputs": [
    {
     "data": {
      "text/plain": [
       "-419.5485534667969"
      ]
     },
     "execution_count": 34,
     "metadata": {},
     "output_type": "execute_result"
    }
   ],
   "source": [
    "loaded_grid_search_tuned.best_score_"
   ]
  },
  {
   "cell_type": "code",
   "execution_count": 35,
   "metadata": {},
   "outputs": [
    {
     "name": "stdout",
     "output_type": "stream",
     "text": [
      "\u001b[1m13/13\u001b[0m \u001b[32m━━━━━━━━━━━━━━━━━━━━\u001b[0m\u001b[37m\u001b[0m \u001b[1m0s\u001b[0m 11ms/step\n",
      "\n",
      "Mean CRPS: 350.3571886057652\n"
     ]
    }
   ],
   "source": [
    "mean_crps, predicted_mean_std, crps_values = predict_and_calculate_mean_crps(model.model_, X_test, y_test, print_predicted_mean_std = False)"
   ]
  },
  {
   "cell_type": "code",
   "execution_count": 36,
   "metadata": {},
   "outputs": [
    {
     "data": {
      "text/plain": [
       "make_scorer(crps_loss_function_wrapper, greater_is_better=False, response_method='predict')"
      ]
     },
     "execution_count": 36,
     "metadata": {},
     "output_type": "execute_result"
    }
   ],
   "source": [
    "loaded_grid_search_tuned.scorer_"
   ]
  },
  {
   "cell_type": "code",
   "execution_count": 37,
   "metadata": {},
   "outputs": [
    {
     "data": {
      "text/plain": [
       "3"
      ]
     },
     "execution_count": 37,
     "metadata": {},
     "output_type": "execute_result"
    }
   ],
   "source": [
    "loaded_grid_search_tuned.n_splits_"
   ]
  },
  {
   "cell_type": "code",
   "execution_count": 38,
   "metadata": {},
   "outputs": [
    {
     "data": {
      "text/html": [
       "<pre style=\"white-space:pre;overflow-x:auto;line-height:normal;font-family:Menlo,'DejaVu Sans Mono',consolas,'Courier New',monospace\"><span style=\"font-weight: bold\">Model: \"sequential_15\"</span>\n",
       "</pre>\n"
      ],
      "text/plain": [
       "\u001b[1mModel: \"sequential_15\"\u001b[0m\n"
      ]
     },
     "metadata": {},
     "output_type": "display_data"
    },
    {
     "data": {
      "text/html": [
       "<pre style=\"white-space:pre;overflow-x:auto;line-height:normal;font-family:Menlo,'DejaVu Sans Mono',consolas,'Courier New',monospace\">┏━━━━━━━━━━━━━━━━━━━━━━━━━━━━━━━━━┳━━━━━━━━━━━━━━━━━━━━━━━━┳━━━━━━━━━━━━━━━┓\n",
       "┃<span style=\"font-weight: bold\"> Layer (type)                    </span>┃<span style=\"font-weight: bold\"> Output Shape           </span>┃<span style=\"font-weight: bold\">       Param # </span>┃\n",
       "┡━━━━━━━━━━━━━━━━━━━━━━━━━━━━━━━━━╇━━━━━━━━━━━━━━━━━━━━━━━━╇━━━━━━━━━━━━━━━┩\n",
       "│ dense_72 (<span style=\"color: #0087ff; text-decoration-color: #0087ff\">Dense</span>)                │ (<span style=\"color: #00d7ff; text-decoration-color: #00d7ff\">None</span>, <span style=\"color: #00af00; text-decoration-color: #00af00\">256</span>)            │         <span style=\"color: #00af00; text-decoration-color: #00af00\">3,328</span> │\n",
       "├─────────────────────────────────┼────────────────────────┼───────────────┤\n",
       "│ dropout_30 (<span style=\"color: #0087ff; text-decoration-color: #0087ff\">Dropout</span>)            │ (<span style=\"color: #00d7ff; text-decoration-color: #00d7ff\">None</span>, <span style=\"color: #00af00; text-decoration-color: #00af00\">256</span>)            │             <span style=\"color: #00af00; text-decoration-color: #00af00\">0</span> │\n",
       "├─────────────────────────────────┼────────────────────────┼───────────────┤\n",
       "│ dense_73 (<span style=\"color: #0087ff; text-decoration-color: #0087ff\">Dense</span>)                │ (<span style=\"color: #00d7ff; text-decoration-color: #00d7ff\">None</span>, <span style=\"color: #00af00; text-decoration-color: #00af00\">256</span>)            │        <span style=\"color: #00af00; text-decoration-color: #00af00\">65,792</span> │\n",
       "├─────────────────────────────────┼────────────────────────┼───────────────┤\n",
       "│ dense_74 (<span style=\"color: #0087ff; text-decoration-color: #0087ff\">Dense</span>)                │ (<span style=\"color: #00d7ff; text-decoration-color: #00d7ff\">None</span>, <span style=\"color: #00af00; text-decoration-color: #00af00\">2</span>)              │           <span style=\"color: #00af00; text-decoration-color: #00af00\">514</span> │\n",
       "└─────────────────────────────────┴────────────────────────┴───────────────┘\n",
       "</pre>\n"
      ],
      "text/plain": [
       "┏━━━━━━━━━━━━━━━━━━━━━━━━━━━━━━━━━┳━━━━━━━━━━━━━━━━━━━━━━━━┳━━━━━━━━━━━━━━━┓\n",
       "┃\u001b[1m \u001b[0m\u001b[1mLayer (type)                   \u001b[0m\u001b[1m \u001b[0m┃\u001b[1m \u001b[0m\u001b[1mOutput Shape          \u001b[0m\u001b[1m \u001b[0m┃\u001b[1m \u001b[0m\u001b[1m      Param #\u001b[0m\u001b[1m \u001b[0m┃\n",
       "┡━━━━━━━━━━━━━━━━━━━━━━━━━━━━━━━━━╇━━━━━━━━━━━━━━━━━━━━━━━━╇━━━━━━━━━━━━━━━┩\n",
       "│ dense_72 (\u001b[38;5;33mDense\u001b[0m)                │ (\u001b[38;5;45mNone\u001b[0m, \u001b[38;5;34m256\u001b[0m)            │         \u001b[38;5;34m3,328\u001b[0m │\n",
       "├─────────────────────────────────┼────────────────────────┼───────────────┤\n",
       "│ dropout_30 (\u001b[38;5;33mDropout\u001b[0m)            │ (\u001b[38;5;45mNone\u001b[0m, \u001b[38;5;34m256\u001b[0m)            │             \u001b[38;5;34m0\u001b[0m │\n",
       "├─────────────────────────────────┼────────────────────────┼───────────────┤\n",
       "│ dense_73 (\u001b[38;5;33mDense\u001b[0m)                │ (\u001b[38;5;45mNone\u001b[0m, \u001b[38;5;34m256\u001b[0m)            │        \u001b[38;5;34m65,792\u001b[0m │\n",
       "├─────────────────────────────────┼────────────────────────┼───────────────┤\n",
       "│ dense_74 (\u001b[38;5;33mDense\u001b[0m)                │ (\u001b[38;5;45mNone\u001b[0m, \u001b[38;5;34m2\u001b[0m)              │           \u001b[38;5;34m514\u001b[0m │\n",
       "└─────────────────────────────────┴────────────────────────┴───────────────┘\n"
      ]
     },
     "metadata": {},
     "output_type": "display_data"
    },
    {
     "data": {
      "text/html": [
       "<pre style=\"white-space:pre;overflow-x:auto;line-height:normal;font-family:Menlo,'DejaVu Sans Mono',consolas,'Courier New',monospace\"><span style=\"font-weight: bold\"> Total params: </span><span style=\"color: #00af00; text-decoration-color: #00af00\">208,904</span> (816.04 KB)\n",
       "</pre>\n"
      ],
      "text/plain": [
       "\u001b[1m Total params: \u001b[0m\u001b[38;5;34m208,904\u001b[0m (816.04 KB)\n"
      ]
     },
     "metadata": {},
     "output_type": "display_data"
    },
    {
     "data": {
      "text/html": [
       "<pre style=\"white-space:pre;overflow-x:auto;line-height:normal;font-family:Menlo,'DejaVu Sans Mono',consolas,'Courier New',monospace\"><span style=\"font-weight: bold\"> Trainable params: </span><span style=\"color: #00af00; text-decoration-color: #00af00\">69,634</span> (272.01 KB)\n",
       "</pre>\n"
      ],
      "text/plain": [
       "\u001b[1m Trainable params: \u001b[0m\u001b[38;5;34m69,634\u001b[0m (272.01 KB)\n"
      ]
     },
     "metadata": {},
     "output_type": "display_data"
    },
    {
     "data": {
      "text/html": [
       "<pre style=\"white-space:pre;overflow-x:auto;line-height:normal;font-family:Menlo,'DejaVu Sans Mono',consolas,'Courier New',monospace\"><span style=\"font-weight: bold\"> Non-trainable params: </span><span style=\"color: #00af00; text-decoration-color: #00af00\">0</span> (0.00 B)\n",
       "</pre>\n"
      ],
      "text/plain": [
       "\u001b[1m Non-trainable params: \u001b[0m\u001b[38;5;34m0\u001b[0m (0.00 B)\n"
      ]
     },
     "metadata": {},
     "output_type": "display_data"
    },
    {
     "data": {
      "text/html": [
       "<pre style=\"white-space:pre;overflow-x:auto;line-height:normal;font-family:Menlo,'DejaVu Sans Mono',consolas,'Courier New',monospace\"><span style=\"font-weight: bold\"> Optimizer params: </span><span style=\"color: #00af00; text-decoration-color: #00af00\">139,270</span> (544.03 KB)\n",
       "</pre>\n"
      ],
      "text/plain": [
       "\u001b[1m Optimizer params: \u001b[0m\u001b[38;5;34m139,270\u001b[0m (544.03 KB)\n"
      ]
     },
     "metadata": {},
     "output_type": "display_data"
    }
   ],
   "source": [
    "model.model_.summary()"
   ]
  },
  {
   "cell_type": "code",
   "execution_count": 39,
   "metadata": {},
   "outputs": [
    {
     "data": {
      "text/plain": [
       "array([[ 759.9553 ,  212.5461 ],\n",
       "       [3669.4036 ,  643.2972 ],\n",
       "       [3923.2732 ,  639.4913 ],\n",
       "       [3319.2344 ,  523.89264],\n",
       "       [3903.426  ,  558.67456],\n",
       "       [1026.8625 ,  214.23889],\n",
       "       [2639.4324 ,  437.03427],\n",
       "       [1281.2133 ,  301.98468],\n",
       "       [3476.663  ,  625.0038 ],\n",
       "       [4456.2783 ,  652.93604],\n",
       "       [3667.1406 ,  598.37036],\n",
       "       [4445.6436 ,  576.36084],\n",
       "       [3712.8987 ,  584.1497 ],\n",
       "       [3155.31   ,  457.79593],\n",
       "       [1056.9376 ,  238.74983],\n",
       "       [3386.2144 ,  613.2091 ],\n",
       "       [4443.408  ,  664.64703],\n",
       "       [3998.2097 ,  610.28906],\n",
       "       [4086.421  ,  573.6009 ],\n",
       "       [4242.8853 ,  621.7147 ],\n",
       "       [2474.5764 ,  390.6987 ],\n",
       "       [1266.1732 ,  256.01044],\n",
       "       [3813.9727 ,  624.2318 ],\n",
       "       [3964.1614 ,  607.0484 ],\n",
       "       [4073.8044 ,  597.41455],\n",
       "       [4108.997  ,  584.7365 ],\n",
       "       [4096.86   ,  598.45105],\n",
       "       [2751.4106 ,  422.8869 ],\n",
       "       [1413.0203 ,  278.18796],\n",
       "       [3554.112  ,  597.47266],\n",
       "       [3952.906  ,  603.0992 ],\n",
       "       [3990.7776 ,  581.14246],\n",
       "       [4368.87   ,  583.5797 ],\n",
       "       [4348.3013 ,  596.44836],\n",
       "       [2939.705  ,  497.08008],\n",
       "       [1097.5385 ,  274.87656],\n",
       "       [4155.6597 ,  663.6499 ],\n",
       "       [4237.2603 ,  648.3265 ],\n",
       "       [4358.508  ,  635.34674],\n",
       "       [4446.289  ,  644.3625 ],\n",
       "       [4525.916  ,  662.93866],\n",
       "       [3154.5903 ,  481.55762],\n",
       "       [1729.1622 ,  310.712  ],\n",
       "       [4558.9546 ,  711.07336],\n",
       "       [4214.293  ,  651.28577],\n",
       "       [4331.759  ,  634.6902 ],\n",
       "       [4779.729  ,  662.9005 ],\n",
       "       [4765.939  ,  645.0832 ],\n",
       "       [3354.9404 ,  466.0949 ],\n",
       "       [1612.5582 ,  272.8744 ],\n",
       "       [5074.1074 ,  741.70074],\n",
       "       [5383.027  ,  755.0727 ],\n",
       "       [5107.964  ,  699.60333],\n",
       "       [5151.8457 ,  714.48083],\n",
       "       [4869.88   ,  686.6935 ],\n",
       "       [3082.2715 ,  464.77664],\n",
       "       [1222.0521 ,  229.83327],\n",
       "       [4040.249  ,  649.3957 ],\n",
       "       [3997.5713 ,  616.6408 ],\n",
       "       [5137.0713 ,  693.5316 ],\n",
       "       [5254.3516 ,  682.2475 ],\n",
       "       [5314.5986 ,  717.5575 ],\n",
       "       [3091.252  ,  481.49637],\n",
       "       [1608.4545 ,  300.6141 ],\n",
       "       [4621.694  ,  686.8562 ],\n",
       "       [4611.707  ,  646.8973 ],\n",
       "       [3939.9016 ,  617.15735],\n",
       "       [5044.2886 ,  656.1877 ],\n",
       "       [3646.7734 ,  541.4326 ],\n",
       "       [3517.4895 ,  536.3754 ],\n",
       "       [1616.61   ,  303.8919 ],\n",
       "       [4440.588  ,  703.73016],\n",
       "       [4734.646  ,  659.5591 ],\n",
       "       [4912.4316 ,  673.9573 ],\n",
       "       [5718.872  ,  741.59393],\n",
       "       [5904.92   ,  787.78577],\n",
       "       [4496.25   ,  644.969  ],\n",
       "       [2091.7498 ,  359.36478],\n",
       "       [5462.6553 ,  756.10205],\n",
       "       [5775.1035 ,  769.6206 ],\n",
       "       [6326.838  ,  791.89215],\n",
       "       [5854.536  ,  735.1261 ],\n",
       "       [4624.6357 ,  664.5322 ],\n",
       "       [3613.9668 ,  517.3115 ],\n",
       "       [1442.0886 ,  321.64078],\n",
       "       [5117.0713 ,  745.54895],\n",
       "       [5652.2617 ,  774.0206 ],\n",
       "       [5680.6895 ,  736.12805],\n",
       "       [4988.9307 ,  689.12604],\n",
       "       [4343.7993 ,  630.8023 ],\n",
       "       [2477.5146 ,  428.88046],\n",
       "       [1671.2782 ,  316.04715],\n",
       "       [4988.055  ,  719.10956],\n",
       "       [5468.524  ,  750.7942 ],\n",
       "       [5758.956  ,  758.1517 ],\n",
       "       [5067.2427 ,  673.0582 ],\n",
       "       [1994.4187 ,  360.03577],\n",
       "       [3859.846  ,  560.94293],\n",
       "       [2194.2148 ,  378.65906],\n",
       "       [2321.4023 ,  384.0667 ],\n",
       "       [4801.4414 ,  692.88904],\n",
       "       [3739.615  ,  592.228  ],\n",
       "       [4535.3623 ,  623.5538 ],\n",
       "       [5598.584  ,  730.80237],\n",
       "       [3194.7507 ,  494.45975],\n",
       "       [1558.0287 ,  338.18726],\n",
       "       [5420.893  ,  755.60645],\n",
       "       [5468.217  ,  727.12354],\n",
       "       [5546.558  ,  723.16846],\n",
       "       [5468.4746 ,  700.9003 ],\n",
       "       [5591.9907 ,  774.68524],\n",
       "       [4646.2417 ,  655.1373 ],\n",
       "       [2080.0623 ,  389.96826],\n",
       "       [5171.9424 ,  740.34894],\n",
       "       [4377.1943 ,  687.9523 ],\n",
       "       [6268.9014 ,  803.1013 ],\n",
       "       [6486.0337 ,  830.5677 ],\n",
       "       [5247.7383 ,  735.1404 ],\n",
       "       [4140.674  ,  592.6107 ],\n",
       "       [2262.4785 ,  375.03796],\n",
       "       [1681.9546 ,  331.52478],\n",
       "       [6253.478  ,  812.0663 ],\n",
       "       [6645.8213 ,  825.4189 ],\n",
       "       [7016.097  ,  880.56964],\n",
       "       [5872.3086 ,  809.7291 ],\n",
       "       [5038.11   ,  710.14905],\n",
       "       [2059.3076 ,  408.79218],\n",
       "       [6208.9805 ,  828.53503],\n",
       "       [5573.8765 ,  788.0971 ],\n",
       "       [6080.5645 ,  759.7225 ],\n",
       "       [5986.5977 ,  758.9803 ],\n",
       "       [5654.3857 ,  751.0959 ],\n",
       "       [4455.5757 ,  628.7534 ],\n",
       "       [2555.338  ,  426.65878],\n",
       "       [6261.161  ,  842.2086 ],\n",
       "       [5672.4404 ,  746.5626 ],\n",
       "       [5877.62   ,  750.6605 ],\n",
       "       [2743.7698 ,  428.11612],\n",
       "       [6055.727  ,  784.1761 ],\n",
       "       [4633.2656 ,  638.51025],\n",
       "       [2676.3728 ,  431.45273],\n",
       "       [7180.0503 ,  918.3085 ],\n",
       "       [6298.268  ,  802.0073 ],\n",
       "       [6368.787  ,  793.6118 ],\n",
       "       [6977.826  ,  871.46387],\n",
       "       [7061.089  ,  904.08026],\n",
       "       [5176.1543 ,  711.19244],\n",
       "       [3124.1912 ,  491.62766],\n",
       "       [3352.2573 ,  469.01474],\n",
       "       [6533.9424 ,  838.46356],\n",
       "       [6764.881  ,  832.55194],\n",
       "       [7058.1587 ,  875.30853],\n",
       "       [6457.7393 ,  822.8954 ],\n",
       "       [4867.243  ,  670.49536],\n",
       "       [2849.9126 ,  449.09744],\n",
       "       [6841.412  ,  899.41095],\n",
       "       [6874.553  ,  876.37946],\n",
       "       [6966.416  ,  862.2901 ],\n",
       "       [2398.8132 ,  362.7761 ],\n",
       "       [7001.9717 ,  885.4524 ],\n",
       "       [5524.6235 ,  767.35486],\n",
       "       [3375.4246 ,  527.7984 ],\n",
       "       [7759.7476 ,  972.173  ],\n",
       "       [7599.1357 ,  931.9952 ],\n",
       "       [7507.9917 ,  922.504  ],\n",
       "       [7536.99   ,  951.4645 ],\n",
       "       [7560.205  ,  988.5571 ],\n",
       "       [5442.632  ,  769.88934],\n",
       "       [3329.6816 ,  531.21265],\n",
       "       [7566.854  ,  950.62225],\n",
       "       [8016.266  ,  978.3531 ],\n",
       "       [6952.6626 ,  894.6259 ],\n",
       "       [7568.6855 ,  945.2263 ],\n",
       "       [7032.0244 ,  909.1273 ],\n",
       "       [5496.637  ,  773.89484],\n",
       "       [3463.4785 ,  545.613  ],\n",
       "       [7607.705  ,  952.5227 ],\n",
       "       [7274.2324 ,  905.33057],\n",
       "       [7384.05   ,  914.19006],\n",
       "       [7195.2144 ,  912.34576],\n",
       "       [5263.6387 ,  740.9782 ],\n",
       "       [4705.744  ,  643.4521 ],\n",
       "       [2920.8635 ,  464.89893],\n",
       "       [6595.3955 ,  854.6764 ],\n",
       "       [7085.1157 ,  893.6717 ],\n",
       "       [6323.036  ,  818.125  ],\n",
       "       [7565.4854 ,  965.95435],\n",
       "       [7795.2275 , 1006.0119 ],\n",
       "       [5681.1685 ,  787.836  ],\n",
       "       [3612.8276 ,  561.6093 ],\n",
       "       [7865.435  ,  973.1087 ],\n",
       "       [7617.1157 ,  955.573  ],\n",
       "       [7366.233  ,  893.02277],\n",
       "       [7450.903  ,  942.8391 ],\n",
       "       [7341.4097 ,  957.0054 ],\n",
       "       [4917.8784 ,  728.1743 ],\n",
       "       [2909.9768 ,  466.31207],\n",
       "       [7502.225  ,  949.2088 ],\n",
       "       [7459.3115 ,  924.6359 ],\n",
       "       [7661.3374 ,  927.93225],\n",
       "       [7293.8345 ,  922.1594 ],\n",
       "       [6528.8467 ,  851.46075],\n",
       "       [5142.0234 ,  718.15027],\n",
       "       [2917.7922 ,  451.7112 ],\n",
       "       [6047.318  ,  839.20776],\n",
       "       [4603.     ,  688.6532 ],\n",
       "       [6084.167  ,  780.76587],\n",
       "       [5741.872  ,  713.6827 ],\n",
       "       [5217.7734 ,  700.4531 ],\n",
       "       [4357.4175 ,  616.5113 ],\n",
       "       [2000.4983 ,  351.93805],\n",
       "       [5742.553  ,  782.9458 ],\n",
       "       [5074.806  ,  717.6492 ],\n",
       "       [4442.9443 ,  637.79565],\n",
       "       [5338.8457 ,  670.3115 ],\n",
       "       [4946.1387 ,  673.9532 ],\n",
       "       [4504.4004 ,  631.05426],\n",
       "       [1540.3857 ,  286.74646],\n",
       "       [5467.2495 ,  759.7446 ],\n",
       "       [6243.0464 ,  811.7743 ],\n",
       "       [5768.097  ,  747.0401 ],\n",
       "       [6889.778  ,  865.6144 ],\n",
       "       [7125.3203 ,  915.36395],\n",
       "       [4209.0356 ,  608.08026],\n",
       "       [2687.6191 ,  432.7436 ],\n",
       "       [7056.893  ,  916.34644],\n",
       "       [6928.0503 ,  871.7278 ],\n",
       "       [6630.2007 ,  836.76483],\n",
       "       [6545.4565 ,  810.5241 ],\n",
       "       [7278.3335 ,  930.31256],\n",
       "       [4990.2036 ,  683.8738 ],\n",
       "       [3220.8462 ,  500.702  ],\n",
       "       [7617.934  ,  968.25726],\n",
       "       [7446.636  ,  927.04626],\n",
       "       [7351.551  ,  896.09894],\n",
       "       [6329.8315 ,  808.55396],\n",
       "       [5581.6816 ,  741.068  ],\n",
       "       [4353.198  ,  605.784  ],\n",
       "       [2128.8447 ,  352.35065],\n",
       "       [5444.1567 ,  766.2317 ],\n",
       "       [5558.923  ,  749.8643 ],\n",
       "       [6007.535  ,  766.43915],\n",
       "       [5869.9355 ,  726.95325],\n",
       "       [6278.856  ,  733.6213 ],\n",
       "       [5309.474  ,  682.8024 ],\n",
       "       [2976.2893 ,  412.81686],\n",
       "       [7101.289  ,  869.45764],\n",
       "       [7261.7046 ,  860.82355],\n",
       "       [7255.2896 ,  839.92163],\n",
       "       [7316.1045 ,  848.0259 ],\n",
       "       [7299.9326 ,  879.66046],\n",
       "       [5438.896  ,  697.9982 ],\n",
       "       [3541.3982 ,  505.1544 ],\n",
       "       [8044.8228 ,  960.6344 ],\n",
       "       [8049.5894 ,  928.2478 ],\n",
       "       [7123.573  ,  816.2418 ],\n",
       "       [7327.088  ,  870.69556],\n",
       "       [7411.472  ,  900.41376],\n",
       "       [5406.526  ,  701.4825 ],\n",
       "       [3436.0793 ,  490.0212 ],\n",
       "       [5752.053  ,  792.4351 ],\n",
       "       [7177.3857 ,  842.7424 ],\n",
       "       [7417.5566 ,  859.83276],\n",
       "       [5852.837  ,  772.1426 ],\n",
       "       [6347.66   ,  793.42535],\n",
       "       [4784.9634 ,  621.3043 ],\n",
       "       [2801.5874 ,  416.76422],\n",
       "       [7118.185  ,  880.46313],\n",
       "       [7256.8135 ,  871.1002 ],\n",
       "       [7386.5264 ,  862.8512 ],\n",
       "       [7501.3374 ,  896.37476],\n",
       "       [7089.342  ,  855.3857 ],\n",
       "       [5210.142  ,  682.95245],\n",
       "       [3004.513  ,  444.86612],\n",
       "       [7409.2803 ,  905.3883 ],\n",
       "       [2491.0833 ,  329.5582 ],\n",
       "       [6751.2534 ,  794.12054],\n",
       "       [6286.4756 ,  750.7249 ],\n",
       "       [6537.958  ,  810.7444 ],\n",
       "       [4771.048  ,  610.08417],\n",
       "       [2949.8384 ,  421.39877],\n",
       "       [6788.495  ,  829.8633 ],\n",
       "       [7209.9136 ,  857.6274 ],\n",
       "       [7360.7344 ,  848.59235],\n",
       "       [6858.3716 ,  803.49304],\n",
       "       [7462.956  ,  899.28394],\n",
       "       [3466.2776 ,  527.00806],\n",
       "       [2365.4373 ,  357.83582],\n",
       "       [5946.8345 ,  773.4104 ],\n",
       "       [5649.1943 ,  711.72235],\n",
       "       [4804.23   ,  671.8599 ],\n",
       "       [5288.931  ,  710.6409 ],\n",
       "       [5725.1533 ,  732.46967],\n",
       "       [4843.959  ,  616.2995 ],\n",
       "       [2456.8816 ,  358.27463],\n",
       "       [5597.318  ,  738.94507],\n",
       "       [4781.493  ,  694.3657 ],\n",
       "       [4966.443  ,  679.67993],\n",
       "       [5258.352  ,  687.87915],\n",
       "       [5152.931  ,  679.705  ],\n",
       "       [4017.0437 ,  545.6862 ],\n",
       "       [1474.6624 ,  308.5572 ],\n",
       "       [4529.655  ,  688.0706 ],\n",
       "       [4842.661  ,  652.89044],\n",
       "       [1706.2766 ,  269.33072],\n",
       "       [4189.4907 ,  581.2889 ],\n",
       "       [4950.285  ,  587.09033],\n",
       "       [3006.637  ,  478.38052],\n",
       "       [1677.7654 ,  265.831  ],\n",
       "       [4926.5806 ,  703.2747 ],\n",
       "       [5228.389  ,  684.75476],\n",
       "       [5634.178  ,  684.0782 ],\n",
       "       [4614.7124 ,  616.7848 ],\n",
       "       [4830.145  ,  629.71014],\n",
       "       [3577.0093 ,  488.8414 ],\n",
       "       [1514.0668 ,  311.18982],\n",
       "       [4130.926  ,  653.41974],\n",
       "       [5575.2515 ,  695.99207],\n",
       "       [5043.056  ,  654.9428 ],\n",
       "       [4111.7734 ,  587.3175 ],\n",
       "       [4313.001  ,  610.30505],\n",
       "       [3623.287  ,  509.23666],\n",
       "       [1546.9794 ,  307.37732],\n",
       "       [4830.2803 ,  704.38605],\n",
       "       [5101.926  ,  694.1017 ],\n",
       "       [4700.433  ,  631.17505],\n",
       "       [4996.733  ,  597.564  ],\n",
       "       [3904.1128 ,  555.6401 ],\n",
       "       [3357.6145 ,  452.43442],\n",
       "       [1713.395  ,  272.34903],\n",
       "       [4061.176  ,  631.6078 ],\n",
       "       [4047.126  ,  622.1179 ],\n",
       "       [4740.203  ,  620.11426],\n",
       "       [4956.93   ,  616.27924],\n",
       "       [3493.178  ,  574.14825],\n",
       "       [2469.423  ,  394.98398],\n",
       "       [1312.3575 ,  271.81174],\n",
       "       [3359.8164 ,  619.2893 ],\n",
       "       [3221.7852 ,  586.4851 ],\n",
       "       [4031.828  ,  604.23193],\n",
       "       [4594.173  ,  654.2604 ],\n",
       "       [4149.846  ,  637.8933 ],\n",
       "       [2477.3098 ,  444.29227],\n",
       "       [1241.129  ,  256.6197 ],\n",
       "       [4697.182  ,  694.408  ],\n",
       "       [3514.0925 ,  620.4217 ],\n",
       "       [3671.9011 ,  607.4653 ],\n",
       "       [4756.933  ,  666.2446 ],\n",
       "       [4546.28   ,  658.4705 ],\n",
       "       [3185.4844 ,  488.82657],\n",
       "       [1398.0271 ,  270.39545],\n",
       "       [4360.2505 ,  687.8035 ],\n",
       "       [4129.879  ,  626.9759 ],\n",
       "       [3314.7847 ,  568.85156],\n",
       "       [3693.5132 ,  543.91626],\n",
       "       [4003.1653 ,  587.2396 ],\n",
       "       [1883.1055 ,  308.90912],\n",
       "       [ 772.4205 ,  184.48283],\n",
       "       [ 873.7814 ,  247.71123],\n",
       "       [ 668.08673,  198.29408],\n",
       "       [3820.2224 ,  599.1278 ],\n",
       "       [3430.6895 ,  545.8389 ],\n",
       "       [3900.9182 ,  570.3555 ],\n",
       "       [2194.0166 ,  399.14114],\n",
       "       [ 704.9939 ,  207.36113],\n",
       "       [ 841.6726 ,  245.52687],\n",
       "       [1991.5012 ,  468.74103],\n",
       "       [2293.0066 ,  472.38852],\n",
       "       [3680.9473 ,  540.48914],\n",
       "       [3753.9797 ,  574.75714],\n",
       "       [1308.6956 ,  265.65155],\n",
       "       [1068.3699 ,  244.46257],\n",
       "       [3407.5369 ,  589.4051 ],\n",
       "       [3611.2764 ,  591.25525],\n",
       "       [4059.5127 ,  610.7831 ],\n",
       "       [4059.1245 ,  587.12317],\n",
       "       [4017.6484 ,  602.22974],\n",
       "       [2405.976  ,  386.13077],\n",
       "       [1072.8615 ,  213.24481],\n",
       "       [3326.2485 ,  589.7377 ],\n",
       "       [4012.832  ,  634.30145],\n",
       "       [2838.0703 ,  535.90796],\n",
       "       [2301.4146 ,  457.04327],\n",
       "       [3830.8418 ,  575.98126],\n",
       "       [2515.0674 ,  426.86465],\n",
       "       [1330.6067 ,  268.56805],\n",
       "       [3300.3442 ,  614.26794],\n",
       "       [4437.2534 ,  648.5441 ],\n",
       "       [4413.388  ,  623.2719 ],\n",
       "       [4929.5186 ,  693.0448 ]], dtype=float32)"
      ]
     },
     "execution_count": 39,
     "metadata": {},
     "output_type": "execute_result"
    }
   ],
   "source": [
    "predicted_mean_std"
   ]
  },
  {
   "cell_type": "code",
   "execution_count": 40,
   "metadata": {},
   "outputs": [],
   "source": [
    "y_pred_df = pd.DataFrame(predicted_mean_std)"
   ]
  },
  {
   "cell_type": "code",
   "execution_count": 41,
   "metadata": {},
   "outputs": [
    {
     "data": {
      "text/html": [
       "<div>\n",
       "<style scoped>\n",
       "    .dataframe tbody tr th:only-of-type {\n",
       "        vertical-align: middle;\n",
       "    }\n",
       "\n",
       "    .dataframe tbody tr th {\n",
       "        vertical-align: top;\n",
       "    }\n",
       "\n",
       "    .dataframe thead th {\n",
       "        text-align: right;\n",
       "    }\n",
       "</style>\n",
       "<table border=\"1\" class=\"dataframe\">\n",
       "  <thead>\n",
       "    <tr style=\"text-align: right;\">\n",
       "      <th></th>\n",
       "      <th>0</th>\n",
       "      <th>1</th>\n",
       "    </tr>\n",
       "  </thead>\n",
       "  <tbody>\n",
       "    <tr>\n",
       "      <th>count</th>\n",
       "      <td>390.000000</td>\n",
       "      <td>390.000000</td>\n",
       "    </tr>\n",
       "    <tr>\n",
       "      <th>mean</th>\n",
       "      <td>4650.952637</td>\n",
       "      <td>644.238159</td>\n",
       "    </tr>\n",
       "    <tr>\n",
       "      <th>std</th>\n",
       "      <td>1821.171509</td>\n",
       "      <td>189.986481</td>\n",
       "    </tr>\n",
       "    <tr>\n",
       "      <th>min</th>\n",
       "      <td>668.086731</td>\n",
       "      <td>184.482834</td>\n",
       "    </tr>\n",
       "    <tr>\n",
       "      <th>25%</th>\n",
       "      <td>3432.036926</td>\n",
       "      <td>540.725006</td>\n",
       "    </tr>\n",
       "    <tr>\n",
       "      <th>50%</th>\n",
       "      <td>4698.807617</td>\n",
       "      <td>655.662506</td>\n",
       "    </tr>\n",
       "    <tr>\n",
       "      <th>75%</th>\n",
       "      <td>5898.094971</td>\n",
       "      <td>774.519089</td>\n",
       "    </tr>\n",
       "    <tr>\n",
       "      <th>max</th>\n",
       "      <td>8049.589355</td>\n",
       "      <td>1006.011902</td>\n",
       "    </tr>\n",
       "  </tbody>\n",
       "</table>\n",
       "</div>"
      ],
      "text/plain": [
       "                 0            1\n",
       "count   390.000000   390.000000\n",
       "mean   4650.952637   644.238159\n",
       "std    1821.171509   189.986481\n",
       "min     668.086731   184.482834\n",
       "25%    3432.036926   540.725006\n",
       "50%    4698.807617   655.662506\n",
       "75%    5898.094971   774.519089\n",
       "max    8049.589355  1006.011902"
      ]
     },
     "execution_count": 41,
     "metadata": {},
     "output_type": "execute_result"
    }
   ],
   "source": [
    "y_pred_df.describe()"
   ]
  },
  {
   "cell_type": "markdown",
   "metadata": {},
   "source": [
    "## Plots"
   ]
  },
  {
   "cell_type": "markdown",
   "metadata": {},
   "source": [
    "### Residuals etc."
   ]
  },
  {
   "cell_type": "code",
   "execution_count": 42,
   "metadata": {},
   "outputs": [],
   "source": [
    "base_path_plots = Path(r\"C:\\Users\\aisti\\OneDrive\\Dokumente\\Uni\\Bachelorarbeit\\Abbildungen\\(11) Fahrraddaten_HyperparameterTuning4\")"
   ]
  },
  {
   "cell_type": "code",
   "execution_count": 43,
   "metadata": {},
   "outputs": [],
   "source": [
    "predicted_mean = predicted_mean_std[:, 0]\n",
    "predicted_std = predicted_mean_std[:, 1]"
   ]
  },
  {
   "cell_type": "code",
   "execution_count": 44,
   "metadata": {},
   "outputs": [],
   "source": [
    "residuals = y_test - predicted_mean"
   ]
  },
  {
   "cell_type": "code",
   "execution_count": 45,
   "metadata": {},
   "outputs": [],
   "source": [
    "file_name_residuals_hist = \"residuals_hist.png\"\n",
    "file_path_residuals_hist = base_path_plots / file_name_residuals_hist"
   ]
  },
  {
   "cell_type": "code",
   "execution_count": 46,
   "metadata": {},
   "outputs": [
    {
     "data": {
      "image/png": "[encoded data removed]",
      "text/plain": [
       "<Figure size 640x480 with 1 Axes>"
      ]
     },
     "metadata": {},
     "output_type": "display_data"
    }
   ],
   "source": [
    "plt.hist(residuals, bins=30, edgecolor='k')\n",
    "plt.title(\"Histogram of Residuals\")\n",
    "plt.xlabel(\"Residual\")\n",
    "plt.ylabel(\"Frequency\")\n",
    "plt.tight_layout()\n",
    "plt.gcf().savefig(file_path_residuals_hist)\n",
    "plt.show()\n"
   ]
  },
  {
   "cell_type": "code",
   "execution_count": 47,
   "metadata": {},
   "outputs": [
    {
     "data": {
      "text/plain": [
       "count     390.000000\n",
       "mean     -234.628756\n",
       "std       609.247266\n",
       "min     -2690.934082\n",
       "25%      -613.416992\n",
       "50%      -180.281677\n",
       "75%       147.584869\n",
       "max      2189.215332\n",
       "Name: bike_count, dtype: float64"
      ]
     },
     "execution_count": 47,
     "metadata": {},
     "output_type": "execute_result"
    }
   ],
   "source": [
    "residuals.describe()"
   ]
  },
  {
   "cell_type": "code",
   "execution_count": 48,
   "metadata": {},
   "outputs": [
    {
     "name": "stdout",
     "output_type": "stream",
     "text": [
      "353    2189.215332\n",
      "352    1533.121094\n",
      "338    1174.214844\n",
      "351    1122.749512\n",
      "346    1120.098877\n",
      "Name: bike_count, dtype: float64\n"
     ]
    }
   ],
   "source": [
    "top_5_residuals = residuals.nlargest(5)\n",
    "print(top_5_residuals)"
   ]
  },
  {
   "cell_type": "code",
   "execution_count": 49,
   "metadata": {},
   "outputs": [
    {
     "data": {
      "text/plain": [
       "547.137451171875"
      ]
     },
     "execution_count": 49,
     "metadata": {},
     "output_type": "execute_result"
    }
   ],
   "source": [
    "residuals[5]"
   ]
  },
  {
   "cell_type": "code",
   "execution_count": 50,
   "metadata": {},
   "outputs": [
    {
     "data": {
      "image/png": "[encoded data removed]",
      "text/plain": [
       "<Figure size 640x480 with 1 Axes>"
      ]
     },
     "metadata": {},
     "output_type": "display_data"
    }
   ],
   "source": [
    "file_name_boxplot_residuals = \"boxplot_residuals.png\"\n",
    "file_path_boxplot_residuals = base_path_plots / file_name_boxplot_residuals\n",
    "\n",
    "boxplot_residuals = plt.boxplot(residuals)\n",
    "plt.title(\"Boxplot of Residuals\")\n",
    "plt.ylabel(\"Residual\")\n",
    "plt.tight_layout()\n",
    "plt.gcf().savefig(file_path_boxplot_residuals)\n",
    "plt.show()\n",
    "\n"
   ]
  },
  {
   "cell_type": "code",
   "execution_count": 51,
   "metadata": {},
   "outputs": [
    {
     "data": {
      "image/png": "[encoded data removed]",
      "text/plain": [
       "<Figure size 640x480 with 1 Axes>"
      ]
     },
     "metadata": {},
     "output_type": "display_data"
    }
   ],
   "source": [
    "file_name_res_vs_pred_plot = \"res_vs_pred_plot.png\"\n",
    "file_path_res_vs_pred_plot = base_path_plots / file_name_res_vs_pred_plot\n",
    "\n",
    "res_vs_pred_plot = plt.scatter(predicted_mean, residuals)\n",
    "plt.axhline(y=0, color='r', linestyle='--')  # Horizontale Linie bei 0\n",
    "plt.title(\"Residuals vs Predicted Values\")\n",
    "plt.xlabel(\"Predicted Values\")\n",
    "plt.ylabel(\"Residuals\")\n",
    "plt.tight_layout()\n",
    "plt.gcf().savefig(file_path_res_vs_pred_plot)\n",
    "plt.show()\n"
   ]
  },
  {
   "cell_type": "code",
   "execution_count": 52,
   "metadata": {},
   "outputs": [
    {
     "data": {
      "image/png": "[encoded data removed]",
      "text/plain": [
       "<Figure size 640x480 with 1 Axes>"
      ]
     },
     "metadata": {},
     "output_type": "display_data"
    },
    {
     "data": {
      "image/png": "[encoded data removed]",
      "text/plain": [
       "<Figure size 640x480 with 1 Axes>"
      ]
     },
     "metadata": {},
     "output_type": "display_data"
    }
   ],
   "source": [
    "# Scatter plot\n",
    "plt.scatter(predicted_mean, y_test)\n",
    "plt.plot([min(y_test), max(y_test)], [min(y_test), max(y_test)], color='red', linestyle='--')\n",
    "plt.title(\"Predicted Mean vs True Values\")\n",
    "plt.xlabel(\"Predicted Mean\")\n",
    "plt.ylabel(\"True Values\")\n",
    "\n",
    "file_name_scatter_plot = \"scatter_plot.png\"\n",
    "file_path_scatter_plot = base_path_plots / file_name_scatter_plot\n",
    "plt.tight_layout()  \n",
    "plt.gcf().savefig(file_path_scatter_plot)\n",
    "plt.show()\n",
    "\n",
    "# Line plot\n",
    "plt.plot(y_test, label=\"True Values\")\n",
    "plt.plot(predicted_mean, label=\"Predicted Means\", linestyle='--')\n",
    "plt.legend()\n",
    "plt.title(\"True Values vs Predicted Means\")\n",
    "plt.show()\n"
   ]
  },
  {
   "cell_type": "code",
   "execution_count": 53,
   "metadata": {},
   "outputs": [],
   "source": [
    "standardized_residuals = residuals / predicted_std\n",
    "\n",
    "standardized_residuals_df = pd.DataFrame(standardized_residuals)"
   ]
  },
  {
   "cell_type": "code",
   "execution_count": 54,
   "metadata": {},
   "outputs": [
    {
     "data": {
      "text/html": [
       "<div>\n",
       "<style scoped>\n",
       "    .dataframe tbody tr th:only-of-type {\n",
       "        vertical-align: middle;\n",
       "    }\n",
       "\n",
       "    .dataframe tbody tr th {\n",
       "        vertical-align: top;\n",
       "    }\n",
       "\n",
       "    .dataframe thead th {\n",
       "        text-align: right;\n",
       "    }\n",
       "</style>\n",
       "<table border=\"1\" class=\"dataframe\">\n",
       "  <thead>\n",
       "    <tr style=\"text-align: right;\">\n",
       "      <th></th>\n",
       "      <th>bike_count</th>\n",
       "    </tr>\n",
       "  </thead>\n",
       "  <tbody>\n",
       "    <tr>\n",
       "      <th>count</th>\n",
       "      <td>390.000000</td>\n",
       "    </tr>\n",
       "    <tr>\n",
       "      <th>mean</th>\n",
       "      <td>-0.283519</td>\n",
       "    </tr>\n",
       "    <tr>\n",
       "      <th>std</th>\n",
       "      <td>0.954448</td>\n",
       "    </tr>\n",
       "    <tr>\n",
       "      <th>min</th>\n",
       "      <td>-2.779152</td>\n",
       "    </tr>\n",
       "    <tr>\n",
       "      <th>25%</th>\n",
       "      <td>-0.915076</td>\n",
       "    </tr>\n",
       "    <tr>\n",
       "      <th>50%</th>\n",
       "      <td>-0.293032</td>\n",
       "    </tr>\n",
       "    <tr>\n",
       "      <th>75%</th>\n",
       "      <td>0.272638</td>\n",
       "    </tr>\n",
       "    <tr>\n",
       "      <th>max</th>\n",
       "      <td>3.848483</td>\n",
       "    </tr>\n",
       "  </tbody>\n",
       "</table>\n",
       "</div>"
      ],
      "text/plain": [
       "       bike_count\n",
       "count  390.000000\n",
       "mean    -0.283519\n",
       "std      0.954448\n",
       "min     -2.779152\n",
       "25%     -0.915076\n",
       "50%     -0.293032\n",
       "75%      0.272638\n",
       "max      3.848483"
      ]
     },
     "execution_count": 54,
     "metadata": {},
     "output_type": "execute_result"
    }
   ],
   "source": [
    "standardized_residuals_df.describe()"
   ]
  },
  {
   "cell_type": "code",
   "execution_count": 55,
   "metadata": {},
   "outputs": [
    {
     "name": "stdout",
     "output_type": "stream",
     "text": [
      "Index of max column: 353\n"
     ]
    }
   ],
   "source": [
    "standardized_residuals_df\n",
    "max_index = np.argmax(np.abs(standardized_residuals))\n",
    "print(f\"Index of max column: {max_index}\")"
   ]
  },
  {
   "cell_type": "code",
   "execution_count": 56,
   "metadata": {},
   "outputs": [],
   "source": [
    "index_2largest_residual = 353"
   ]
  },
  {
   "cell_type": "code",
   "execution_count": 57,
   "metadata": {},
   "outputs": [
    {
     "data": {
      "text/plain": [
       "353    3.848483\n",
       "287    2.921906\n",
       "112    2.871869\n",
       "5      2.553866\n",
       "352    2.445263\n",
       "Name: bike_count, dtype: float64"
      ]
     },
     "execution_count": 57,
     "metadata": {},
     "output_type": "execute_result"
    }
   ],
   "source": [
    "standardized_residuals.nlargest(5)"
   ]
  },
  {
   "cell_type": "code",
   "execution_count": 58,
   "metadata": {},
   "outputs": [
    {
     "data": {
      "text/plain": [
       "5504.0"
      ]
     },
     "execution_count": 58,
     "metadata": {},
     "output_type": "execute_result"
    }
   ],
   "source": [
    "y_test.iloc[max_index]"
   ]
  },
  {
   "cell_type": "code",
   "execution_count": 59,
   "metadata": {},
   "outputs": [
    {
     "data": {
      "text/plain": [
       "5504.0"
      ]
     },
     "execution_count": 59,
     "metadata": {},
     "output_type": "execute_result"
    }
   ],
   "source": [
    "y_test.iloc[index_2largest_residual]"
   ]
  },
  {
   "cell_type": "code",
   "execution_count": 60,
   "metadata": {},
   "outputs": [
    {
     "data": {
      "text/plain": [
       "3314.7847"
      ]
     },
     "execution_count": 60,
     "metadata": {},
     "output_type": "execute_result"
    }
   ],
   "source": [
    "predicted_mean[max_index]"
   ]
  },
  {
   "cell_type": "code",
   "execution_count": 61,
   "metadata": {},
   "outputs": [
    {
     "data": {
      "text/plain": [
       "568.85156"
      ]
     },
     "execution_count": 61,
     "metadata": {},
     "output_type": "execute_result"
    }
   ],
   "source": [
    "predicted_std[max_index]"
   ]
  },
  {
   "cell_type": "code",
   "execution_count": 62,
   "metadata": {},
   "outputs": [
    {
     "data": {
      "text/plain": [
       "3314.7847"
      ]
     },
     "execution_count": 62,
     "metadata": {},
     "output_type": "execute_result"
    }
   ],
   "source": [
    "predicted_mean[index_2largest_residual]"
   ]
  },
  {
   "cell_type": "code",
   "execution_count": 63,
   "metadata": {},
   "outputs": [
    {
     "data": {
      "text/plain": [
       "temperature                -0.827740\n",
       "precipitation               1.250275\n",
       "public_holiday_indicator    0.000000\n",
       "is_workday                  1.000000\n",
       "day_of_week                 2.000000\n",
       "spring                      0.000000\n",
       "summer                      0.000000\n",
       "autumn                      0.000000\n",
       "winter                      1.000000\n",
       "windspeed                   1.910654\n",
       "sun                        -0.852447\n",
       "school_holiday_indicator    0.000000\n",
       "Name: 353, dtype: float64"
      ]
     },
     "execution_count": 63,
     "metadata": {},
     "output_type": "execute_result"
    }
   ],
   "source": [
    "X_test.iloc[max_index]"
   ]
  },
  {
   "cell_type": "code",
   "execution_count": 64,
   "metadata": {},
   "outputs": [
    {
     "data": {
      "text/plain": [
       "temperature                -0.827740\n",
       "precipitation               1.250275\n",
       "public_holiday_indicator    0.000000\n",
       "is_workday                  1.000000\n",
       "day_of_week                 2.000000\n",
       "spring                      0.000000\n",
       "summer                      0.000000\n",
       "autumn                      0.000000\n",
       "winter                      1.000000\n",
       "windspeed                   1.910654\n",
       "sun                        -0.852447\n",
       "school_holiday_indicator    0.000000\n",
       "Name: 353, dtype: float64"
      ]
     },
     "execution_count": 64,
     "metadata": {},
     "output_type": "execute_result"
    }
   ],
   "source": [
    "X_test.iloc[index_2largest_residual]"
   ]
  },
  {
   "cell_type": "code",
   "execution_count": 65,
   "metadata": {},
   "outputs": [
    {
     "data": {
      "text/html": [
       "<div>\n",
       "<style scoped>\n",
       "    .dataframe tbody tr th:only-of-type {\n",
       "        vertical-align: middle;\n",
       "    }\n",
       "\n",
       "    .dataframe tbody tr th {\n",
       "        vertical-align: top;\n",
       "    }\n",
       "\n",
       "    .dataframe thead th {\n",
       "        text-align: right;\n",
       "    }\n",
       "</style>\n",
       "<table border=\"1\" class=\"dataframe\">\n",
       "  <thead>\n",
       "    <tr style=\"text-align: right;\">\n",
       "      <th></th>\n",
       "      <th>temperature</th>\n",
       "      <th>precipitation</th>\n",
       "      <th>public_holiday_indicator</th>\n",
       "      <th>is_workday</th>\n",
       "      <th>day_of_week</th>\n",
       "      <th>spring</th>\n",
       "      <th>summer</th>\n",
       "      <th>autumn</th>\n",
       "      <th>winter</th>\n",
       "      <th>windspeed</th>\n",
       "      <th>sun</th>\n",
       "      <th>school_holiday_indicator</th>\n",
       "    </tr>\n",
       "  </thead>\n",
       "  <tbody>\n",
       "    <tr>\n",
       "      <th>count</th>\n",
       "      <td>390.000000</td>\n",
       "      <td>390.000000</td>\n",
       "      <td>390.000000</td>\n",
       "      <td>390.000000</td>\n",
       "      <td>390.000000</td>\n",
       "      <td>390.000000</td>\n",
       "      <td>390.000000</td>\n",
       "      <td>390.000000</td>\n",
       "      <td>390.000000</td>\n",
       "      <td>390.000000</td>\n",
       "      <td>390.000000</td>\n",
       "      <td>390.000000</td>\n",
       "    </tr>\n",
       "    <tr>\n",
       "      <th>mean</th>\n",
       "      <td>0.045667</td>\n",
       "      <td>0.069920</td>\n",
       "      <td>0.035897</td>\n",
       "      <td>0.684615</td>\n",
       "      <td>2.992308</td>\n",
       "      <td>0.235897</td>\n",
       "      <td>0.235897</td>\n",
       "      <td>0.233333</td>\n",
       "      <td>0.294872</td>\n",
       "      <td>0.265790</td>\n",
       "      <td>-0.028741</td>\n",
       "      <td>0.225641</td>\n",
       "    </tr>\n",
       "    <tr>\n",
       "      <th>std</th>\n",
       "      <td>1.038212</td>\n",
       "      <td>0.933852</td>\n",
       "      <td>0.186273</td>\n",
       "      <td>0.465266</td>\n",
       "      <td>2.004479</td>\n",
       "      <td>0.425104</td>\n",
       "      <td>0.425104</td>\n",
       "      <td>0.423496</td>\n",
       "      <td>0.456571</td>\n",
       "      <td>1.149807</td>\n",
       "      <td>1.010414</td>\n",
       "      <td>0.418541</td>\n",
       "    </tr>\n",
       "    <tr>\n",
       "      <th>min</th>\n",
       "      <td>-2.436286</td>\n",
       "      <td>-0.397192</td>\n",
       "      <td>0.000000</td>\n",
       "      <td>0.000000</td>\n",
       "      <td>0.000000</td>\n",
       "      <td>0.000000</td>\n",
       "      <td>0.000000</td>\n",
       "      <td>0.000000</td>\n",
       "      <td>0.000000</td>\n",
       "      <td>-1.398428</td>\n",
       "      <td>-1.094803</td>\n",
       "      <td>0.000000</td>\n",
       "    </tr>\n",
       "    <tr>\n",
       "      <th>25%</th>\n",
       "      <td>-0.692915</td>\n",
       "      <td>-0.397192</td>\n",
       "      <td>0.000000</td>\n",
       "      <td>0.000000</td>\n",
       "      <td>1.000000</td>\n",
       "      <td>0.000000</td>\n",
       "      <td>0.000000</td>\n",
       "      <td>0.000000</td>\n",
       "      <td>0.000000</td>\n",
       "      <td>-0.593601</td>\n",
       "      <td>-0.967295</td>\n",
       "      <td>0.000000</td>\n",
       "    </tr>\n",
       "    <tr>\n",
       "      <th>50%</th>\n",
       "      <td>-0.027315</td>\n",
       "      <td>-0.397192</td>\n",
       "      <td>0.000000</td>\n",
       "      <td>1.000000</td>\n",
       "      <td>3.000000</td>\n",
       "      <td>0.000000</td>\n",
       "      <td>0.000000</td>\n",
       "      <td>0.000000</td>\n",
       "      <td>0.000000</td>\n",
       "      <td>0.018412</td>\n",
       "      <td>-0.311666</td>\n",
       "      <td>0.000000</td>\n",
       "    </tr>\n",
       "    <tr>\n",
       "      <th>75%</th>\n",
       "      <td>0.969002</td>\n",
       "      <td>0.085464</td>\n",
       "      <td>0.000000</td>\n",
       "      <td>1.000000</td>\n",
       "      <td>5.000000</td>\n",
       "      <td>0.000000</td>\n",
       "      <td>0.000000</td>\n",
       "      <td>0.000000</td>\n",
       "      <td>1.000000</td>\n",
       "      <td>0.855050</td>\n",
       "      <td>0.770799</td>\n",
       "      <td>0.000000</td>\n",
       "    </tr>\n",
       "    <tr>\n",
       "      <th>max</th>\n",
       "      <td>2.199509</td>\n",
       "      <td>5.600619</td>\n",
       "      <td>1.000000</td>\n",
       "      <td>1.000000</td>\n",
       "      <td>6.000000</td>\n",
       "      <td>1.000000</td>\n",
       "      <td>1.000000</td>\n",
       "      <td>1.000000</td>\n",
       "      <td>1.000000</td>\n",
       "      <td>4.140128</td>\n",
       "      <td>2.146262</td>\n",
       "      <td>1.000000</td>\n",
       "    </tr>\n",
       "  </tbody>\n",
       "</table>\n",
       "</div>"
      ],
      "text/plain": [
       "       temperature  precipitation  public_holiday_indicator  is_workday  \\\n",
       "count   390.000000     390.000000                390.000000  390.000000   \n",
       "mean      0.045667       0.069920                  0.035897    0.684615   \n",
       "std       1.038212       0.933852                  0.186273    0.465266   \n",
       "min      -2.436286      -0.397192                  0.000000    0.000000   \n",
       "25%      -0.692915      -0.397192                  0.000000    0.000000   \n",
       "50%      -0.027315      -0.397192                  0.000000    1.000000   \n",
       "75%       0.969002       0.085464                  0.000000    1.000000   \n",
       "max       2.199509       5.600619                  1.000000    1.000000   \n",
       "\n",
       "       day_of_week      spring      summer      autumn      winter  \\\n",
       "count   390.000000  390.000000  390.000000  390.000000  390.000000   \n",
       "mean      2.992308    0.235897    0.235897    0.233333    0.294872   \n",
       "std       2.004479    0.425104    0.425104    0.423496    0.456571   \n",
       "min       0.000000    0.000000    0.000000    0.000000    0.000000   \n",
       "25%       1.000000    0.000000    0.000000    0.000000    0.000000   \n",
       "50%       3.000000    0.000000    0.000000    0.000000    0.000000   \n",
       "75%       5.000000    0.000000    0.000000    0.000000    1.000000   \n",
       "max       6.000000    1.000000    1.000000    1.000000    1.000000   \n",
       "\n",
       "        windspeed         sun  school_holiday_indicator  \n",
       "count  390.000000  390.000000                390.000000  \n",
       "mean     0.265790   -0.028741                  0.225641  \n",
       "std      1.149807    1.010414                  0.418541  \n",
       "min     -1.398428   -1.094803                  0.000000  \n",
       "25%     -0.593601   -0.967295                  0.000000  \n",
       "50%      0.018412   -0.311666                  0.000000  \n",
       "75%      0.855050    0.770799                  0.000000  \n",
       "max      4.140128    2.146262                  1.000000  "
      ]
     },
     "execution_count": 65,
     "metadata": {},
     "output_type": "execute_result"
    }
   ],
   "source": [
    "X_test.describe()"
   ]
  },
  {
   "cell_type": "code",
   "execution_count": 66,
   "metadata": {},
   "outputs": [
    {
     "data": {
      "text/plain": [
       "count     390.000000\n",
       "mean     4416.323828\n",
       "std      1648.149287\n",
       "min       524.000000\n",
       "25%      3244.500000\n",
       "50%      4598.500000\n",
       "75%      5592.500000\n",
       "max      7637.000000\n",
       "Name: bike_count, dtype: float64"
      ]
     },
     "execution_count": 66,
     "metadata": {},
     "output_type": "execute_result"
    }
   ],
   "source": [
    "y_test.describe()"
   ]
  },
  {
   "cell_type": "code",
   "execution_count": 67,
   "metadata": {},
   "outputs": [
    {
     "data": {
      "image/png": "[encoded data removed]",
      "text/plain": [
       "<Figure size 640x480 with 1 Axes>"
      ]
     },
     "metadata": {},
     "output_type": "display_data"
    }
   ],
   "source": [
    "residuals_histogramm = plt.hist(standardized_residuals, bins=30, edgecolor='k')\n",
    "plt.title(\"Histogram of Standardized Residuals\")\n",
    "plt.xlabel(\"Standardized Residuals\")\n",
    "plt.ylabel(\"Frequency\")\n",
    "\n",
    "plt.tight_layout()\n",
    "plt.gcf().savefig(r\"C:\\Users\\aisti\\OneDrive\\Dokumente\\Uni\\Bachelorarbeit\\Abbildungen\\(11) Fahrraddaten_HyperparameterTuning4\\residuals_histogramm.png\")\n",
    "plt.show()\n",
    "plt.close()\n"
   ]
  },
  {
   "cell_type": "markdown",
   "metadata": {},
   "source": [
    "### Scores"
   ]
  },
  {
   "cell_type": "code",
   "execution_count": 68,
   "metadata": {},
   "outputs": [
    {
     "name": "stdout",
     "output_type": "stream",
     "text": [
      "PICP (Prediction Interval Coverage Probability): 0.94\n"
     ]
    }
   ],
   "source": [
    "# Calculate prediction intervals (95% confidence interval)\n",
    "lower_bound = predicted_mean - 1.96 * predicted_std\n",
    "upper_bound = predicted_mean + 1.96 * predicted_std\n",
    "\n",
    "# Check how many actual values fall within the prediction interval\n",
    "coverage = np.mean((y_test >= lower_bound) & (y_test <= upper_bound))\n",
    "\n",
    "print(f\"PICP (Prediction Interval Coverage Probability): {coverage:.2f}\")\n",
    "\n",
    "#picp represents the percentage of actual values that fall within the prediction interval\n",
    "#97 percent of true values fall within 95% of the prediction interval"
   ]
  },
  {
   "cell_type": "code",
   "execution_count": 69,
   "metadata": {},
   "outputs": [
    {
     "name": "stdout",
     "output_type": "stream",
     "text": [
      "Brier Score: 0.4164\n"
     ]
    }
   ],
   "source": [
    "brier_scores = np.mean((norm.cdf(y_test, loc=predicted_mean, scale=predicted_std) - 1)**2)\n",
    "print(f\"Brier Score: {brier_scores:.4f}\")"
   ]
  },
  {
   "cell_type": "markdown",
   "metadata": {},
   "source": [
    "### Other"
   ]
  },
  {
   "cell_type": "code",
   "execution_count": 70,
   "metadata": {},
   "outputs": [],
   "source": [
    "cv_results_df = pd.DataFrame(loaded_grid_search_tuned.cv_results_)"
   ]
  },
  {
   "cell_type": "code",
   "execution_count": 71,
   "metadata": {},
   "outputs": [
    {
     "data": {
      "text/plain": [
       "Index(['mean_fit_time', 'std_fit_time', 'mean_score_time', 'std_score_time',\n",
       "       'param_batch_size', 'param_model__dropout_rate',\n",
       "       'param_model__n_blocks', 'param_model__n_neurons',\n",
       "       'param_model__reg_value', 'param_optimizer__learning_rate', 'params',\n",
       "       'split0_test_score', 'split1_test_score', 'split2_test_score',\n",
       "       'mean_test_score', 'std_test_score', 'rank_test_score'],\n",
       "      dtype='object')"
      ]
     },
     "execution_count": 71,
     "metadata": {},
     "output_type": "execute_result"
    }
   ],
   "source": [
    "cv_results_df.columns"
   ]
  },
  {
   "cell_type": "code",
   "execution_count": 72,
   "metadata": {},
   "outputs": [],
   "source": [
    "df_cv_scores = pd.DataFrame(loaded_grid_search_tuned.cv_results_)[['mean_test_score', 'std_test_score']]"
   ]
  },
  {
   "cell_type": "code",
   "execution_count": 73,
   "metadata": {},
   "outputs": [
    {
     "data": {
      "text/html": [
       "<div>\n",
       "<style scoped>\n",
       "    .dataframe tbody tr th:only-of-type {\n",
       "        vertical-align: middle;\n",
       "    }\n",
       "\n",
       "    .dataframe tbody tr th {\n",
       "        vertical-align: top;\n",
       "    }\n",
       "\n",
       "    .dataframe thead th {\n",
       "        text-align: right;\n",
       "    }\n",
       "</style>\n",
       "<table border=\"1\" class=\"dataframe\">\n",
       "  <thead>\n",
       "    <tr style=\"text-align: right;\">\n",
       "      <th></th>\n",
       "      <th>mean_test_score</th>\n",
       "      <th>std_test_score</th>\n",
       "    </tr>\n",
       "  </thead>\n",
       "  <tbody>\n",
       "    <tr>\n",
       "      <th>0</th>\n",
       "      <td>-419.548553</td>\n",
       "      <td>39.071017</td>\n",
       "    </tr>\n",
       "    <tr>\n",
       "      <th>1</th>\n",
       "      <td>-429.440481</td>\n",
       "      <td>56.177956</td>\n",
       "    </tr>\n",
       "    <tr>\n",
       "      <th>2</th>\n",
       "      <td>-441.827983</td>\n",
       "      <td>61.781338</td>\n",
       "    </tr>\n",
       "    <tr>\n",
       "      <th>3</th>\n",
       "      <td>-436.141520</td>\n",
       "      <td>42.617425</td>\n",
       "    </tr>\n",
       "  </tbody>\n",
       "</table>\n",
       "</div>"
      ],
      "text/plain": [
       "   mean_test_score  std_test_score\n",
       "0      -419.548553       39.071017\n",
       "1      -429.440481       56.177956\n",
       "2      -441.827983       61.781338\n",
       "3      -436.141520       42.617425"
      ]
     },
     "execution_count": 73,
     "metadata": {},
     "output_type": "execute_result"
    }
   ],
   "source": [
    "df_cv_scores"
   ]
  },
  {
   "cell_type": "code",
   "execution_count": 74,
   "metadata": {},
   "outputs": [],
   "source": [
    "df_cv_scores_not_negated = df_cv_scores.copy()\n",
    "df_cv_scores_not_negated['mean_test_score'] = df_cv_scores_not_negated['mean_test_score'] * -1\n"
   ]
  },
  {
   "cell_type": "code",
   "execution_count": 75,
   "metadata": {},
   "outputs": [
    {
     "data": {
      "text/html": [
       "<div>\n",
       "<style scoped>\n",
       "    .dataframe tbody tr th:only-of-type {\n",
       "        vertical-align: middle;\n",
       "    }\n",
       "\n",
       "    .dataframe tbody tr th {\n",
       "        vertical-align: top;\n",
       "    }\n",
       "\n",
       "    .dataframe thead th {\n",
       "        text-align: right;\n",
       "    }\n",
       "</style>\n",
       "<table border=\"1\" class=\"dataframe\">\n",
       "  <thead>\n",
       "    <tr style=\"text-align: right;\">\n",
       "      <th></th>\n",
       "      <th>mean_test_score</th>\n",
       "      <th>std_test_score</th>\n",
       "    </tr>\n",
       "  </thead>\n",
       "  <tbody>\n",
       "    <tr>\n",
       "      <th>0</th>\n",
       "      <td>419.548553</td>\n",
       "      <td>39.071017</td>\n",
       "    </tr>\n",
       "    <tr>\n",
       "      <th>1</th>\n",
       "      <td>429.440481</td>\n",
       "      <td>56.177956</td>\n",
       "    </tr>\n",
       "    <tr>\n",
       "      <th>2</th>\n",
       "      <td>441.827983</td>\n",
       "      <td>61.781338</td>\n",
       "    </tr>\n",
       "    <tr>\n",
       "      <th>3</th>\n",
       "      <td>436.141520</td>\n",
       "      <td>42.617425</td>\n",
       "    </tr>\n",
       "  </tbody>\n",
       "</table>\n",
       "</div>"
      ],
      "text/plain": [
       "   mean_test_score  std_test_score\n",
       "0       419.548553       39.071017\n",
       "1       429.440481       56.177956\n",
       "2       441.827983       61.781338\n",
       "3       436.141520       42.617425"
      ]
     },
     "execution_count": 75,
     "metadata": {},
     "output_type": "execute_result"
    }
   ],
   "source": [
    "df_cv_scores_not_negated"
   ]
  },
  {
   "cell_type": "code",
   "execution_count": 76,
   "metadata": {},
   "outputs": [
    {
     "data": {
      "image/png": "[encoded data removed]",
      "text/plain": [
       "<Figure size 1000x600 with 1 Axes>"
      ]
     },
     "metadata": {},
     "output_type": "display_data"
    }
   ],
   "source": [
    "# Plotting with uncertainty bars\n",
    "plt.figure(figsize=(10, 6))\n",
    "plt.bar(df_cv_scores_not_negated.index, df_cv_scores_not_negated['mean_test_score'], \n",
    "        yerr=df_cv_scores_not_negated['std_test_score'], capsize=5, color='skyblue')\n",
    "plt.xlabel('Hyperparameter Combination Index')\n",
    "plt.ylabel('CRPS Score')\n",
    "plt.title('CRPS Scores with Uncertainty Bars')\n",
    "plt.show()\n"
   ]
  },
  {
   "cell_type": "code",
   "execution_count": 77,
   "metadata": {},
   "outputs": [
    {
     "data": {
      "text/html": [
       "<div>\n",
       "<style scoped>\n",
       "    .dataframe tbody tr th:only-of-type {\n",
       "        vertical-align: middle;\n",
       "    }\n",
       "\n",
       "    .dataframe tbody tr th {\n",
       "        vertical-align: top;\n",
       "    }\n",
       "\n",
       "    .dataframe thead th {\n",
       "        text-align: right;\n",
       "    }\n",
       "</style>\n",
       "<table border=\"1\" class=\"dataframe\">\n",
       "  <thead>\n",
       "    <tr style=\"text-align: right;\">\n",
       "      <th></th>\n",
       "      <th>mean_test_score</th>\n",
       "      <th>std_test_score</th>\n",
       "    </tr>\n",
       "  </thead>\n",
       "  <tbody>\n",
       "    <tr>\n",
       "      <th>0</th>\n",
       "      <td>-419.548553</td>\n",
       "      <td>39.071017</td>\n",
       "    </tr>\n",
       "    <tr>\n",
       "      <th>1</th>\n",
       "      <td>-429.440481</td>\n",
       "      <td>56.177956</td>\n",
       "    </tr>\n",
       "    <tr>\n",
       "      <th>2</th>\n",
       "      <td>-441.827983</td>\n",
       "      <td>61.781338</td>\n",
       "    </tr>\n",
       "    <tr>\n",
       "      <th>3</th>\n",
       "      <td>-436.141520</td>\n",
       "      <td>42.617425</td>\n",
       "    </tr>\n",
       "  </tbody>\n",
       "</table>\n",
       "</div>"
      ],
      "text/plain": [
       "   mean_test_score  std_test_score\n",
       "0      -419.548553       39.071017\n",
       "1      -429.440481       56.177956\n",
       "2      -441.827983       61.781338\n",
       "3      -436.141520       42.617425"
      ]
     },
     "execution_count": 77,
     "metadata": {},
     "output_type": "execute_result"
    }
   ],
   "source": [
    "df_cv_scores"
   ]
  },
  {
   "cell_type": "code",
   "execution_count": 78,
   "metadata": {},
   "outputs": [
    {
     "data": {
      "text/plain": [
       "<bound method BaseEstimator.get_params of GridSearchCV(cv=3,\n",
       "             estimator=KerasRegressor(epochs=200, model=<function tune_nn.<locals>.create_model at 0x00000198A3ED93A0>, verbose=0),\n",
       "             n_jobs=1,\n",
       "             param_grid={'batch_size': [32], 'model__dropout_rate': [0.25],\n",
       "                         'model__n_blocks': [2, 4, 5, 6],\n",
       "                         'model__n_neurons': [256], 'model__reg_value': [0.01],\n",
       "                         'optimizer__learning_rate': [0.0001]},\n",
       "             scoring=make_scorer(crps_loss_function_wrapper, greater_is_better=False, response_method='predict'),\n",
       "             verbose=10)>"
      ]
     },
     "execution_count": 78,
     "metadata": {},
     "output_type": "execute_result"
    }
   ],
   "source": [
    "loaded_grid_search_tuned.get_params"
   ]
  },
  {
   "cell_type": "code",
   "execution_count": 79,
   "metadata": {},
   "outputs": [
    {
     "data": {
      "text/html": [
       "<div>\n",
       "<style scoped>\n",
       "    .dataframe tbody tr th:only-of-type {\n",
       "        vertical-align: middle;\n",
       "    }\n",
       "\n",
       "    .dataframe tbody tr th {\n",
       "        vertical-align: top;\n",
       "    }\n",
       "\n",
       "    .dataframe thead th {\n",
       "        text-align: right;\n",
       "    }\n",
       "</style>\n",
       "<table border=\"1\" class=\"dataframe\">\n",
       "  <thead>\n",
       "    <tr style=\"text-align: right;\">\n",
       "      <th></th>\n",
       "      <th>mean_fit_time</th>\n",
       "      <th>std_fit_time</th>\n",
       "      <th>mean_score_time</th>\n",
       "      <th>std_score_time</th>\n",
       "      <th>param_batch_size</th>\n",
       "      <th>param_model__dropout_rate</th>\n",
       "      <th>param_model__n_blocks</th>\n",
       "      <th>param_model__n_neurons</th>\n",
       "      <th>param_model__reg_value</th>\n",
       "      <th>param_optimizer__learning_rate</th>\n",
       "      <th>params</th>\n",
       "      <th>split0_test_score</th>\n",
       "      <th>split1_test_score</th>\n",
       "      <th>split2_test_score</th>\n",
       "      <th>mean_test_score</th>\n",
       "      <th>std_test_score</th>\n",
       "      <th>rank_test_score</th>\n",
       "    </tr>\n",
       "  </thead>\n",
       "  <tbody>\n",
       "    <tr>\n",
       "      <th>0</th>\n",
       "      <td>46.959154</td>\n",
       "      <td>2.164338</td>\n",
       "      <td>0.168518</td>\n",
       "      <td>0.002673</td>\n",
       "      <td>32</td>\n",
       "      <td>0.25</td>\n",
       "      <td>2</td>\n",
       "      <td>256</td>\n",
       "      <td>0.01</td>\n",
       "      <td>0.0001</td>\n",
       "      <td>{'batch_size': 32, 'model__dropout_rate': 0.25...</td>\n",
       "      <td>-436.033295</td>\n",
       "      <td>-365.633362</td>\n",
       "      <td>-456.979004</td>\n",
       "      <td>-419.548553</td>\n",
       "      <td>39.071017</td>\n",
       "      <td>1</td>\n",
       "    </tr>\n",
       "    <tr>\n",
       "      <th>1</th>\n",
       "      <td>68.182266</td>\n",
       "      <td>7.563303</td>\n",
       "      <td>0.287832</td>\n",
       "      <td>0.051228</td>\n",
       "      <td>32</td>\n",
       "      <td>0.25</td>\n",
       "      <td>4</td>\n",
       "      <td>256</td>\n",
       "      <td>0.01</td>\n",
       "      <td>0.0001</td>\n",
       "      <td>{'batch_size': 32, 'model__dropout_rate': 0.25...</td>\n",
       "      <td>-433.128113</td>\n",
       "      <td>-358.867157</td>\n",
       "      <td>-496.326172</td>\n",
       "      <td>-429.440481</td>\n",
       "      <td>56.177956</td>\n",
       "      <td>2</td>\n",
       "    </tr>\n",
       "    <tr>\n",
       "      <th>2</th>\n",
       "      <td>67.854870</td>\n",
       "      <td>4.217442</td>\n",
       "      <td>0.226690</td>\n",
       "      <td>0.004473</td>\n",
       "      <td>32</td>\n",
       "      <td>0.25</td>\n",
       "      <td>5</td>\n",
       "      <td>256</td>\n",
       "      <td>0.01</td>\n",
       "      <td>0.0001</td>\n",
       "      <td>{'batch_size': 32, 'model__dropout_rate': 0.25...</td>\n",
       "      <td>-435.055481</td>\n",
       "      <td>-369.775513</td>\n",
       "      <td>-520.652954</td>\n",
       "      <td>-441.827983</td>\n",
       "      <td>61.781338</td>\n",
       "      <td>4</td>\n",
       "    </tr>\n",
       "    <tr>\n",
       "      <th>3</th>\n",
       "      <td>71.661458</td>\n",
       "      <td>1.339978</td>\n",
       "      <td>0.266316</td>\n",
       "      <td>0.013437</td>\n",
       "      <td>32</td>\n",
       "      <td>0.25</td>\n",
       "      <td>6</td>\n",
       "      <td>256</td>\n",
       "      <td>0.01</td>\n",
       "      <td>0.0001</td>\n",
       "      <td>{'batch_size': 32, 'model__dropout_rate': 0.25...</td>\n",
       "      <td>-438.290680</td>\n",
       "      <td>-382.904663</td>\n",
       "      <td>-487.229218</td>\n",
       "      <td>-436.141520</td>\n",
       "      <td>42.617425</td>\n",
       "      <td>3</td>\n",
       "    </tr>\n",
       "  </tbody>\n",
       "</table>\n",
       "</div>"
      ],
      "text/plain": [
       "   mean_fit_time  std_fit_time  mean_score_time  std_score_time  \\\n",
       "0      46.959154      2.164338         0.168518        0.002673   \n",
       "1      68.182266      7.563303         0.287832        0.051228   \n",
       "2      67.854870      4.217442         0.226690        0.004473   \n",
       "3      71.661458      1.339978         0.266316        0.013437   \n",
       "\n",
       "   param_batch_size  param_model__dropout_rate  param_model__n_blocks  \\\n",
       "0                32                       0.25                      2   \n",
       "1                32                       0.25                      4   \n",
       "2                32                       0.25                      5   \n",
       "3                32                       0.25                      6   \n",
       "\n",
       "   param_model__n_neurons  param_model__reg_value  \\\n",
       "0                     256                    0.01   \n",
       "1                     256                    0.01   \n",
       "2                     256                    0.01   \n",
       "3                     256                    0.01   \n",
       "\n",
       "   param_optimizer__learning_rate  \\\n",
       "0                          0.0001   \n",
       "1                          0.0001   \n",
       "2                          0.0001   \n",
       "3                          0.0001   \n",
       "\n",
       "                                              params  split0_test_score  \\\n",
       "0  {'batch_size': 32, 'model__dropout_rate': 0.25...        -436.033295   \n",
       "1  {'batch_size': 32, 'model__dropout_rate': 0.25...        -433.128113   \n",
       "2  {'batch_size': 32, 'model__dropout_rate': 0.25...        -435.055481   \n",
       "3  {'batch_size': 32, 'model__dropout_rate': 0.25...        -438.290680   \n",
       "\n",
       "   split1_test_score  split2_test_score  mean_test_score  std_test_score  \\\n",
       "0        -365.633362        -456.979004      -419.548553       39.071017   \n",
       "1        -358.867157        -496.326172      -429.440481       56.177956   \n",
       "2        -369.775513        -520.652954      -441.827983       61.781338   \n",
       "3        -382.904663        -487.229218      -436.141520       42.617425   \n",
       "\n",
       "   rank_test_score  \n",
       "0                1  \n",
       "1                2  \n",
       "2                4  \n",
       "3                3  "
      ]
     },
     "execution_count": 79,
     "metadata": {},
     "output_type": "execute_result"
    }
   ],
   "source": [
    "cv_results_df.head()"
   ]
  },
  {
   "cell_type": "code",
   "execution_count": 80,
   "metadata": {},
   "outputs": [],
   "source": [
    "cv_results_df['mean_test_score'] = cv_results_df['mean_test_score'] * -1"
   ]
  },
  {
   "cell_type": "code",
   "execution_count": 81,
   "metadata": {},
   "outputs": [
    {
     "data": {
      "image/png": "[encoded data removed]",
      "text/plain": [
       "<Figure size 640x480 with 1 Axes>"
      ]
     },
     "metadata": {},
     "output_type": "display_data"
    }
   ],
   "source": [
    "n_blocks_values = cv_results_df['param_model__n_blocks'].unique()\n",
    "mean_crps_n_blocks = [cv_results_df[cv_results_df['param_model__n_blocks'] == nb]['mean_test_score'].mean() for nb in n_blocks_values]\n",
    "std_crps_n_blocks = [cv_results_df[cv_results_df['param_model__n_blocks'] == nb]['std_test_score'].mean() for nb in n_blocks_values]\n",
    "\n",
    "bar_width = 0.4  \n",
    "index = np.arange(len(n_blocks_values))  *0.8\n",
    "\n",
    "plt.bar(index, mean_crps_n_blocks, yerr=std_crps_n_blocks, capsize=5, color='green', alpha=0.6, width=bar_width, label=\"n_blocks\")\n",
    "\n",
    "plt.title(\"Effect of Number of Blocks on CRPS\")\n",
    "plt.xlabel(\"Number of Blocks (n_blocks)\")\n",
    "plt.ylabel(\"Mean CRPS Score\")\n",
    "plt.xticks(index, n_blocks_values)  \n",
    "plt.grid(True, axis='y')\n",
    "plt.show()\n"
   ]
  },
  {
   "cell_type": "code",
   "execution_count": 82,
   "metadata": {},
   "outputs": [
    {
     "data": {
      "text/plain": [
       "{'batch_size': 32,\n",
       " 'model__dropout_rate': 0.25,\n",
       " 'model__n_blocks': 2,\n",
       " 'model__n_neurons': 256,\n",
       " 'model__reg_value': 0.01,\n",
       " 'optimizer__learning_rate': 0.0001}"
      ]
     },
     "execution_count": 82,
     "metadata": {},
     "output_type": "execute_result"
    }
   ],
   "source": [
    "loaded_grid_search_tuned.best_params_"
   ]
  },
  {
   "cell_type": "code",
   "execution_count": 83,
   "metadata": {},
   "outputs": [
    {
     "data": {
      "text/html": [
       "<pre style=\"white-space:pre;overflow-x:auto;line-height:normal;font-family:Menlo,'DejaVu Sans Mono',consolas,'Courier New',monospace\"><span style=\"font-weight: bold\">Model: \"sequential_15\"</span>\n",
       "</pre>\n"
      ],
      "text/plain": [
       "\u001b[1mModel: \"sequential_15\"\u001b[0m\n"
      ]
     },
     "metadata": {},
     "output_type": "display_data"
    },
    {
     "data": {
      "text/html": [
       "<pre style=\"white-space:pre;overflow-x:auto;line-height:normal;font-family:Menlo,'DejaVu Sans Mono',consolas,'Courier New',monospace\">┏━━━━━━━━━━━━━━━━━━━━━━━━━━━━━━━━━┳━━━━━━━━━━━━━━━━━━━━━━━━┳━━━━━━━━━━━━━━━┓\n",
       "┃<span style=\"font-weight: bold\"> Layer (type)                    </span>┃<span style=\"font-weight: bold\"> Output Shape           </span>┃<span style=\"font-weight: bold\">       Param # </span>┃\n",
       "┡━━━━━━━━━━━━━━━━━━━━━━━━━━━━━━━━━╇━━━━━━━━━━━━━━━━━━━━━━━━╇━━━━━━━━━━━━━━━┩\n",
       "│ dense_72 (<span style=\"color: #0087ff; text-decoration-color: #0087ff\">Dense</span>)                │ (<span style=\"color: #00d7ff; text-decoration-color: #00d7ff\">None</span>, <span style=\"color: #00af00; text-decoration-color: #00af00\">256</span>)            │         <span style=\"color: #00af00; text-decoration-color: #00af00\">3,328</span> │\n",
       "├─────────────────────────────────┼────────────────────────┼───────────────┤\n",
       "│ dropout_30 (<span style=\"color: #0087ff; text-decoration-color: #0087ff\">Dropout</span>)            │ (<span style=\"color: #00d7ff; text-decoration-color: #00d7ff\">None</span>, <span style=\"color: #00af00; text-decoration-color: #00af00\">256</span>)            │             <span style=\"color: #00af00; text-decoration-color: #00af00\">0</span> │\n",
       "├─────────────────────────────────┼────────────────────────┼───────────────┤\n",
       "│ dense_73 (<span style=\"color: #0087ff; text-decoration-color: #0087ff\">Dense</span>)                │ (<span style=\"color: #00d7ff; text-decoration-color: #00d7ff\">None</span>, <span style=\"color: #00af00; text-decoration-color: #00af00\">256</span>)            │        <span style=\"color: #00af00; text-decoration-color: #00af00\">65,792</span> │\n",
       "├─────────────────────────────────┼────────────────────────┼───────────────┤\n",
       "│ dense_74 (<span style=\"color: #0087ff; text-decoration-color: #0087ff\">Dense</span>)                │ (<span style=\"color: #00d7ff; text-decoration-color: #00d7ff\">None</span>, <span style=\"color: #00af00; text-decoration-color: #00af00\">2</span>)              │           <span style=\"color: #00af00; text-decoration-color: #00af00\">514</span> │\n",
       "└─────────────────────────────────┴────────────────────────┴───────────────┘\n",
       "</pre>\n"
      ],
      "text/plain": [
       "┏━━━━━━━━━━━━━━━━━━━━━━━━━━━━━━━━━┳━━━━━━━━━━━━━━━━━━━━━━━━┳━━━━━━━━━━━━━━━┓\n",
       "┃\u001b[1m \u001b[0m\u001b[1mLayer (type)                   \u001b[0m\u001b[1m \u001b[0m┃\u001b[1m \u001b[0m\u001b[1mOutput Shape          \u001b[0m\u001b[1m \u001b[0m┃\u001b[1m \u001b[0m\u001b[1m      Param #\u001b[0m\u001b[1m \u001b[0m┃\n",
       "┡━━━━━━━━━━━━━━━━━━━━━━━━━━━━━━━━━╇━━━━━━━━━━━━━━━━━━━━━━━━╇━━━━━━━━━━━━━━━┩\n",
       "│ dense_72 (\u001b[38;5;33mDense\u001b[0m)                │ (\u001b[38;5;45mNone\u001b[0m, \u001b[38;5;34m256\u001b[0m)            │         \u001b[38;5;34m3,328\u001b[0m │\n",
       "├─────────────────────────────────┼────────────────────────┼───────────────┤\n",
       "│ dropout_30 (\u001b[38;5;33mDropout\u001b[0m)            │ (\u001b[38;5;45mNone\u001b[0m, \u001b[38;5;34m256\u001b[0m)            │             \u001b[38;5;34m0\u001b[0m │\n",
       "├─────────────────────────────────┼────────────────────────┼───────────────┤\n",
       "│ dense_73 (\u001b[38;5;33mDense\u001b[0m)                │ (\u001b[38;5;45mNone\u001b[0m, \u001b[38;5;34m256\u001b[0m)            │        \u001b[38;5;34m65,792\u001b[0m │\n",
       "├─────────────────────────────────┼────────────────────────┼───────────────┤\n",
       "│ dense_74 (\u001b[38;5;33mDense\u001b[0m)                │ (\u001b[38;5;45mNone\u001b[0m, \u001b[38;5;34m2\u001b[0m)              │           \u001b[38;5;34m514\u001b[0m │\n",
       "└─────────────────────────────────┴────────────────────────┴───────────────┘\n"
      ]
     },
     "metadata": {},
     "output_type": "display_data"
    },
    {
     "data": {
      "text/html": [
       "<pre style=\"white-space:pre;overflow-x:auto;line-height:normal;font-family:Menlo,'DejaVu Sans Mono',consolas,'Courier New',monospace\"><span style=\"font-weight: bold\"> Total params: </span><span style=\"color: #00af00; text-decoration-color: #00af00\">208,904</span> (816.04 KB)\n",
       "</pre>\n"
      ],
      "text/plain": [
       "\u001b[1m Total params: \u001b[0m\u001b[38;5;34m208,904\u001b[0m (816.04 KB)\n"
      ]
     },
     "metadata": {},
     "output_type": "display_data"
    },
    {
     "data": {
      "text/html": [
       "<pre style=\"white-space:pre;overflow-x:auto;line-height:normal;font-family:Menlo,'DejaVu Sans Mono',consolas,'Courier New',monospace\"><span style=\"font-weight: bold\"> Trainable params: </span><span style=\"color: #00af00; text-decoration-color: #00af00\">69,634</span> (272.01 KB)\n",
       "</pre>\n"
      ],
      "text/plain": [
       "\u001b[1m Trainable params: \u001b[0m\u001b[38;5;34m69,634\u001b[0m (272.01 KB)\n"
      ]
     },
     "metadata": {},
     "output_type": "display_data"
    },
    {
     "data": {
      "text/html": [
       "<pre style=\"white-space:pre;overflow-x:auto;line-height:normal;font-family:Menlo,'DejaVu Sans Mono',consolas,'Courier New',monospace\"><span style=\"font-weight: bold\"> Non-trainable params: </span><span style=\"color: #00af00; text-decoration-color: #00af00\">0</span> (0.00 B)\n",
       "</pre>\n"
      ],
      "text/plain": [
       "\u001b[1m Non-trainable params: \u001b[0m\u001b[38;5;34m0\u001b[0m (0.00 B)\n"
      ]
     },
     "metadata": {},
     "output_type": "display_data"
    },
    {
     "data": {
      "text/html": [
       "<pre style=\"white-space:pre;overflow-x:auto;line-height:normal;font-family:Menlo,'DejaVu Sans Mono',consolas,'Courier New',monospace\"><span style=\"font-weight: bold\"> Optimizer params: </span><span style=\"color: #00af00; text-decoration-color: #00af00\">139,270</span> (544.03 KB)\n",
       "</pre>\n"
      ],
      "text/plain": [
       "\u001b[1m Optimizer params: \u001b[0m\u001b[38;5;34m139,270\u001b[0m (544.03 KB)\n"
      ]
     },
     "metadata": {},
     "output_type": "display_data"
    }
   ],
   "source": [
    "model.model_.summary()"
   ]
  },
  {
   "cell_type": "code",
   "execution_count": null,
   "metadata": {},
   "outputs": [],
   "source": []
  }
 ],
 "metadata": {
  "kernelspec": {
   "display_name": "base",
   "language": "python",
   "name": "python3"
  },
  "language_info": {
   "codemirror_mode": {
    "name": "ipython",
    "version": 3
   },
   "file_extension": ".py",
   "mimetype": "text/x-python",
   "name": "python",
   "nbconvert_exporter": "python",
   "pygments_lexer": "ipython3",
   "version": "3.12.7"
  }
 },
 "nbformat": 4,
 "nbformat_minor": 2
}
