{
 "cells": [
  {
   "cell_type": "markdown",
   "metadata": {},
   "source": [
    "# Setup"
   ]
  },
  {
   "cell_type": "code",
   "execution_count": 1,
   "metadata": {},
   "outputs": [],
   "source": [
    "import numpy as np\n",
    "import matplotlib.pyplot as plt #for displaying plots\n",
    "import pandas as pd\n",
    "import seaborn as sns\n",
    "import tensorflow as tf\n",
    "\n",
    "from keras.layers import *\n",
    "from keras.models import Sequential\n",
    "from keras.models import Model\n",
    "from keras.optimizers import *\n",
    "from keras.callbacks import *\n",
    "from keras import regularizers\n",
    "from keras.utils import plot_model\n",
    "\n",
    "from tensorflow.keras.saving import register_keras_serializable\n",
    "\n",
    "from sklearn.preprocessing import StandardScaler, OneHotEncoder\n",
    "from sklearn.inspection import permutation_importance\n",
    "from sklearn import svm, datasets\n",
    "from sklearn.model_selection import GridSearchCV\n",
    "from sklearn.metrics import make_scorer\n",
    "import datetime\n",
    "import random\n",
    "import properscoring as ps\n",
    "\n",
    "from scipy import stats\n",
    "from scipy.stats import norm\n",
    "from scikeras.wrappers import KerasRegressor\n",
    "\n",
    "import xgboost\n",
    "import pydot\n",
    "import graphviz\n",
    "\n",
    "from keras.models import load_model\n",
    "from sklearn.multioutput import MultiOutputRegressor\n",
    "import pickle\n",
    "\n",
    "from sklearn.model_selection import ParameterGrid\n",
    "from pathlib import Path\n",
    "import joblib\n",
    "import shap\n",
    "from sklearn.model_selection import cross_val_score, TimeSeriesSplit"
   ]
  },
  {
   "cell_type": "markdown",
   "metadata": {},
   "source": [
    "## Basic Setup"
   ]
  },
  {
   "cell_type": "code",
   "execution_count": 2,
   "metadata": {},
   "outputs": [],
   "source": [
    "# setting a seed to ensure reproducability and consistency\n",
    "random.seed(16)\n",
    "np.random.seed(16)\n",
    "tf.random.set_seed(16)"
   ]
  },
  {
   "cell_type": "code",
   "execution_count": null,
   "metadata": {},
   "outputs": [],
   "source": [
    "plt.rcParams.update({'font.size': 13})"
   ]
  },
  {
   "cell_type": "code",
   "execution_count": 3,
   "metadata": {},
   "outputs": [],
   "source": [
    "X_train = pd.read_pickle(r\"C:\\Users\\aisti\\OneDrive\\Dokumente\\Uni\\Bachelorarbeit\\Daten\\X_train_final.pkl\")\n",
    "X_valid = pd.read_pickle(r\"C:\\Users\\aisti\\OneDrive\\Dokumente\\Uni\\Bachelorarbeit\\Daten\\X_valid_final.pkl\")\n",
    "X_test = pd.read_pickle(r\"C:\\Users\\aisti\\OneDrive\\Dokumente\\Uni\\Bachelorarbeit\\Daten\\X_test_final.pkl\")\n",
    "\n",
    "X_train_all = pd.read_pickle(r\"C:\\Users\\aisti\\OneDrive\\Dokumente\\Uni\\Bachelorarbeit\\Daten\\X_train.pkl\")\n",
    "X_valid_all = pd.read_pickle(r\"C:\\Users\\aisti\\OneDrive\\Dokumente\\Uni\\Bachelorarbeit\\Daten\\X_valid.pkl\")\n",
    "X_test_all = pd.read_pickle(r\"C:\\Users\\aisti\\OneDrive\\Dokumente\\Uni\\Bachelorarbeit\\Daten\\X_test.pkl\")\n",
    "\n",
    "y_train = pd.read_pickle(r\"C:\\Users\\aisti\\OneDrive\\Dokumente\\Uni\\Bachelorarbeit\\Daten\\y_train.pkl\")\n",
    "y_valid = pd.read_pickle(r\"C:\\Users\\aisti\\OneDrive\\Dokumente\\Uni\\Bachelorarbeit\\Daten\\y_valid.pkl\")\n",
    "y_test = pd.read_pickle(r\"C:\\Users\\aisti\\OneDrive\\Dokumente\\Uni\\Bachelorarbeit\\Daten\\y_test.pkl\")\n"
   ]
  },
  {
   "cell_type": "code",
   "execution_count": 4,
   "metadata": {},
   "outputs": [],
   "source": [
    "X_train_all['date'] =  pd.to_datetime(X_train_all['date'])\n",
    "X_valid_all['date'] =  pd.to_datetime(X_valid_all['date'])\n",
    "X_test_all['date'] =  pd.to_datetime(X_test_all['date'])"
   ]
  },
  {
   "cell_type": "code",
   "execution_count": 5,
   "metadata": {},
   "outputs": [
    {
     "data": {
      "text/html": [
       "<div>\n",
       "<style scoped>\n",
       "    .dataframe tbody tr th:only-of-type {\n",
       "        vertical-align: middle;\n",
       "    }\n",
       "\n",
       "    .dataframe tbody tr th {\n",
       "        vertical-align: top;\n",
       "    }\n",
       "\n",
       "    .dataframe thead th {\n",
       "        text-align: right;\n",
       "    }\n",
       "</style>\n",
       "<table border=\"1\" class=\"dataframe\">\n",
       "  <thead>\n",
       "    <tr style=\"text-align: right;\">\n",
       "      <th></th>\n",
       "      <th>temperature</th>\n",
       "      <th>precipitation</th>\n",
       "      <th>public_holiday_indicator</th>\n",
       "      <th>is_workday</th>\n",
       "      <th>day_of_week</th>\n",
       "      <th>spring</th>\n",
       "      <th>summer</th>\n",
       "      <th>autumn</th>\n",
       "      <th>winter</th>\n",
       "      <th>windspeed</th>\n",
       "      <th>sun</th>\n",
       "      <th>school_holiday_indicator</th>\n",
       "    </tr>\n",
       "  </thead>\n",
       "  <tbody>\n",
       "    <tr>\n",
       "      <th>0</th>\n",
       "      <td>-0.039776</td>\n",
       "      <td>-0.397192</td>\n",
       "      <td>0</td>\n",
       "      <td>1</td>\n",
       "      <td>2</td>\n",
       "      <td>1.0</td>\n",
       "      <td>0.0</td>\n",
       "      <td>0.0</td>\n",
       "      <td>0.0</td>\n",
       "      <td>-0.218119</td>\n",
       "      <td>-0.031329</td>\n",
       "      <td>0</td>\n",
       "    </tr>\n",
       "    <tr>\n",
       "      <th>1</th>\n",
       "      <td>0.244625</td>\n",
       "      <td>-0.397192</td>\n",
       "      <td>0</td>\n",
       "      <td>1</td>\n",
       "      <td>3</td>\n",
       "      <td>1.0</td>\n",
       "      <td>0.0</td>\n",
       "      <td>0.0</td>\n",
       "      <td>0.0</td>\n",
       "      <td>-0.324284</td>\n",
       "      <td>-0.458165</td>\n",
       "      <td>0</td>\n",
       "    </tr>\n",
       "    <tr>\n",
       "      <th>2</th>\n",
       "      <td>0.381694</td>\n",
       "      <td>-0.371451</td>\n",
       "      <td>0</td>\n",
       "      <td>1</td>\n",
       "      <td>4</td>\n",
       "      <td>1.0</td>\n",
       "      <td>0.0</td>\n",
       "      <td>0.0</td>\n",
       "      <td>0.0</td>\n",
       "      <td>-1.076810</td>\n",
       "      <td>0.254435</td>\n",
       "      <td>0</td>\n",
       "    </tr>\n",
       "    <tr>\n",
       "      <th>3</th>\n",
       "      <td>1.300863</td>\n",
       "      <td>-0.397192</td>\n",
       "      <td>0</td>\n",
       "      <td>0</td>\n",
       "      <td>5</td>\n",
       "      <td>1.0</td>\n",
       "      <td>0.0</td>\n",
       "      <td>0.0</td>\n",
       "      <td>0.0</td>\n",
       "      <td>-0.405469</td>\n",
       "      <td>1.357699</td>\n",
       "      <td>0</td>\n",
       "    </tr>\n",
       "    <tr>\n",
       "      <th>4</th>\n",
       "      <td>0.745990</td>\n",
       "      <td>0.555250</td>\n",
       "      <td>0</td>\n",
       "      <td>0</td>\n",
       "      <td>6</td>\n",
       "      <td>1.0</td>\n",
       "      <td>0.0</td>\n",
       "      <td>0.0</td>\n",
       "      <td>0.0</td>\n",
       "      <td>0.297096</td>\n",
       "      <td>0.059103</td>\n",
       "      <td>0</td>\n",
       "    </tr>\n",
       "  </tbody>\n",
       "</table>\n",
       "</div>"
      ],
      "text/plain": [
       "   temperature  precipitation  public_holiday_indicator  is_workday  \\\n",
       "0    -0.039776      -0.397192                         0           1   \n",
       "1     0.244625      -0.397192                         0           1   \n",
       "2     0.381694      -0.371451                         0           1   \n",
       "3     1.300863      -0.397192                         0           0   \n",
       "4     0.745990       0.555250                         0           0   \n",
       "\n",
       "   day_of_week  spring  summer  autumn  winter  windspeed       sun  \\\n",
       "0            2     1.0     0.0     0.0     0.0  -0.218119 -0.031329   \n",
       "1            3     1.0     0.0     0.0     0.0  -0.324284 -0.458165   \n",
       "2            4     1.0     0.0     0.0     0.0  -1.076810  0.254435   \n",
       "3            5     1.0     0.0     0.0     0.0  -0.405469  1.357699   \n",
       "4            6     1.0     0.0     0.0     0.0   0.297096  0.059103   \n",
       "\n",
       "   school_holiday_indicator  \n",
       "0                         0  \n",
       "1                         0  \n",
       "2                         0  \n",
       "3                         0  \n",
       "4                         0  "
      ]
     },
     "execution_count": 5,
     "metadata": {},
     "output_type": "execute_result"
    }
   ],
   "source": [
    "X_train.head()"
   ]
  },
  {
   "cell_type": "code",
   "execution_count": 6,
   "metadata": {},
   "outputs": [
    {
     "data": {
      "text/html": [
       "<div>\n",
       "<style scoped>\n",
       "    .dataframe tbody tr th:only-of-type {\n",
       "        vertical-align: middle;\n",
       "    }\n",
       "\n",
       "    .dataframe tbody tr th {\n",
       "        vertical-align: top;\n",
       "    }\n",
       "\n",
       "    .dataframe thead th {\n",
       "        text-align: right;\n",
       "    }\n",
       "</style>\n",
       "<table border=\"1\" class=\"dataframe\">\n",
       "  <thead>\n",
       "    <tr style=\"text-align: right;\">\n",
       "      <th></th>\n",
       "      <th>temperature</th>\n",
       "      <th>precipitation</th>\n",
       "      <th>public_holiday_indicator</th>\n",
       "      <th>is_workday</th>\n",
       "      <th>day_of_week</th>\n",
       "      <th>spring</th>\n",
       "      <th>summer</th>\n",
       "      <th>autumn</th>\n",
       "      <th>winter</th>\n",
       "      <th>windspeed</th>\n",
       "      <th>sun</th>\n",
       "      <th>school_holiday_indicator</th>\n",
       "    </tr>\n",
       "  </thead>\n",
       "  <tbody>\n",
       "    <tr>\n",
       "      <th>359</th>\n",
       "      <td>-1.064496</td>\n",
       "      <td>-0.397192</td>\n",
       "      <td>0</td>\n",
       "      <td>1</td>\n",
       "      <td>1</td>\n",
       "      <td>0.0</td>\n",
       "      <td>0.0</td>\n",
       "      <td>0.0</td>\n",
       "      <td>1.0</td>\n",
       "      <td>-0.258711</td>\n",
       "      <td>-0.353265</td>\n",
       "      <td>1</td>\n",
       "    </tr>\n",
       "    <tr>\n",
       "      <th>360</th>\n",
       "      <td>-0.478837</td>\n",
       "      <td>-0.397192</td>\n",
       "      <td>0</td>\n",
       "      <td>1</td>\n",
       "      <td>2</td>\n",
       "      <td>0.0</td>\n",
       "      <td>0.0</td>\n",
       "      <td>0.0</td>\n",
       "      <td>1.0</td>\n",
       "      <td>1.087091</td>\n",
       "      <td>-0.823509</td>\n",
       "      <td>1</td>\n",
       "    </tr>\n",
       "    <tr>\n",
       "      <th>361</th>\n",
       "      <td>-0.104279</td>\n",
       "      <td>0.143383</td>\n",
       "      <td>0</td>\n",
       "      <td>1</td>\n",
       "      <td>3</td>\n",
       "      <td>0.0</td>\n",
       "      <td>0.0</td>\n",
       "      <td>0.0</td>\n",
       "      <td>1.0</td>\n",
       "      <td>2.276769</td>\n",
       "      <td>-0.913940</td>\n",
       "      <td>1</td>\n",
       "    </tr>\n",
       "    <tr>\n",
       "      <th>362</th>\n",
       "      <td>-0.691404</td>\n",
       "      <td>0.169125</td>\n",
       "      <td>0</td>\n",
       "      <td>1</td>\n",
       "      <td>4</td>\n",
       "      <td>0.0</td>\n",
       "      <td>0.0</td>\n",
       "      <td>0.0</td>\n",
       "      <td>1.0</td>\n",
       "      <td>-0.674006</td>\n",
       "      <td>-0.508807</td>\n",
       "      <td>1</td>\n",
       "    </tr>\n",
       "    <tr>\n",
       "      <th>363</th>\n",
       "      <td>0.541485</td>\n",
       "      <td>-0.397192</td>\n",
       "      <td>0</td>\n",
       "      <td>0</td>\n",
       "      <td>5</td>\n",
       "      <td>0.0</td>\n",
       "      <td>0.0</td>\n",
       "      <td>0.0</td>\n",
       "      <td>1.0</td>\n",
       "      <td>1.564836</td>\n",
       "      <td>-0.201340</td>\n",
       "      <td>1</td>\n",
       "    </tr>\n",
       "  </tbody>\n",
       "</table>\n",
       "</div>"
      ],
      "text/plain": [
       "     temperature  precipitation  public_holiday_indicator  is_workday  \\\n",
       "359    -1.064496      -0.397192                         0           1   \n",
       "360    -0.478837      -0.397192                         0           1   \n",
       "361    -0.104279       0.143383                         0           1   \n",
       "362    -0.691404       0.169125                         0           1   \n",
       "363     0.541485      -0.397192                         0           0   \n",
       "\n",
       "     day_of_week  spring  summer  autumn  winter  windspeed       sun  \\\n",
       "359            1     0.0     0.0     0.0     1.0  -0.258711 -0.353265   \n",
       "360            2     0.0     0.0     0.0     1.0   1.087091 -0.823509   \n",
       "361            3     0.0     0.0     0.0     1.0   2.276769 -0.913940   \n",
       "362            4     0.0     0.0     0.0     1.0  -0.674006 -0.508807   \n",
       "363            5     0.0     0.0     0.0     1.0   1.564836 -0.201340   \n",
       "\n",
       "     school_holiday_indicator  \n",
       "359                         1  \n",
       "360                         1  \n",
       "361                         1  \n",
       "362                         1  \n",
       "363                         1  "
      ]
     },
     "execution_count": 6,
     "metadata": {},
     "output_type": "execute_result"
    }
   ],
   "source": [
    "X_valid.tail()"
   ]
  },
  {
   "cell_type": "code",
   "execution_count": 7,
   "metadata": {},
   "outputs": [
    {
     "data": {
      "text/plain": [
       "0    1160.0\n",
       "1    2996.0\n",
       "2    3635.0\n",
       "3    3265.0\n",
       "4    3751.0\n",
       "Name: bike_count, dtype: float64"
      ]
     },
     "execution_count": 7,
     "metadata": {},
     "output_type": "execute_result"
    }
   ],
   "source": [
    "y_test.head()"
   ]
  },
  {
   "cell_type": "code",
   "execution_count": 8,
   "metadata": {},
   "outputs": [
    {
     "data": {
      "text/plain": [
       "((3161, 12), (364, 12), (390, 12))"
      ]
     },
     "execution_count": 8,
     "metadata": {},
     "output_type": "execute_result"
    }
   ],
   "source": [
    "X_train.shape, X_valid.shape, X_test.shape"
   ]
  },
  {
   "cell_type": "code",
   "execution_count": 9,
   "metadata": {},
   "outputs": [
    {
     "data": {
      "text/plain": [
       "((3161,), (364,), (390,))"
      ]
     },
     "execution_count": 9,
     "metadata": {},
     "output_type": "execute_result"
    }
   ],
   "source": [
    "y_train.shape, y_valid.shape, y_test.shape"
   ]
  },
  {
   "cell_type": "code",
   "execution_count": 10,
   "metadata": {},
   "outputs": [],
   "source": [
    "y_train = y_train.reset_index(drop=True)\n",
    "y_valid = y_valid.reset_index(drop=True)\n",
    "y_test = y_test.reset_index(drop=True)"
   ]
  },
  {
   "cell_type": "code",
   "execution_count": 11,
   "metadata": {},
   "outputs": [
    {
     "data": {
      "text/plain": [
       "((3161,), (364,), (390,))"
      ]
     },
     "execution_count": 11,
     "metadata": {},
     "output_type": "execute_result"
    }
   ],
   "source": [
    "y_train.shape, y_valid.shape, y_test.shape"
   ]
  },
  {
   "cell_type": "code",
   "execution_count": 12,
   "metadata": {},
   "outputs": [
    {
     "data": {
      "text/plain": [
       "temperature                 0\n",
       "precipitation               0\n",
       "public_holiday_indicator    0\n",
       "is_workday                  0\n",
       "day_of_week                 0\n",
       "spring                      0\n",
       "summer                      0\n",
       "autumn                      0\n",
       "winter                      0\n",
       "windspeed                   0\n",
       "sun                         0\n",
       "school_holiday_indicator    0\n",
       "dtype: int64"
      ]
     },
     "execution_count": 12,
     "metadata": {},
     "output_type": "execute_result"
    }
   ],
   "source": [
    "X_train.isna().sum()"
   ]
  },
  {
   "cell_type": "code",
   "execution_count": 13,
   "metadata": {},
   "outputs": [
    {
     "data": {
      "text/plain": [
       "temperature                 float64\n",
       "precipitation               float64\n",
       "public_holiday_indicator      int64\n",
       "is_workday                    int64\n",
       "day_of_week                   int64\n",
       "spring                      float64\n",
       "summer                      float64\n",
       "autumn                      float64\n",
       "winter                      float64\n",
       "windspeed                   float64\n",
       "sun                         float64\n",
       "school_holiday_indicator      int64\n",
       "dtype: object"
      ]
     },
     "execution_count": 13,
     "metadata": {},
     "output_type": "execute_result"
    }
   ],
   "source": [
    "X_train.dtypes"
   ]
  },
  {
   "cell_type": "code",
   "execution_count": 14,
   "metadata": {},
   "outputs": [
    {
     "data": {
      "text/html": [
       "<div>\n",
       "<style scoped>\n",
       "    .dataframe tbody tr th:only-of-type {\n",
       "        vertical-align: middle;\n",
       "    }\n",
       "\n",
       "    .dataframe tbody tr th {\n",
       "        vertical-align: top;\n",
       "    }\n",
       "\n",
       "    .dataframe thead th {\n",
       "        text-align: right;\n",
       "    }\n",
       "</style>\n",
       "<table border=\"1\" class=\"dataframe\">\n",
       "  <thead>\n",
       "    <tr style=\"text-align: right;\">\n",
       "      <th></th>\n",
       "      <th>temperature</th>\n",
       "      <th>precipitation</th>\n",
       "      <th>public_holiday_indicator</th>\n",
       "      <th>is_workday</th>\n",
       "      <th>day_of_week</th>\n",
       "      <th>spring</th>\n",
       "      <th>summer</th>\n",
       "      <th>autumn</th>\n",
       "      <th>winter</th>\n",
       "      <th>windspeed</th>\n",
       "      <th>sun</th>\n",
       "      <th>school_holiday_indicator</th>\n",
       "    </tr>\n",
       "  </thead>\n",
       "  <tbody>\n",
       "    <tr>\n",
       "      <th>count</th>\n",
       "      <td>3.161000e+03</td>\n",
       "      <td>3.161000e+03</td>\n",
       "      <td>3161.000000</td>\n",
       "      <td>3161.000000</td>\n",
       "      <td>3161.000000</td>\n",
       "      <td>3161.000000</td>\n",
       "      <td>3161.000000</td>\n",
       "      <td>3161.000000</td>\n",
       "      <td>3161.000000</td>\n",
       "      <td>3.161000e+03</td>\n",
       "      <td>3.161000e+03</td>\n",
       "      <td>3161.000000</td>\n",
       "    </tr>\n",
       "    <tr>\n",
       "      <th>mean</th>\n",
       "      <td>4.450726e-16</td>\n",
       "      <td>3.708939e-17</td>\n",
       "      <td>0.033534</td>\n",
       "      <td>0.684910</td>\n",
       "      <td>3.001898</td>\n",
       "      <td>0.243277</td>\n",
       "      <td>0.259412</td>\n",
       "      <td>0.259095</td>\n",
       "      <td>0.238216</td>\n",
       "      <td>4.832859e-17</td>\n",
       "      <td>4.720467e-17</td>\n",
       "      <td>0.232521</td>\n",
       "    </tr>\n",
       "    <tr>\n",
       "      <th>std</th>\n",
       "      <td>1.000158e+00</td>\n",
       "      <td>1.000158e+00</td>\n",
       "      <td>0.180054</td>\n",
       "      <td>0.464625</td>\n",
       "      <td>2.001106</td>\n",
       "      <td>0.429129</td>\n",
       "      <td>0.438381</td>\n",
       "      <td>0.438207</td>\n",
       "      <td>0.426059</td>\n",
       "      <td>1.000158e+00</td>\n",
       "      <td>1.000158e+00</td>\n",
       "      <td>0.422506</td>\n",
       "    </tr>\n",
       "    <tr>\n",
       "      <th>min</th>\n",
       "      <td>-2.660948e+00</td>\n",
       "      <td>-3.971923e-01</td>\n",
       "      <td>0.000000</td>\n",
       "      <td>0.000000</td>\n",
       "      <td>0.000000</td>\n",
       "      <td>0.000000</td>\n",
       "      <td>0.000000</td>\n",
       "      <td>0.000000</td>\n",
       "      <td>0.000000</td>\n",
       "      <td>-1.513961e+00</td>\n",
       "      <td>-1.094803e+00</td>\n",
       "      <td>0.000000</td>\n",
       "    </tr>\n",
       "    <tr>\n",
       "      <th>25%</th>\n",
       "      <td>-7.932892e-01</td>\n",
       "      <td>-3.971923e-01</td>\n",
       "      <td>0.000000</td>\n",
       "      <td>0.000000</td>\n",
       "      <td>1.000000</td>\n",
       "      <td>0.000000</td>\n",
       "      <td>0.000000</td>\n",
       "      <td>0.000000</td>\n",
       "      <td>0.000000</td>\n",
       "      <td>-7.364558e-01</td>\n",
       "      <td>-9.899026e-01</td>\n",
       "      <td>0.000000</td>\n",
       "    </tr>\n",
       "    <tr>\n",
       "      <th>50%</th>\n",
       "      <td>-9.270793e-04</td>\n",
       "      <td>-3.971923e-01</td>\n",
       "      <td>0.000000</td>\n",
       "      <td>1.000000</td>\n",
       "      <td>3.000000</td>\n",
       "      <td>0.000000</td>\n",
       "      <td>0.000000</td>\n",
       "      <td>0.000000</td>\n",
       "      <td>0.000000</td>\n",
       "      <td>-2.056287e-01</td>\n",
       "      <td>-2.085744e-01</td>\n",
       "      <td>0.000000</td>\n",
       "    </tr>\n",
       "    <tr>\n",
       "      <th>75%</th>\n",
       "      <td>7.907021e-01</td>\n",
       "      <td>-1.140338e-01</td>\n",
       "      <td>0.000000</td>\n",
       "      <td>1.000000</td>\n",
       "      <td>5.000000</td>\n",
       "      <td>0.000000</td>\n",
       "      <td>1.000000</td>\n",
       "      <td>1.000000</td>\n",
       "      <td>0.000000</td>\n",
       "      <td>4.969366e-01</td>\n",
       "      <td>8.585175e-01</td>\n",
       "      <td>0.000000</td>\n",
       "    </tr>\n",
       "    <tr>\n",
       "      <th>max</th>\n",
       "      <td>2.566737e+00</td>\n",
       "      <td>1.461021e+01</td>\n",
       "      <td>1.000000</td>\n",
       "      <td>1.000000</td>\n",
       "      <td>6.000000</td>\n",
       "      <td>1.000000</td>\n",
       "      <td>1.000000</td>\n",
       "      <td>1.000000</td>\n",
       "      <td>1.000000</td>\n",
       "      <td>4.952762e+00</td>\n",
       "      <td>2.193287e+00</td>\n",
       "      <td>1.000000</td>\n",
       "    </tr>\n",
       "  </tbody>\n",
       "</table>\n",
       "</div>"
      ],
      "text/plain": [
       "        temperature  precipitation  public_holiday_indicator   is_workday  \\\n",
       "count  3.161000e+03   3.161000e+03               3161.000000  3161.000000   \n",
       "mean   4.450726e-16   3.708939e-17                  0.033534     0.684910   \n",
       "std    1.000158e+00   1.000158e+00                  0.180054     0.464625   \n",
       "min   -2.660948e+00  -3.971923e-01                  0.000000     0.000000   \n",
       "25%   -7.932892e-01  -3.971923e-01                  0.000000     0.000000   \n",
       "50%   -9.270793e-04  -3.971923e-01                  0.000000     1.000000   \n",
       "75%    7.907021e-01  -1.140338e-01                  0.000000     1.000000   \n",
       "max    2.566737e+00   1.461021e+01                  1.000000     1.000000   \n",
       "\n",
       "       day_of_week       spring       summer       autumn       winter  \\\n",
       "count  3161.000000  3161.000000  3161.000000  3161.000000  3161.000000   \n",
       "mean      3.001898     0.243277     0.259412     0.259095     0.238216   \n",
       "std       2.001106     0.429129     0.438381     0.438207     0.426059   \n",
       "min       0.000000     0.000000     0.000000     0.000000     0.000000   \n",
       "25%       1.000000     0.000000     0.000000     0.000000     0.000000   \n",
       "50%       3.000000     0.000000     0.000000     0.000000     0.000000   \n",
       "75%       5.000000     0.000000     1.000000     1.000000     0.000000   \n",
       "max       6.000000     1.000000     1.000000     1.000000     1.000000   \n",
       "\n",
       "          windspeed           sun  school_holiday_indicator  \n",
       "count  3.161000e+03  3.161000e+03               3161.000000  \n",
       "mean   4.832859e-17  4.720467e-17                  0.232521  \n",
       "std    1.000158e+00  1.000158e+00                  0.422506  \n",
       "min   -1.513961e+00 -1.094803e+00                  0.000000  \n",
       "25%   -7.364558e-01 -9.899026e-01                  0.000000  \n",
       "50%   -2.056287e-01 -2.085744e-01                  0.000000  \n",
       "75%    4.969366e-01  8.585175e-01                  0.000000  \n",
       "max    4.952762e+00  2.193287e+00                  1.000000  "
      ]
     },
     "execution_count": 14,
     "metadata": {},
     "output_type": "execute_result"
    }
   ],
   "source": [
    "X_train.describe()"
   ]
  },
  {
   "cell_type": "markdown",
   "metadata": {},
   "source": [
    "## Functions"
   ]
  },
  {
   "cell_type": "code",
   "execution_count": 15,
   "metadata": {},
   "outputs": [],
   "source": [
    "def add_column(X_train_num, X_valid_num, X_test_num, X_train, X_valid, X_test, col_name):\n",
    "    \n",
    "    X_train_num[col_name] = X_train[col_name]\n",
    "    X_valid_num[col_name] = X_valid[col_name]\n",
    "    X_test_num[col_name] = X_test[col_name]\n",
    "    \n",
    "    return X_train_num, X_valid_num, X_test_num"
   ]
  },
  {
   "cell_type": "code",
   "execution_count": 16,
   "metadata": {},
   "outputs": [],
   "source": [
    "def crps_normal_cost_function(y_true, y_pred, tensor=True):\n",
    "    \"\"\"Compute the CRPS cost function for a normal distribution defined by\n",
    "    the mean and standard deviation.\n",
    "\n",
    "    Args:\n",
    "        y_true: True values\n",
    "        y_pred: Tensor containing predictions: [mean, std]\n",
    "\n",
    "    Returns:\n",
    "        mean_crps: Scalar with mean CRPS over batch or tensor with all crps values of batch\n",
    "    \"\"\"\n",
    "    # get rid of axis 1\n",
    "    if tensor:\n",
    "        y_true = y_true[:, 0]\n",
    "    \n",
    "    # Split input\n",
    "    mu = y_pred[:, 0]\n",
    "    var = tf.square(y_pred[:, 1]) # Ensure standard deviation is positive\n",
    "    sigma = tf.sqrt(var)  \n",
    "    #sigma = y_pred[:, 1]\n",
    "\n",
    "    # The following three variables are just for convenience\n",
    "    loc = (y_true - mu) / sigma\n",
    "    phi = 1.0 / tf.sqrt(2.0 * np.pi) * tf.exp(-tf.square(loc) / 2.0)\n",
    "    Phi = 0.5 * (1.0 + tf.math.erf(loc / tf.sqrt(2.0)))\n",
    "    # First we will compute the crps for each input/target pair\n",
    "    crps =  sigma * (loc * (2. * Phi - 1.) + 2 * phi - 1. / tf.sqrt(np.pi))\n",
    "    # Then we take the mean. The cost is now a scalar\n",
    "    return tf.reduce_mean(crps) if tensor else crps"
   ]
  },
  {
   "cell_type": "code",
   "execution_count": 17,
   "metadata": {},
   "outputs": [],
   "source": [
    "def crps_normal_cost_function_v2(y_true, y_pred, tensor=True):\n",
    "    \"\"\"Compute the CRPS cost function for a normal distribution defined by\n",
    "    the mean and standard deviation.\n",
    "\n",
    "    Args:\n",
    "        y_true: True values\n",
    "        y_pred: Tensor containing predictions: [mean, std]\n",
    "\n",
    "    Returns:\n",
    "        mean_crps: Scalar with mean CRPS over batch or tensor with all crps values of batch\n",
    "    \"\"\"\n",
    "    # get rid of axis 1\n",
    "    if tensor:\n",
    "        y_true = y_true[:, 0]\n",
    "\n",
    "    # Split input\n",
    "    mu = y_pred[:, 0]\n",
    "    sigma = tf.math.softplus(y_pred[:, 1])  # Apply softplus to ensure positive std\n",
    "    #sigma = y_pred[:, 1]\n",
    "\n",
    "    # The following three variables are just for convenience\n",
    "    loc = (y_true - mu) / sigma\n",
    "    phi = 1.0 / tf.sqrt(2.0 * np.pi) * tf.exp(-tf.square(loc) / 2.0)\n",
    "    Phi = 0.5 * (1.0 + tf.math.erf(loc / tf.sqrt(2.0)))\n",
    "    # First we will compute the crps for each input/target pair\n",
    "    crps =  sigma * (loc * (2. * Phi - 1.) + 2 * phi - 1. / tf.sqrt(np.pi))\n",
    "    \n",
    "    # Then we take the mean. The cost is now a scalar\n",
    "    return tf.reduce_mean(crps) if tensor else crps"
   ]
  },
  {
   "cell_type": "code",
   "execution_count": 18,
   "metadata": {},
   "outputs": [],
   "source": [
    "def predict_and_calculate_mean_crps(model, X_test = X_test, y_test = y_test, print_predicted_mean_std = False):\n",
    "    \"\"\"Make predictions on test data and calculate mean CRPS.\n",
    "\n",
    "    Args:\n",
    "        model: Trained model\n",
    "        X_test: Test data\n",
    "        y_test: True values\n",
    "        print_predicted_mean_std: Boolean to print predicted mean and std\n",
    "\n",
    "    Returns:\n",
    "        mean_crps: Scalar with mean CRPS over batch or tensor with all crps values of batch\n",
    "    \"\"\"\n",
    "     \n",
    "    predicted_mean_std = model.predict(X_test)\n",
    "    if print_predicted_mean_std:\n",
    "        print(predicted_mean_std)\n",
    "    \n",
    "    predicted_mean = predicted_mean_std[:, 0]\n",
    "    predicted_std = predicted_mean_std[:, 1]\n",
    "    crps_values = ps.crps_gaussian(y_test, mu=predicted_mean, sig=predicted_std)\n",
    "\n",
    "    mean_crps = np.mean(crps_values)\n",
    "    print(f\"\\nMean CRPS: { mean_crps }\")\n",
    "\n",
    "\n",
    "    return mean_crps, predicted_mean_std, crps_values"
   ]
  },
  {
   "cell_type": "code",
   "execution_count": 19,
   "metadata": {},
   "outputs": [],
   "source": [
    "def compile_and_fit_model(model, X_train = X_train, y_train = y_train, X_valid = X_valid, y_valid = y_valid,  pat=5, lr=1e-3, loss_function = crps_normal_cost_function, epochs = 100, batch_size = 10):\n",
    "    \"\"\"Compile and fit a model on training data.\n",
    "\n",
    "    Args:\n",
    "        model: model to be trained\n",
    "        X_train: Training data\n",
    "        y_train: Training targets\n",
    "        X_valid: Validation data\n",
    "        y_valid: Validation targets\n",
    "        pat: Patience for early stopping\n",
    "        lr: Learning rate\n",
    "        loss_function: Loss function\n",
    "        epochs: Number of epochs\n",
    "        batch_size: Batch size\n",
    "\n",
    "    Returns:\n",
    "        model: Trained model\n",
    "    \"\"\"\n",
    "\n",
    "    #print some information about the model\n",
    "    print('Model information:\\n\\nCallbacks: EarlyStopping (patience: ' + str(pat) + '), Learning Rate (Reduce on Plateau, patience: ' + str(pat) + ')\\nBatch size: ' + str(batch_size) + '\\nEpochs: ' + str(epochs) + '\\n')\n",
    "    \n",
    "    early_stopping = tf.keras.callbacks.EarlyStopping(monitor='val_loss',\n",
    "                                                      patience=pat, \n",
    "                                                      restore_best_weights=True)\n",
    "    \n",
    "    reduce_lr = tf.keras.callbacks.ReduceLROnPlateau(monitor='val_loss',\n",
    "                                                     factor=0.2,\n",
    "                                                     patience = pat,\n",
    "                                                     min_lr=0 )\n",
    "    # Compile the model\n",
    "    model.compile(optimizer=tf.keras.optimizers.Adam(learning_rate=lr), loss=loss_function)\n",
    "\n",
    "    # Train the model\n",
    "    history = model.fit(X_train, y_train, epochs=epochs, batch_size=batch_size, validation_data=(X_valid, y_valid), callbacks=[early_stopping, reduce_lr])\n",
    "\n",
    "    return model, history"
   ]
  },
  {
   "cell_type": "code",
   "execution_count": 20,
   "metadata": {},
   "outputs": [],
   "source": [
    "def plot_loss(history):\n",
    "    \"\"\"Plot training and validation loss.\n",
    "\n",
    "    Args:\n",
    "        history: History object\n",
    "    \"\"\"\n",
    "    plt.figure(figsize=(10, 6))\n",
    "    plt.plot(history.history['loss'], label='Training loss')\n",
    "    plt.plot(history.history['val_loss'], label='Validation loss')\n",
    "    plt.xlabel('Epoch')\n",
    "    plt.ylabel('Loss')\n",
    "    plt.title('Training and validation loss')\n",
    "    plt.legend()\n",
    "    plt.show()"
   ]
  },
  {
   "cell_type": "code",
   "execution_count": 21,
   "metadata": {},
   "outputs": [],
   "source": [
    "def process_model(model, X_train = X_train, y_train = y_train, X_valid = X_valid, y_valid = y_valid,  X_test = X_test, y_test = y_test, pat=5, lr=1e-3, loss_function = crps_normal_cost_function, epochs = 100, batch_size = 10, print_predicted_mean_std = False, plot_loss_flag = True):\n",
    "    \"\"\"Compile, fit and evaluate a model.\n",
    "\n",
    "    Args:\n",
    "        model: model to be trained\n",
    "        X_train: Training data\n",
    "        y_train: Training targets\n",
    "        X_valid: Validation data\n",
    "        y_valid: Validation targets\n",
    "        X_test: Test data\n",
    "        y_test: Test targets\n",
    "        pat: Patience for early stopping\n",
    "        lr: Learning rate\n",
    "        loss_function: Loss function\n",
    "        epochs: Number of epochs\n",
    "        batch_size: Batch size\n",
    "        print_predicted_mean_std: Boolean to print predicted mean and std\n",
    "\"\"\"\n",
    "\n",
    "    model, history = compile_and_fit_model(model, X_train, y_train, X_valid, y_valid,  pat, lr, loss_function, epochs, batch_size)\n",
    "\n",
    "    mean_crps, predicted_mean_std = predict_and_calculate_mean_crps(model, X_test, y_test, print_predicted_mean_std)\n",
    "\n",
    "    if plot_loss_flag:\n",
    "        plot_loss(history)\n",
    "\n",
    "    return model, mean_crps, history, predicted_mean_std"
   ]
  },
  {
   "cell_type": "markdown",
   "metadata": {},
   "source": [
    "# Loading the GridSearch"
   ]
  },
  {
   "cell_type": "markdown",
   "metadata": {},
   "source": [
    "## Functions"
   ]
  },
  {
   "cell_type": "code",
   "execution_count": 22,
   "metadata": {},
   "outputs": [],
   "source": [
    "@register_keras_serializable(package=\"Custom\", name=\"crps_normal_cost_function\")\n",
    "def crps_normal_cost_function_v3(y_true, y_pred, tensor=True):\n",
    "    \"\"\"Compute the CRPS cost function for a normal distribution defined by\n",
    "    the mean and standard deviation.\n",
    "\n",
    "    Args:\n",
    "        y_true: True values\n",
    "        y_pred: Tensor containing predictions: [mean, std]\n",
    "\n",
    "    Returns:\n",
    "        mean_crps: Scalar with mean CRPS over batch or tensor with all crps values of batch\n",
    "    \"\"\"\n",
    "    #print(\"y_true shape2: \", y_true.shape)\n",
    "    # Split input\n",
    "    mu = y_pred[:, 0]\n",
    "    sigma = tf.math.softplus(y_pred[:, 1])  # Apply softplus to ensure positive std\n",
    "    #sigma = y_pred[:, 1]\n",
    "    \n",
    "    # The following three variables are just for convenience\n",
    "    loc = (y_true - mu) / sigma\n",
    "    phi = 1.0 / tf.sqrt(2.0 * np.pi) * tf.exp(-tf.square(loc) / 2.0)\n",
    "    Phi = 0.5 * (1.0 + tf.math.erf(loc / tf.sqrt(2.0)))\n",
    "    \n",
    "     # First we will compute the crps for each input/target pair\n",
    "    crps =  sigma * (loc * (2. * Phi - 1.) + 2 * phi - 1. / tf.sqrt(np.pi))   \n",
    "    \n",
    "    # Then we take the mean. The cost is now a scalar\n",
    "    return tf.reduce_mean(crps) if tensor else crps\n"
   ]
  },
  {
   "cell_type": "code",
   "execution_count": 23,
   "metadata": {},
   "outputs": [],
   "source": [
    "@register_keras_serializable(package=\"Custom\", name=\"crps_loss_function_wrapper\")\n",
    "def crps_loss_function_wrapper(y_true, y_pred, tensor=True):\n",
    "    \"\"\"Wrapper for CRPS loss function.\n",
    "\n",
    "    Args:\n",
    "        y_true: True values\n",
    "        y_pred: Tensor containing predictions: [mean, std]\n",
    "\n",
    "    Returns:\n",
    "        mean_crps: Scalar with mean CRPS over batch\n",
    "    \"\"\"\n",
    "    # Ensure y_pred is a tensor\n",
    "    if isinstance(y_pred, (pd.DataFrame, pd.Series)):\n",
    "        y_pred = tf.convert_to_tensor(y_pred.values)\n",
    "    elif isinstance(y_pred, np.ndarray):\n",
    "        y_pred = tf.convert_to_tensor(y_pred)\n",
    "\n",
    "    # Ensure y_true is a tensor\n",
    "    if isinstance(y_true, (pd.DataFrame, pd.Series)):\n",
    "        y_true = tf.convert_to_tensor(y_true.values, dtype=tf.float32)\n",
    "    elif isinstance(y_true, np.ndarray):\n",
    "        y_true = tf.convert_to_tensor(y_true, dtype=tf.float32)\n",
    "\n",
    "    y_pred_reshaped = tf.reshape(y_pred, (-1, 2))  # Keras Regressor flattens the values, so they need to be reshaped\n",
    "\n",
    "\n",
    "    crps = crps_normal_cost_function_v3(y_true, y_pred_reshaped, tensor)\n",
    "    crps = crps.numpy()\n",
    "\n",
    "    return crps\n"
   ]
  },
  {
   "cell_type": "markdown",
   "metadata": {},
   "source": [
    "## Loading"
   ]
  },
  {
   "cell_type": "code",
   "execution_count": 24,
   "metadata": {},
   "outputs": [],
   "source": [
    "base_path = Path(r\"C:\\Users\\aisti\\OneDrive\\Dokumente\\Uni\\Bachelorarbeit\\Hyperparameter_Tuning_Ergebnisse\")"
   ]
  },
  {
   "cell_type": "code",
   "execution_count": 25,
   "metadata": {},
   "outputs": [],
   "source": [
    "file_name_grid_search = \"grid_search_tuned_v2.pkl\"\n",
    "file_path_grid_search = base_path / file_name_grid_search"
   ]
  },
  {
   "cell_type": "code",
   "execution_count": 26,
   "metadata": {},
   "outputs": [],
   "source": [
    "grid_search = joblib.load(str(file_path_grid_search))"
   ]
  },
  {
   "cell_type": "code",
   "execution_count": 27,
   "metadata": {},
   "outputs": [],
   "source": [
    "model = grid_search.best_estimator_"
   ]
  },
  {
   "cell_type": "code",
   "execution_count": 28,
   "metadata": {},
   "outputs": [],
   "source": [
    "cv_results = pd.DataFrame(grid_search.cv_results_)"
   ]
  },
  {
   "cell_type": "code",
   "execution_count": 29,
   "metadata": {},
   "outputs": [],
   "source": [
    "X = pd.concat([X_train, X_valid, X_test], axis=0)"
   ]
  },
  {
   "cell_type": "code",
   "execution_count": 30,
   "metadata": {},
   "outputs": [],
   "source": [
    "y = pd.concat([y_train, y_valid, y_test], axis=0)"
   ]
  },
  {
   "cell_type": "code",
   "execution_count": 31,
   "metadata": {},
   "outputs": [],
   "source": [
    "X = X.reset_index(drop=True)\n",
    "y = y.reset_index(drop=True)"
   ]
  },
  {
   "cell_type": "code",
   "execution_count": 32,
   "metadata": {},
   "outputs": [
    {
     "data": {
      "text/plain": [
       "((3915, 12), (3915,))"
      ]
     },
     "execution_count": 32,
     "metadata": {},
     "output_type": "execute_result"
    }
   ],
   "source": [
    "X.shape, y.shape"
   ]
  },
  {
   "cell_type": "code",
   "execution_count": 33,
   "metadata": {},
   "outputs": [],
   "source": [
    "my_scorer = make_scorer(crps_loss_function_wrapper, greater_is_better=False) "
   ]
  },
  {
   "cell_type": "code",
   "execution_count": 34,
   "metadata": {},
   "outputs": [
    {
     "data": {
      "text/html": [
       "<pre style=\"white-space:pre;overflow-x:auto;line-height:normal;font-family:Menlo,'DejaVu Sans Mono',consolas,'Courier New',monospace\"><span style=\"font-weight: bold\">Model: \"sequential\"</span>\n",
       "</pre>\n"
      ],
      "text/plain": [
       "\u001b[1mModel: \"sequential\"\u001b[0m\n"
      ]
     },
     "metadata": {},
     "output_type": "display_data"
    },
    {
     "data": {
      "text/html": [
       "<pre style=\"white-space:pre;overflow-x:auto;line-height:normal;font-family:Menlo,'DejaVu Sans Mono',consolas,'Courier New',monospace\">┏━━━━━━━━━━━━━━━━━━━━━━━━━━━━━━━━━┳━━━━━━━━━━━━━━━━━━━━━━━━┳━━━━━━━━━━━━━━━┓\n",
       "┃<span style=\"font-weight: bold\"> Layer (type)                    </span>┃<span style=\"font-weight: bold\"> Output Shape           </span>┃<span style=\"font-weight: bold\">       Param # </span>┃\n",
       "┡━━━━━━━━━━━━━━━━━━━━━━━━━━━━━━━━━╇━━━━━━━━━━━━━━━━━━━━━━━━╇━━━━━━━━━━━━━━━┩\n",
       "│ dense (<span style=\"color: #0087ff; text-decoration-color: #0087ff\">Dense</span>)                   │ (<span style=\"color: #00d7ff; text-decoration-color: #00d7ff\">None</span>, <span style=\"color: #00af00; text-decoration-color: #00af00\">128</span>)            │         <span style=\"color: #00af00; text-decoration-color: #00af00\">1,664</span> │\n",
       "├─────────────────────────────────┼────────────────────────┼───────────────┤\n",
       "│ dropout (<span style=\"color: #0087ff; text-decoration-color: #0087ff\">Dropout</span>)               │ (<span style=\"color: #00d7ff; text-decoration-color: #00d7ff\">None</span>, <span style=\"color: #00af00; text-decoration-color: #00af00\">128</span>)            │             <span style=\"color: #00af00; text-decoration-color: #00af00\">0</span> │\n",
       "├─────────────────────────────────┼────────────────────────┼───────────────┤\n",
       "│ dense_1 (<span style=\"color: #0087ff; text-decoration-color: #0087ff\">Dense</span>)                 │ (<span style=\"color: #00d7ff; text-decoration-color: #00d7ff\">None</span>, <span style=\"color: #00af00; text-decoration-color: #00af00\">128</span>)            │        <span style=\"color: #00af00; text-decoration-color: #00af00\">16,512</span> │\n",
       "├─────────────────────────────────┼────────────────────────┼───────────────┤\n",
       "│ dropout_1 (<span style=\"color: #0087ff; text-decoration-color: #0087ff\">Dropout</span>)             │ (<span style=\"color: #00d7ff; text-decoration-color: #00d7ff\">None</span>, <span style=\"color: #00af00; text-decoration-color: #00af00\">128</span>)            │             <span style=\"color: #00af00; text-decoration-color: #00af00\">0</span> │\n",
       "├─────────────────────────────────┼────────────────────────┼───────────────┤\n",
       "│ dense_2 (<span style=\"color: #0087ff; text-decoration-color: #0087ff\">Dense</span>)                 │ (<span style=\"color: #00d7ff; text-decoration-color: #00d7ff\">None</span>, <span style=\"color: #00af00; text-decoration-color: #00af00\">128</span>)            │        <span style=\"color: #00af00; text-decoration-color: #00af00\">16,512</span> │\n",
       "├─────────────────────────────────┼────────────────────────┼───────────────┤\n",
       "│ dropout_2 (<span style=\"color: #0087ff; text-decoration-color: #0087ff\">Dropout</span>)             │ (<span style=\"color: #00d7ff; text-decoration-color: #00d7ff\">None</span>, <span style=\"color: #00af00; text-decoration-color: #00af00\">128</span>)            │             <span style=\"color: #00af00; text-decoration-color: #00af00\">0</span> │\n",
       "├─────────────────────────────────┼────────────────────────┼───────────────┤\n",
       "│ dense_3 (<span style=\"color: #0087ff; text-decoration-color: #0087ff\">Dense</span>)                 │ (<span style=\"color: #00d7ff; text-decoration-color: #00d7ff\">None</span>, <span style=\"color: #00af00; text-decoration-color: #00af00\">128</span>)            │        <span style=\"color: #00af00; text-decoration-color: #00af00\">16,512</span> │\n",
       "├─────────────────────────────────┼────────────────────────┼───────────────┤\n",
       "│ dropout_3 (<span style=\"color: #0087ff; text-decoration-color: #0087ff\">Dropout</span>)             │ (<span style=\"color: #00d7ff; text-decoration-color: #00d7ff\">None</span>, <span style=\"color: #00af00; text-decoration-color: #00af00\">128</span>)            │             <span style=\"color: #00af00; text-decoration-color: #00af00\">0</span> │\n",
       "├─────────────────────────────────┼────────────────────────┼───────────────┤\n",
       "│ dense_4 (<span style=\"color: #0087ff; text-decoration-color: #0087ff\">Dense</span>)                 │ (<span style=\"color: #00d7ff; text-decoration-color: #00d7ff\">None</span>, <span style=\"color: #00af00; text-decoration-color: #00af00\">2</span>)              │           <span style=\"color: #00af00; text-decoration-color: #00af00\">258</span> │\n",
       "└─────────────────────────────────┴────────────────────────┴───────────────┘\n",
       "</pre>\n"
      ],
      "text/plain": [
       "┏━━━━━━━━━━━━━━━━━━━━━━━━━━━━━━━━━┳━━━━━━━━━━━━━━━━━━━━━━━━┳━━━━━━━━━━━━━━━┓\n",
       "┃\u001b[1m \u001b[0m\u001b[1mLayer (type)                   \u001b[0m\u001b[1m \u001b[0m┃\u001b[1m \u001b[0m\u001b[1mOutput Shape          \u001b[0m\u001b[1m \u001b[0m┃\u001b[1m \u001b[0m\u001b[1m      Param #\u001b[0m\u001b[1m \u001b[0m┃\n",
       "┡━━━━━━━━━━━━━━━━━━━━━━━━━━━━━━━━━╇━━━━━━━━━━━━━━━━━━━━━━━━╇━━━━━━━━━━━━━━━┩\n",
       "│ dense (\u001b[38;5;33mDense\u001b[0m)                   │ (\u001b[38;5;45mNone\u001b[0m, \u001b[38;5;34m128\u001b[0m)            │         \u001b[38;5;34m1,664\u001b[0m │\n",
       "├─────────────────────────────────┼────────────────────────┼───────────────┤\n",
       "│ dropout (\u001b[38;5;33mDropout\u001b[0m)               │ (\u001b[38;5;45mNone\u001b[0m, \u001b[38;5;34m128\u001b[0m)            │             \u001b[38;5;34m0\u001b[0m │\n",
       "├─────────────────────────────────┼────────────────────────┼───────────────┤\n",
       "│ dense_1 (\u001b[38;5;33mDense\u001b[0m)                 │ (\u001b[38;5;45mNone\u001b[0m, \u001b[38;5;34m128\u001b[0m)            │        \u001b[38;5;34m16,512\u001b[0m │\n",
       "├─────────────────────────────────┼────────────────────────┼───────────────┤\n",
       "│ dropout_1 (\u001b[38;5;33mDropout\u001b[0m)             │ (\u001b[38;5;45mNone\u001b[0m, \u001b[38;5;34m128\u001b[0m)            │             \u001b[38;5;34m0\u001b[0m │\n",
       "├─────────────────────────────────┼────────────────────────┼───────────────┤\n",
       "│ dense_2 (\u001b[38;5;33mDense\u001b[0m)                 │ (\u001b[38;5;45mNone\u001b[0m, \u001b[38;5;34m128\u001b[0m)            │        \u001b[38;5;34m16,512\u001b[0m │\n",
       "├─────────────────────────────────┼────────────────────────┼───────────────┤\n",
       "│ dropout_2 (\u001b[38;5;33mDropout\u001b[0m)             │ (\u001b[38;5;45mNone\u001b[0m, \u001b[38;5;34m128\u001b[0m)            │             \u001b[38;5;34m0\u001b[0m │\n",
       "├─────────────────────────────────┼────────────────────────┼───────────────┤\n",
       "│ dense_3 (\u001b[38;5;33mDense\u001b[0m)                 │ (\u001b[38;5;45mNone\u001b[0m, \u001b[38;5;34m128\u001b[0m)            │        \u001b[38;5;34m16,512\u001b[0m │\n",
       "├─────────────────────────────────┼────────────────────────┼───────────────┤\n",
       "│ dropout_3 (\u001b[38;5;33mDropout\u001b[0m)             │ (\u001b[38;5;45mNone\u001b[0m, \u001b[38;5;34m128\u001b[0m)            │             \u001b[38;5;34m0\u001b[0m │\n",
       "├─────────────────────────────────┼────────────────────────┼───────────────┤\n",
       "│ dense_4 (\u001b[38;5;33mDense\u001b[0m)                 │ (\u001b[38;5;45mNone\u001b[0m, \u001b[38;5;34m2\u001b[0m)              │           \u001b[38;5;34m258\u001b[0m │\n",
       "└─────────────────────────────────┴────────────────────────┴───────────────┘\n"
      ]
     },
     "metadata": {},
     "output_type": "display_data"
    },
    {
     "data": {
      "text/html": [
       "<pre style=\"white-space:pre;overflow-x:auto;line-height:normal;font-family:Menlo,'DejaVu Sans Mono',consolas,'Courier New',monospace\"><span style=\"font-weight: bold\"> Total params: </span><span style=\"color: #00af00; text-decoration-color: #00af00\">51,458</span> (201.01 KB)\n",
       "</pre>\n"
      ],
      "text/plain": [
       "\u001b[1m Total params: \u001b[0m\u001b[38;5;34m51,458\u001b[0m (201.01 KB)\n"
      ]
     },
     "metadata": {},
     "output_type": "display_data"
    },
    {
     "data": {
      "text/html": [
       "<pre style=\"white-space:pre;overflow-x:auto;line-height:normal;font-family:Menlo,'DejaVu Sans Mono',consolas,'Courier New',monospace\"><span style=\"font-weight: bold\"> Trainable params: </span><span style=\"color: #00af00; text-decoration-color: #00af00\">51,458</span> (201.01 KB)\n",
       "</pre>\n"
      ],
      "text/plain": [
       "\u001b[1m Trainable params: \u001b[0m\u001b[38;5;34m51,458\u001b[0m (201.01 KB)\n"
      ]
     },
     "metadata": {},
     "output_type": "display_data"
    },
    {
     "data": {
      "text/html": [
       "<pre style=\"white-space:pre;overflow-x:auto;line-height:normal;font-family:Menlo,'DejaVu Sans Mono',consolas,'Courier New',monospace\"><span style=\"font-weight: bold\"> Non-trainable params: </span><span style=\"color: #00af00; text-decoration-color: #00af00\">0</span> (0.00 B)\n",
       "</pre>\n"
      ],
      "text/plain": [
       "\u001b[1m Non-trainable params: \u001b[0m\u001b[38;5;34m0\u001b[0m (0.00 B)\n"
      ]
     },
     "metadata": {},
     "output_type": "display_data"
    },
    {
     "name": "stdout",
     "output_type": "stream",
     "text": [
      "Iteration: 218\n"
     ]
    },
    {
     "name": "stdout",
     "output_type": "stream",
     "text": [
      "Iteration: 219\n",
      "Iteration: 220\n"
     ]
    },
    {
     "data": {
      "text/html": [
       "<pre style=\"white-space:pre;overflow-x:auto;line-height:normal;font-family:Menlo,'DejaVu Sans Mono',consolas,'Courier New',monospace\"><span style=\"font-weight: bold\">Model: \"sequential_3\"</span>\n",
       "</pre>\n"
      ],
      "text/plain": [
       "\u001b[1mModel: \"sequential_3\"\u001b[0m\n"
      ]
     },
     "metadata": {},
     "output_type": "display_data"
    },
    {
     "data": {
      "text/html": [
       "<pre style=\"white-space:pre;overflow-x:auto;line-height:normal;font-family:Menlo,'DejaVu Sans Mono',consolas,'Courier New',monospace\">┏━━━━━━━━━━━━━━━━━━━━━━━━━━━━━━━━━┳━━━━━━━━━━━━━━━━━━━━━━━━┳━━━━━━━━━━━━━━━┓\n",
       "┃<span style=\"font-weight: bold\"> Layer (type)                    </span>┃<span style=\"font-weight: bold\"> Output Shape           </span>┃<span style=\"font-weight: bold\">       Param # </span>┃\n",
       "┡━━━━━━━━━━━━━━━━━━━━━━━━━━━━━━━━━╇━━━━━━━━━━━━━━━━━━━━━━━━╇━━━━━━━━━━━━━━━┩\n",
       "│ dense_15 (<span style=\"color: #0087ff; text-decoration-color: #0087ff\">Dense</span>)                │ (<span style=\"color: #00d7ff; text-decoration-color: #00d7ff\">None</span>, <span style=\"color: #00af00; text-decoration-color: #00af00\">128</span>)            │         <span style=\"color: #00af00; text-decoration-color: #00af00\">1,664</span> │\n",
       "├─────────────────────────────────┼────────────────────────┼───────────────┤\n",
       "│ dropout_12 (<span style=\"color: #0087ff; text-decoration-color: #0087ff\">Dropout</span>)            │ (<span style=\"color: #00d7ff; text-decoration-color: #00d7ff\">None</span>, <span style=\"color: #00af00; text-decoration-color: #00af00\">128</span>)            │             <span style=\"color: #00af00; text-decoration-color: #00af00\">0</span> │\n",
       "├─────────────────────────────────┼────────────────────────┼───────────────┤\n",
       "│ dense_16 (<span style=\"color: #0087ff; text-decoration-color: #0087ff\">Dense</span>)                │ (<span style=\"color: #00d7ff; text-decoration-color: #00d7ff\">None</span>, <span style=\"color: #00af00; text-decoration-color: #00af00\">128</span>)            │        <span style=\"color: #00af00; text-decoration-color: #00af00\">16,512</span> │\n",
       "├─────────────────────────────────┼────────────────────────┼───────────────┤\n",
       "│ dropout_13 (<span style=\"color: #0087ff; text-decoration-color: #0087ff\">Dropout</span>)            │ (<span style=\"color: #00d7ff; text-decoration-color: #00d7ff\">None</span>, <span style=\"color: #00af00; text-decoration-color: #00af00\">128</span>)            │             <span style=\"color: #00af00; text-decoration-color: #00af00\">0</span> │\n",
       "├─────────────────────────────────┼────────────────────────┼───────────────┤\n",
       "│ dense_17 (<span style=\"color: #0087ff; text-decoration-color: #0087ff\">Dense</span>)                │ (<span style=\"color: #00d7ff; text-decoration-color: #00d7ff\">None</span>, <span style=\"color: #00af00; text-decoration-color: #00af00\">128</span>)            │        <span style=\"color: #00af00; text-decoration-color: #00af00\">16,512</span> │\n",
       "├─────────────────────────────────┼────────────────────────┼───────────────┤\n",
       "│ dropout_14 (<span style=\"color: #0087ff; text-decoration-color: #0087ff\">Dropout</span>)            │ (<span style=\"color: #00d7ff; text-decoration-color: #00d7ff\">None</span>, <span style=\"color: #00af00; text-decoration-color: #00af00\">128</span>)            │             <span style=\"color: #00af00; text-decoration-color: #00af00\">0</span> │\n",
       "├─────────────────────────────────┼────────────────────────┼───────────────┤\n",
       "│ dense_18 (<span style=\"color: #0087ff; text-decoration-color: #0087ff\">Dense</span>)                │ (<span style=\"color: #00d7ff; text-decoration-color: #00d7ff\">None</span>, <span style=\"color: #00af00; text-decoration-color: #00af00\">128</span>)            │        <span style=\"color: #00af00; text-decoration-color: #00af00\">16,512</span> │\n",
       "├─────────────────────────────────┼────────────────────────┼───────────────┤\n",
       "│ dropout_15 (<span style=\"color: #0087ff; text-decoration-color: #0087ff\">Dropout</span>)            │ (<span style=\"color: #00d7ff; text-decoration-color: #00d7ff\">None</span>, <span style=\"color: #00af00; text-decoration-color: #00af00\">128</span>)            │             <span style=\"color: #00af00; text-decoration-color: #00af00\">0</span> │\n",
       "├─────────────────────────────────┼────────────────────────┼───────────────┤\n",
       "│ dense_19 (<span style=\"color: #0087ff; text-decoration-color: #0087ff\">Dense</span>)                │ (<span style=\"color: #00d7ff; text-decoration-color: #00d7ff\">None</span>, <span style=\"color: #00af00; text-decoration-color: #00af00\">2</span>)              │           <span style=\"color: #00af00; text-decoration-color: #00af00\">258</span> │\n",
       "└─────────────────────────────────┴────────────────────────┴───────────────┘\n",
       "</pre>\n"
      ],
      "text/plain": [
       "┏━━━━━━━━━━━━━━━━━━━━━━━━━━━━━━━━━┳━━━━━━━━━━━━━━━━━━━━━━━━┳━━━━━━━━━━━━━━━┓\n",
       "┃\u001b[1m \u001b[0m\u001b[1mLayer (type)                   \u001b[0m\u001b[1m \u001b[0m┃\u001b[1m \u001b[0m\u001b[1mOutput Shape          \u001b[0m\u001b[1m \u001b[0m┃\u001b[1m \u001b[0m\u001b[1m      Param #\u001b[0m\u001b[1m \u001b[0m┃\n",
       "┡━━━━━━━━━━━━━━━━━━━━━━━━━━━━━━━━━╇━━━━━━━━━━━━━━━━━━━━━━━━╇━━━━━━━━━━━━━━━┩\n",
       "│ dense_15 (\u001b[38;5;33mDense\u001b[0m)                │ (\u001b[38;5;45mNone\u001b[0m, \u001b[38;5;34m128\u001b[0m)            │         \u001b[38;5;34m1,664\u001b[0m │\n",
       "├─────────────────────────────────┼────────────────────────┼───────────────┤\n",
       "│ dropout_12 (\u001b[38;5;33mDropout\u001b[0m)            │ (\u001b[38;5;45mNone\u001b[0m, \u001b[38;5;34m128\u001b[0m)            │             \u001b[38;5;34m0\u001b[0m │\n",
       "├─────────────────────────────────┼────────────────────────┼───────────────┤\n",
       "│ dense_16 (\u001b[38;5;33mDense\u001b[0m)                │ (\u001b[38;5;45mNone\u001b[0m, \u001b[38;5;34m128\u001b[0m)            │        \u001b[38;5;34m16,512\u001b[0m │\n",
       "├─────────────────────────────────┼────────────────────────┼───────────────┤\n",
       "│ dropout_13 (\u001b[38;5;33mDropout\u001b[0m)            │ (\u001b[38;5;45mNone\u001b[0m, \u001b[38;5;34m128\u001b[0m)            │             \u001b[38;5;34m0\u001b[0m │\n",
       "├─────────────────────────────────┼────────────────────────┼───────────────┤\n",
       "│ dense_17 (\u001b[38;5;33mDense\u001b[0m)                │ (\u001b[38;5;45mNone\u001b[0m, \u001b[38;5;34m128\u001b[0m)            │        \u001b[38;5;34m16,512\u001b[0m │\n",
       "├─────────────────────────────────┼────────────────────────┼───────────────┤\n",
       "│ dropout_14 (\u001b[38;5;33mDropout\u001b[0m)            │ (\u001b[38;5;45mNone\u001b[0m, \u001b[38;5;34m128\u001b[0m)            │             \u001b[38;5;34m0\u001b[0m │\n",
       "├─────────────────────────────────┼────────────────────────┼───────────────┤\n",
       "│ dense_18 (\u001b[38;5;33mDense\u001b[0m)                │ (\u001b[38;5;45mNone\u001b[0m, \u001b[38;5;34m128\u001b[0m)            │        \u001b[38;5;34m16,512\u001b[0m │\n",
       "├─────────────────────────────────┼────────────────────────┼───────────────┤\n",
       "│ dropout_15 (\u001b[38;5;33mDropout\u001b[0m)            │ (\u001b[38;5;45mNone\u001b[0m, \u001b[38;5;34m128\u001b[0m)            │             \u001b[38;5;34m0\u001b[0m │\n",
       "├─────────────────────────────────┼────────────────────────┼───────────────┤\n",
       "│ dense_19 (\u001b[38;5;33mDense\u001b[0m)                │ (\u001b[38;5;45mNone\u001b[0m, \u001b[38;5;34m2\u001b[0m)              │           \u001b[38;5;34m258\u001b[0m │\n",
       "└─────────────────────────────────┴────────────────────────┴───────────────┘\n"
      ]
     },
     "metadata": {},
     "output_type": "display_data"
    },
    {
     "data": {
      "text/html": [
       "<pre style=\"white-space:pre;overflow-x:auto;line-height:normal;font-family:Menlo,'DejaVu Sans Mono',consolas,'Courier New',monospace\"><span style=\"font-weight: bold\"> Total params: </span><span style=\"color: #00af00; text-decoration-color: #00af00\">51,458</span> (201.01 KB)\n",
       "</pre>\n"
      ],
      "text/plain": [
       "\u001b[1m Total params: \u001b[0m\u001b[38;5;34m51,458\u001b[0m (201.01 KB)\n"
      ]
     },
     "metadata": {},
     "output_type": "display_data"
    },
    {
     "data": {
      "text/html": [
       "<pre style=\"white-space:pre;overflow-x:auto;line-height:normal;font-family:Menlo,'DejaVu Sans Mono',consolas,'Courier New',monospace\"><span style=\"font-weight: bold\"> Trainable params: </span><span style=\"color: #00af00; text-decoration-color: #00af00\">51,458</span> (201.01 KB)\n",
       "</pre>\n"
      ],
      "text/plain": [
       "\u001b[1m Trainable params: \u001b[0m\u001b[38;5;34m51,458\u001b[0m (201.01 KB)\n"
      ]
     },
     "metadata": {},
     "output_type": "display_data"
    },
    {
     "data": {
      "text/html": [
       "<pre style=\"white-space:pre;overflow-x:auto;line-height:normal;font-family:Menlo,'DejaVu Sans Mono',consolas,'Courier New',monospace\"><span style=\"font-weight: bold\"> Non-trainable params: </span><span style=\"color: #00af00; text-decoration-color: #00af00\">0</span> (0.00 B)\n",
       "</pre>\n"
      ],
      "text/plain": [
       "\u001b[1m Non-trainable params: \u001b[0m\u001b[38;5;34m0\u001b[0m (0.00 B)\n"
      ]
     },
     "metadata": {},
     "output_type": "display_data"
    },
    {
     "name": "stdout",
     "output_type": "stream",
     "text": [
      "Iteration: 221\n",
      "Iteration: 222\n",
      "Cross-validation scores:  [-396.36398315 -442.4692688  -388.97354126 -432.44140625 -382.56668091]\n",
      "Mean score:  -408.56297607421874\n"
     ]
    }
   ],
   "source": [
    "scores = cross_val_score(model, X, y, cv=5, scoring=my_scorer)\n",
    "\n",
    "print(\"Cross-validation scores: \", scores)\n",
    "print(\"Mean score: \", scores.mean())"
   ]
  },
  {
   "cell_type": "code",
   "execution_count": 35,
   "metadata": {},
   "outputs": [],
   "source": [
    "scores = -scores "
   ]
  },
  {
   "cell_type": "code",
   "execution_count": 36,
   "metadata": {},
   "outputs": [
    {
     "name": "stdout",
     "output_type": "stream",
     "text": [
      "Cross-validation scores:  [396.36398315 442.4692688  388.97354126 432.44140625 382.56668091]\n"
     ]
    }
   ],
   "source": [
    "print(\"Cross-validation scores: \", scores)"
   ]
  },
  {
   "cell_type": "code",
   "execution_count": 37,
   "metadata": {},
   "outputs": [
    {
     "name": "stdout",
     "output_type": "stream",
     "text": [
      "Mean Score: 408.56\n",
      "Standard Deviation: 24.20\n"
     ]
    }
   ],
   "source": [
    "mean_score = np.mean(scores)\n",
    "std_dev_score = np.std(scores)\n",
    "print(f\"Mean Score: {mean_score:.2f}\")\n",
    "print(f\"Standard Deviation: {std_dev_score:.2f}\")"
   ]
  },
  {
   "cell_type": "code",
   "execution_count": 38,
   "metadata": {},
   "outputs": [
    {
     "name": "stdout",
     "output_type": "stream",
     "text": [
      "\u001b[1m13/13\u001b[0m \u001b[32m━━━━━━━━━━━━━━━━━━━━\u001b[0m\u001b[37m\u001b[0m \u001b[1m0s\u001b[0m 16ms/step\n",
      "\n",
      "Mean CRPS: 315.84538516468314\n"
     ]
    }
   ],
   "source": [
    "mean_crps, predicted_mean_std, crps_values = predict_and_calculate_mean_crps(model.model_, X_test, y_test, print_predicted_mean_std = False)"
   ]
  },
  {
   "cell_type": "code",
   "execution_count": 39,
   "metadata": {},
   "outputs": [
    {
     "data": {
      "image/png": "[encoded data removed]",
      "text/plain": [
       "<Figure size 1000x600 with 1 Axes>"
      ]
     },
     "metadata": {},
     "output_type": "display_data"
    }
   ],
   "source": [
    "plt.figure(figsize=(10, 6))\n",
    "plt.boxplot(scores)\n",
    "plt.title('Distribution of Cross-Validation Scores')\n",
    "plt.ylabel('Score')\n",
    "plt.xticks([1], ['Model'])\n",
    "plt.show()"
   ]
  },
  {
   "cell_type": "code",
   "execution_count": 40,
   "metadata": {},
   "outputs": [
    {
     "name": "stdout",
     "output_type": "stream",
     "text": [
      "95% Confidence Interval: 408.56 ± 30.05\n",
      "(378.51, 438.61)\n"
     ]
    }
   ],
   "source": [
    "confidence_level = 0.95\n",
    "degrees_of_freedom = len(scores) - 1\n",
    "t_value = stats.t.ppf((1 + confidence_level) / 2, degrees_of_freedom)\n",
    "margin_of_error = t_value * (std_dev_score / np.sqrt(len(scores)))\n",
    "\n",
    "print(f\"95% Confidence Interval: {mean_score:.2f} ± {margin_of_error:.2f}\")\n",
    "print(f\"({mean_score - margin_of_error:.2f}, {mean_score + margin_of_error:.2f})\")"
   ]
  },
  {
   "cell_type": "code",
   "execution_count": 41,
   "metadata": {},
   "outputs": [
    {
     "name": "stdout",
     "output_type": "stream",
     "text": [
      "Mean Score: 408.56\n",
      "Standard Deviation: 24.20\n",
      "\n",
      "Comparison with previous results:\n",
      "Current Mean ± Std: 408.56 ± 24.20\n",
      "Previous Mean ± Std: 466.92 ± 50.64\n"
     ]
    }
   ],
   "source": [
    "previous_mean = -np.mean(grid_search.cv_results_['mean_test_score'])\n",
    "previous_std = np.std(grid_search.cv_results_['mean_test_score'])\n",
    "print(f\"Mean Score: {mean_score:.2f}\")\n",
    "print(f\"Standard Deviation: {std_dev_score:.2f}\")\n",
    "\n",
    "print(\"\\nComparison with previous results:\")\n",
    "print(f\"Current Mean ± Std: {mean_score:.2f} ± {std_dev_score:.2f}\")\n",
    "print(f\"Previous Mean ± Std: {previous_mean:.2f} ± {previous_std:.2f}\")\n"
   ]
  },
  {
   "cell_type": "code",
   "execution_count": 42,
   "metadata": {},
   "outputs": [
    {
     "data": {
      "text/plain": [
       "array([527.81092326, 527.50664266, 531.5739034 , 532.5889384 ,\n",
       "       521.11167399, 522.09142049, 527.88577271, 528.04701742,\n",
       "       421.79639689, 426.71251424, 454.14241536, 442.17093913,\n",
       "       408.50320435, 404.82141113, 416.96654256, 418.78400675,\n",
       "       437.45043945, 436.56872559, 422.6465861 , 432.76996867,\n",
       "       485.81355794, 478.12047323, 453.89053345, 458.41199748,\n",
       "       525.82796224, 527.03809611, 535.87536621, 536.50613403,\n",
       "       523.0592041 , 520.73297119, 529.68971761, 527.85976156,\n",
       "       422.65522257, 422.73381551, 440.34291585, 435.28888957,\n",
       "       411.8507487 , 418.60920207, 426.26471965, 422.41987101,\n",
       "       398.88142904, 420.7979126 , 422.80169678, 396.96565755,\n",
       "       416.51163737, 405.80487061, 406.78063965, 415.00098674,\n",
       "       531.90408325, 532.11810303, 546.74045817, 546.89560954,\n",
       "       524.06397502, 523.20621745, 531.97706095, 532.24121094,\n",
       "       517.16508993, 525.73240153, 484.71343994, 489.56643677,\n",
       "       419.86132812, 421.50868734, 431.92353312, 428.9604187 ,\n",
       "       457.39228312, 447.25954183, 464.91775513, 468.5366923 ,\n",
       "       407.33885701, 401.29874674, 410.21810913, 444.29669189])"
      ]
     },
     "execution_count": 42,
     "metadata": {},
     "output_type": "execute_result"
    }
   ],
   "source": [
    "-grid_search.cv_results_['mean_test_score']"
   ]
  },
  {
   "cell_type": "code",
   "execution_count": 43,
   "metadata": {},
   "outputs": [],
   "source": [
    "cv_results = pd.DataFrame(grid_search.cv_results_).sort_values('rank_test_score', ascending=True)"
   ]
  },
  {
   "cell_type": "code",
   "execution_count": 44,
   "metadata": {},
   "outputs": [
    {
     "data": {
      "text/plain": [
       "43    396.965658\n",
       "40    398.881429\n",
       "69    401.298747\n",
       "13    404.821411\n",
       "45    405.804871\n",
       "Name: mean_test_score, dtype: float64"
      ]
     },
     "execution_count": 44,
     "metadata": {},
     "output_type": "execute_result"
    }
   ],
   "source": [
    "-cv_results['mean_test_score'].head()"
   ]
  },
  {
   "cell_type": "code",
   "execution_count": 45,
   "metadata": {},
   "outputs": [
    {
     "data": {
      "text/plain": [
       "3     532.588938\n",
       "26    535.875366\n",
       "27    536.506134\n",
       "50    546.740458\n",
       "51    546.895610\n",
       "Name: mean_test_score, dtype: float64"
      ]
     },
     "execution_count": 45,
     "metadata": {},
     "output_type": "execute_result"
    }
   ],
   "source": [
    "-cv_results['mean_test_score'].tail()"
   ]
  },
  {
   "cell_type": "code",
   "execution_count": 46,
   "metadata": {},
   "outputs": [
    {
     "data": {
      "image/png": "[encoded data removed]",
      "text/plain": [
       "<Figure size 1000x600 with 1 Axes>"
      ]
     },
     "metadata": {},
     "output_type": "display_data"
    }
   ],
   "source": [
    "plt.figure(figsize=(10, 6))\n",
    "plt.boxplot(-grid_search.cv_results_['mean_test_score'])\n",
    "plt.title('Distribution of Cross-Validation Scores')\n",
    "plt.ylabel('Score')\n",
    "plt.xticks([1], ['Model'])  # Setting the x-tick label for one model\n",
    "plt.show()"
   ]
  },
  {
   "cell_type": "code",
   "execution_count": null,
   "metadata": {},
   "outputs": [],
   "source": []
  }
 ],
 "metadata": {
  "kernelspec": {
   "display_name": "base",
   "language": "python",
   "name": "python3"
  },
  "language_info": {
   "codemirror_mode": {
    "name": "ipython",
    "version": 3
   },
   "file_extension": ".py",
   "mimetype": "text/x-python",
   "name": "python",
   "nbconvert_exporter": "python",
   "pygments_lexer": "ipython3",
   "version": "3.12.7"
  }
 },
 "nbformat": 4,
 "nbformat_minor": 2
}
